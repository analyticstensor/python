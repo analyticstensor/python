{
 "cells": [
  {
   "cell_type": "markdown",
   "metadata": {},
   "source": [
    "# 1. Chapter 1: Introduction to Application Design and Python"
   ]
  },
  {
   "cell_type": "markdown",
   "metadata": {},
   "source": [
    "### Audience of this course:\n",
    " - Data Analyst\n",
    " - Data Engineer\n",
    " - Data Scientist\n",
    " - Python Beginner\n",
    " \n",
    "Instructor: Mahesh KC  \n",
    "Email: <a href=\"mailto:mahesh.kc@analyticstensor.com\" target=\"_blank\">mahesh.kc@analyticstensor.com</a>  \n",
    "Duration: 5-6 weeks (2 hrs/week)  \n",
    "Time: Saturday 10 AM - 12 PM  \n",
    "Teaching Format: Onsite, Online (Assignment Help)  \n",
    "Recommendation: I highly recommend to take Spark class if you intend to choose your career in Big Data Analytics.  \n",
    "Pre-requisities:  \n",
    "  *  Required: Window, MacOS or Linux OS machine to install software( Anaconda, Pycharm); GitHub Account    \n",
    "  *  Optional: AWS/Azure Account, Databrick Account    \n",
    "  \n",
    "<a href=\"https://analyticstensor.com/training/\" target=\"_blank\">Course Login (For assignment)</a>  \n",
    "<a href=\"https://github.com/analyticstensor/python\" target=\"_blank\"> GitHub (For course materials) </a>  \n",
    "<a href=\"mailto:info@analyticstensor.com\" target=\"_blank\">Online Support Email (For all others support and comments)</a>  \n",
    "      \n",
    "`Note: For certification participant should complete the course materials with instructor and finish all assignment and project.`\n",
    "\n"
   ]
  },
  {
   "cell_type": "markdown",
   "metadata": {},
   "source": [
    "#### 1.1 Overview of Course\n",
    "1. Chapter 1: Introduction to Application Design and Python  \n",
    "    1.1 Overview of Course  \n",
    "    1.2 Object Oriented Design  \n",
    "    1.3 Python  \n",
    "    1.4 Python Library  \n",
    "    1.5 Python External Library  \n",
    "    1.6 Big Data  \n",
    "    1.7 Artificial Intelligence  \n",
    "    1.8 Anaconda Distribution  \n",
    "    1.9 Python Installation  \n",
    "2. Chapter 2: Introduction to Python Programming  \n",
    "    2.1 Variables  \n",
    "    2.2 Operators  \n",
    "    2.3 Operator Precedence  \n",
    "    2.4 Data Types  \n",
    "    2.5 Assignment Statements  \n",
    "    2.6 Comments  \n",
    "    2.7 Escape Sequences  \n",
    "    2.8 Strings  \n",
    "    2.9 Keywords  \n",
    "    Data Analytics   \n",
    "3. Chapter 3: Control Statements  \n",
    "    3.1 Control Statements  \n",
    "    3.2 if statement  \n",
    "    3.3 if-else Statement  \n",
    "    3.4 Nested if-else Statement  \n",
    "    3.5 while Statement  \n",
    "    3.6 for statement  \n",
    "    3.7 break and continue Statement  \n",
    "    3.8 Formatted Strings  \n",
    "    Data Analytics   \n",
    "4. Chapter 4: Functions  \n",
    "    4.1 Functions  \n",
    "    4.2 User defined Functions  \n",
    "    4.3 Module  \n",
    "    4.4 Recursion  \n",
    "    4.5 Lambda  \n",
    "    4.6 Comments  \n",
    "    Data Analytics     \n",
    "5. Chapter 5: Data Structure  \n",
    "    5.1 Lists  \n",
    "    5.2 Tuples  \n",
    "    5.3 Slicing  \n",
    "    5.4 Sorting  \n",
    "    5.5 Searching  \n",
    "    5.6 Dictionary  \n",
    "    5.7 Sets  \n",
    "    Data Analytics      \n",
    "6. Chapter 6: Classes  \n",
    "    6.1 Class  \n",
    "    6.2 Inheritance  \n",
    "    6.3 Encapsulation  \n",
    "    6.4 Polymorphism  \n",
    "    6.5 Object  \n",
    "    6.6 Instance Attributes  \n",
    "    6.7 Class Attributes  \n",
    "    6.8 Class Decorators  \n",
    "    6.9 Overriding Methods  \n",
    "    Data Analytics     \n",
    "7. Chapter 7: File and Exception Handling  \n",
    "    7.1 File Processing  \n",
    "    7.2 JSON File  \n",
    "    7.3 Serialization and Deserialization  \n",
    "    7.4 Exception Handling  \n",
    "    7.5 try Statements  \n",
    "    7.6 try-except-finally Clause  \n",
    "    Data Analytics  \n",
    "    \n",
    "**Project**  "
   ]
  },
  {
   "cell_type": "markdown",
   "metadata": {},
   "source": [
    "#### 1.2 Object Oriented Design\n",
    "\n",
    "What is object oriented desing? \n",
    "Benefit of OOPs  \n",
    "Terminology: Interface, Abstract Class, Concret Class, Method, Instantiation, Inheritance, Polymorphism, Encapsulation  "
   ]
  },
  {
   "cell_type": "markdown",
   "metadata": {},
   "source": [
    "#### 1.3 Python\n",
    "Python$^1$ is one of world mostly used computer programming language. Python is a high level object oriented scripting language released in 1991. It was developed by Guido van Rossum in Amsterdam. Python is now becoming one of most popular programming language. It has been heavily adopted in educational, engineering, analytics and scienctific purpose as well as business and economics for designing enterprise application. According to Tiobe$^2$, Python is on top 3 among all the programming language. There are various reasons for the popularity of python such as:  \n",
    "-  Open source, free of charge with large open-source supporting community.  \n",
    "-  Easier to learn compared to C, C++, Java and .Net  \n",
    "-  Easier to read  \n",
    "-  Extensive standard libraries and third party open-source libarires.   \n",
    "-  Support concurrency with asyncio and async/await  \n",
    "-  Used to build app like Youtube, Instagram, Dropbox, Reddit etc.\n",
    "-  Popular in ML and AI for Natural Language Processing, Speech Recognition, Vision and Image Recoginition.  \n",
    "-  Programmer are highly paid for data engineering and data scientist jobs.  \n",
    "-  Gained popularity in statistical and visualization application compared to R.\n",
    "-  Supports web development like Django and Flask.  "
   ]
  },
  {
   "cell_type": "markdown",
   "metadata": {},
   "source": [
    "#### 1.3.1 The Zen of Python\n",
    "The Zen of Python by Tim Peters explains the principles of Python in Python Enhancement Proposal (PEP) 20. It can be view with **import this**. <a href=\"https://www.python.org/dev/peps/\" target=\"_blank\"> PEP </a> is a document that describes the feature of Python and its processes or environment. PEP numbers are assigned by PEP editors.  "
   ]
  },
  {
   "cell_type": "code",
   "execution_count": 1,
   "metadata": {
    "scrolled": true
   },
   "outputs": [
    {
     "name": "stdout",
     "output_type": "stream",
     "text": [
      "The Zen of Python, by Tim Peters\n",
      "\n",
      "Beautiful is better than ugly.\n",
      "Explicit is better than implicit.\n",
      "Simple is better than complex.\n",
      "Complex is better than complicated.\n",
      "Flat is better than nested.\n",
      "Sparse is better than dense.\n",
      "Readability counts.\n",
      "Special cases aren't special enough to break the rules.\n",
      "Although practicality beats purity.\n",
      "Errors should never pass silently.\n",
      "Unless explicitly silenced.\n",
      "In the face of ambiguity, refuse the temptation to guess.\n",
      "There should be one-- and preferably only one --obvious way to do it.\n",
      "Although that way may not be obvious at first unless you're Dutch.\n",
      "Now is better than never.\n",
      "Although never is often better than *right* now.\n",
      "If the implementation is hard to explain, it's a bad idea.\n",
      "If the implementation is easy to explain, it may be a good idea.\n",
      "Namespaces are one honking great idea -- let's do more of those!\n"
     ]
    }
   ],
   "source": [
    "import this"
   ]
  },
  {
   "cell_type": "markdown",
   "metadata": {},
   "source": [
    "#### 1.4 Python Libraries\n",
    "Python has very rich standard library providing functionality for data persistence, functional programming, concurrent programming, text processing, operating-system services, file system manipulation, compression, networking protocols, GUI, IPC, etc. Some of the popular libraries include:- collections, datetime, json, math, os, re, string, sys. More detail about libraries can be found on <a href=\"https://docs.python.org/3/library/\" target=\"_blank\">  Python Standard Library </a>  \n",
    "\n",
    "#### 1.5 Python External Libaries  \n",
    "Python supports various open-source packages/libaries for data analytics and data sciences. Those libraries are used in data analysis and manipulation, data visualization, scientific computing and statistics, natural language processing, machine learning, deep learning, reinforcement learning, web application, web services and many more. \n",
    "\n",
    "List of open-source external packages:   \n",
    "-  <a href=\"https://www.sqlalchemy.org/\">SQLAlchemy</a>\n",
    "-  <a href=\"https://pandas.pydata.org/\" target=\"_blank\">Pandas</a>\n",
    "-  <a href=\"https://matplotlib.org/\" target=\"_blank\">Matplotlib</a>\n",
    "-  <a href=\"https://seaborn.pydata.org/\" target=\"_blank\">Seaborn</a>\n",
    "-  <a href=\"https://numpy.org/\" target=\"_blank\">NumPy</a>\n",
    "-  <a href=\"https://www.scipy.org/\" target=\"_blank\">SciPy</a>\n",
    "-  <a href=\"https://www.statsmodels.org/stable/index.html\" target=\"_blank\">StatsModels</a>\n",
    "-  <a href=\"https://www.nltk.org/\" target=\"_blank\">NLTK</a>\n",
    "-  <a href=\"https://radimrehurek.com/gensim/\" target=\"_blank\">Gensim</a>\n",
    "-  <a href=\"https://textblob.readthedocs.io/en/dev/\" target=\"_blank\">TextBlob</a>\n",
    "-  <a href=\"https://spacy.io/\" target=\"_blank\">Spacy</a>\n",
    "-  <a href=\"https://scikit-learn.org/stable/\" target=\"_blank\">Scikit-learn</a>\n",
    "-  <a href=\"https://scikit-learn.org/stable/\" target=\"_blank\">Keras</a>\n",
    "-  <a href=\"https://opencv.org/\" target=\"_blank\">OpenCV</a>\n",
    "-  <a href=\"https://www.tensorflow.org/\" target=\"_blank\">TensorFlow</a>\n",
    "-  <a href=\"https://pytorch.org/\" target=\"_blank\">PyTorch</a>\n",
    "-  <a href=\"https://gym.openai.com/\" target=\"_blank\">Openaigym</a>\n",
    "-  <a href=\"https://www.astropy.org/\" target=\"_blank\">Astropy</a>\n",
    "-  <a href=\"https://djangopackages.org/\" target=\"_blank\">Django</a>\n",
    "-  <a href=\"https://flask.palletsprojects.com/en/1.1.x/\" target=\"_blank\">Flask</a>"
   ]
  },
  {
   "cell_type": "markdown",
   "metadata": {},
   "source": [
    "#### 1.6 Big Data\n",
    "Since this is not a big data class, I'll just explain basic concept of big data. The dimension of big data is defined by 3 Vs namely volume, velocity and variety.\n",
    "    1. Volume: It defines the size of data.  \n",
    "    2. Velocity: It defines the speed or frequency of data.  \n",
    "    3. Variety: It defines the types of data.\n",
    "    4. Veracity: It defines the validity(accuracy) of data.\n",
    "\n",
    "According to [Analytics Tensor](https://analyticstensor.com) CEO, Mahesh KC, \"Big Data Solution is the framework for processing large amount of structure, semi-structure and unstructured data in multi node cluster by utilizing parallelism for reducing processing time and making quick decision to solve any business problem.\" He recommend to read the <a href=\"https://eng.uber.com/uber-big-data-platform/\" target=\"_blank\">Uber$^3$</a> blog for anyone who want to purse their career on big data analytics.    \n",
    "\n",
    "**Needs of Big Data**: Big Tech companies utilize big data to solve the business problems. Let's take a look on the figure for the needs of big data. Domo$^4$ has collected the metrics of data usage per minutes. ![Figure 1](https://web-assets.domo.com/blog/wp-content/uploads/2018/06/18-domo-data-never-sleeps-6.png) Figure 1: Data flow per minutes (Image Source: Domo)\n",
    "\n",
    "**Big Data Vendor**:\n",
    "-  Cloudera/Hortonworks\n",
    "-  MapR\n",
    "-  AmazonEMR\n",
    "-  HDInsight\n",
    "-  Databricks \n",
    "\n",
    "**Big Data Platform**:\n",
    "The figure 2 shows the Hortonworks$^5$ data platform.![Hortonworks Data Platform (HDP)](https://2xbbhjxc6wk3v21p62t8n4d4-wpengine.netdna-ssl.com/wp-content/uploads/2018/10/Hortonworks-3.0-On-Premise-Architecture-V3.png) Figure 2: HDP Data Platform (Image Source: Hortonworks)\n",
    "\n",
    "**Origin of Big Data**: After the release of Google's Mapreduce$^6$ paper in December 2004, Doug Cutting introduced Hadoop$^7$. Hadoop is an open-source software to process large amount of data in distributed fashion. You can freely <a href=\"https://hadoop.apache.org/releases.html\" target=\"_blank\"> download</a> hadoop which is now mantained by Apache Software Foundation. There are several Hadoop component which resides under Hadoop ecosystem such as Ambari, Hive, Hbase, Nifi, Pig, Spark, Tez, Zookeeper etc.  "
   ]
  },
  {
   "cell_type": "markdown",
   "metadata": {},
   "source": [
    "#### 1.7 Artificial Intelligence\n",
    "The technology has shifted from human interaction/manual process to Machine Learning and Artificial Intelligence. Engineers and Scientists want to deploy their model to solve real world problem by utilizing big data toolset. ML/AI helps to reduce the solve complex problem which cannot be easily solve by human being. It also helps to reduce error by using probability and  statistical inference. The mature model heavily depends on historical and large dataset for maximizing the accuracy.\n",
    "\n",
    "**Project on Data Science**:\n",
    "Some project includes: Purchase Recommendation, Insurance Pricing, Weather Forecating, Traffic Pattern Detection, Stock Market Forecasting, Crime Prediction, Sentiment Analysis, Speech Recognition, Facial Recognition, ChatBot, Medical Image Analysis, Self-Driving Car, Human Carrying Drone."
   ]
  },
  {
   "cell_type": "markdown",
   "metadata": {},
   "source": [
    "#### 1.9 Cloud\n",
    "Cloud Services is composed of three models:    \n",
    "    1. Infrastructure as a Services (IaaS): Rackspace, Amazon WebServices (AWS), Microsoft Azure, Google Compute Engine (GCE)\n",
    "    2. Platform as a Services (PaaS): Openshift, AWS Elastic Beanstalk, Windows Azure, Google App Engine\n",
    "    3. Software as a Services (SaaS): Salesforce, Cisco WebEx, GoToMeeting, Dropbox, Google Apps\n",
    "Each platform has its own pros/cons. Choosing the best platform will helps to save both time and money.  \n",
    "Figure 3 shows the cloud services models.  \n",
    "\n",
    "![CloudServices](CloudServices.png)\n",
    "\n",
    "Figure 3: Cloud Services  (Image Source: Analytics Tensor)"
   ]
  },
  {
   "cell_type": "markdown",
   "metadata": {},
   "source": [
    "**Demo on Amazon Web Services**\n",
    "- Login to AWS Console.  \n",
    "    - Show all the services (S2, Route53, IAM).  \n",
    "- Instantiate EC2.  \n",
    "- Login to remote machine.  \n",
    "- Login to JupyterHub.  \n",
    "- Create users for JupyterHub account in Linux.  "
   ]
  },
  {
   "cell_type": "markdown",
   "metadata": {},
   "source": [
    "#### 1.8 Anaconda Distribution\n",
    "Anaconda$^8$ is an environment and packager manager for Python data science distribution. More than 200 packages are installed with Anaconda. Figure 4 shows the some commonly used packages in Anaconda. ![Anaconda Package](https://www.anaconda.com/wp-content/uploads/2018/11/distro-01-1.png)\n",
    "Figure 4: Anaconda Packages (Image Source: Anaconda)  \n",
    "\n",
    "**Installing Anaconda**: Follow the instruction <a href=\"https://docs.anaconda.com/anaconda/install/\" target=\"_blank\"> instruction </a> to install anaconda distribution.  "
   ]
  },
  {
   "cell_type": "markdown",
   "metadata": {},
   "source": [
    "References  \n",
    "$^1$ https://www.python.org  \n",
    "$^2$ https://www.tiobe.com/tiobe-index/  \n",
    "$^3$ https://www.uber.com  \n",
    "$^4$ https://www.domo.com  \n",
    "$^5$ https://hortonworks.com  \n",
    "$^6$ https://static.googleusercontent.com/media/research.google.com/en//archive/mapreduce-osdi04.pdf  \n",
    "$^7$ https://hadoop.apache.org  \n",
    "$^8$ https://www.anaconda.com  "
   ]
  }
 ],
 "metadata": {
  "kernelspec": {
   "display_name": "Python 3",
   "language": "python",
   "name": "python3"
  },
  "language_info": {
   "codemirror_mode": {
    "name": "ipython",
    "version": 3
   },
   "file_extension": ".py",
   "mimetype": "text/x-python",
   "name": "python",
   "nbconvert_exporter": "python",
   "pygments_lexer": "ipython3",
   "version": "3.7.3"
  }
 },
 "nbformat": 4,
 "nbformat_minor": 2
}
