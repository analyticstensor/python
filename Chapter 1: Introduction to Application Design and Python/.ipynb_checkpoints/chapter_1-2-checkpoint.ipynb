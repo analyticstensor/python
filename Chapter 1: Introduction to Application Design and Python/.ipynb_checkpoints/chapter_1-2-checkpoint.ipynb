{
 "cells": [
  {
   "cell_type": "markdown",
   "metadata": {},
   "source": [
    "# Chapter 1: Introduction to Application Design and Python\n",
    "***\n",
    "** [1.1 Overview of Course](#1.1-overview-of-course)**\n",
    "**[1.2 Object Oriented Design](#1.2-object-oriented-design)**\n",
    "### [1.3 Python](#1.3-python)\n",
    "### [1.4 Python Standard Library](#1.4-python-standard-libary)\n",
    "### [1.5 Data Analytics Library](#1.5-data-analytics-library)\n",
    "### [1.6 Big Data](#1.6-big-data)\n",
    "### [1.7 Artificial Intelligence](#1.7-artificial-intelligence)\n",
    "### [1.8 Anaconda Distribution](#1.8-anaconda-distribution)\n",
    "### [1.9 Python Installation](#1.9-python-installation)\n",
    "***"
   ]
  },
  {
   "cell_type": "markdown",
   "metadata": {},
   "source": [
    "### 1.1 Overview of Course\n",
    "<a id=\"1.1-overview-of-course\"></a>\n",
    "this is a overview of course."
   ]
  },
  {
   "cell_type": "markdown",
   "metadata": {},
   "source": [
    "### 1.2 Object Oriented Design\n",
    "<a id=\"1.2-object-oriented-design\"></a>"
   ]
  },
  {
   "cell_type": "markdown",
   "metadata": {},
   "source": [
    "### 1.3 Python\n",
    "<a id=\"1.3-python\"> </a>\n",
    "This is python introduction.\n"
   ]
  },
  {
   "cell_type": "code",
   "execution_count": null,
   "metadata": {},
   "outputs": [],
   "source": []
  },
  {
   "cell_type": "code",
   "execution_count": null,
   "metadata": {},
   "outputs": [],
   "source": []
  }
 ],
 "metadata": {
  "kernelspec": {
   "display_name": "Python 3",
   "language": "python",
   "name": "python3"
  },
  "language_info": {
   "codemirror_mode": {
    "name": "ipython",
    "version": 3
   },
   "file_extension": ".py",
   "mimetype": "text/x-python",
   "name": "python",
   "nbconvert_exporter": "python",
   "pygments_lexer": "ipython3",
   "version": "3.7.3"
  }
 },
 "nbformat": 4,
 "nbformat_minor": 2
}
