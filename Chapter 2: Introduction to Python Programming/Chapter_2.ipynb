{
 "cells": [
  {
   "cell_type": "markdown",
   "metadata": {},
   "source": [
    "# 2. Chapter 2: Introduction to Python Programming"
   ]
  },
  {
   "cell_type": "markdown",
   "metadata": {},
   "source": [
    "[**2.1 Variables**](#2.1-Variables)   \n",
    "[**2.1.1 Variable Name**](#Variable-Name)   \n",
    "[**2.1.2 Variable Types**](#2.1.2-Variable-Types)  \n",
    "[**2.2 Operators**](#2.2-Operators)  \n",
    "[**2.2.1 Arithmetic Operators**](#2.2.1-Arithmetic-Operators)  \n",
    "[**2.2.2 Assignment Operators**](#2.2.2-Assignment-Operators)  \n",
    "[**2.2.3 Comparison Operators**](#2.2.3-Comparison-Operators)  \n",
    "[**2.2.4 Logical Operators**](#2.2.4-Logical-Operators)  \n",
    "[**2.2.5 Bitwise Operators**](#2.2.5-Bitwise-Operators)  \n",
    "[**2.2.6 Identity Operators**](#2.2.6-Identity-Operators)  \n",
    "[**2.2.7 Membership Operators**](#2.2.7-Membership-Operators)  \n",
    "[**2.3 Data Types**](#2.3-Data-Types)  \n",
    "[**2.4 Type Casting**](#2.4-Type-Casting)  \n",
    "[**2.5 Escape Character**](#2.5-Escape-Character)  \n",
    "[**2.6 Comments**](#2.6-Comments)  \n",
    "[**2.7 Keywords**](#2.7-Keywords)  \n",
    "[**Data Analytics**](#Data-Analytics)   "
   ]
  },
  {
   "cell_type": "markdown",
   "metadata": {},
   "source": [
    "#### 2.1 Variables\n",
    "Variables are used to store value. In python, data type is not required while creating/declaring variable like in Java. When you launch Python interpreter will be prompted with `>>>`. In IPython's interactive mode you'll see the cell below:"
   ]
  },
  {
   "cell_type": "code",
   "execution_count": null,
   "metadata": {},
   "outputs": [],
   "source": []
  },
  {
   "cell_type": "markdown",
   "metadata": {},
   "source": [
    "#### 2.1.1 Variable Name\n",
    "Variable name is something referred as identifier. Variable name is formed from letter, digits and underscores(\\_). Variable name must never begin with digit. Since Python is case sensitive, same variable name with different case are treated differently. For example: The variable name **age** has different variation in each assigment. Vaiable are assigned with (=).  "
   ]
  },
  {
   "cell_type": "code",
   "execution_count": 1,
   "metadata": {},
   "outputs": [
    {
     "name": "stdout",
     "output_type": "stream",
     "text": [
      "Example of case sensitive variable declaration.\n",
      "age:10\n",
      "Age:20\n",
      "AGe:30\n",
      "AGE:40\n"
     ]
    }
   ],
   "source": [
    "age = 10\n",
    "Age = 20\n",
    "AGe = 30\n",
    "AGE = 40\n",
    "aGe = 50\n",
    "agE = 60\n",
    "print(\"Example of case sensitive variable declaration.\\nage:{0}\\nAge:{1}\\nAGe:{2}\\nAGE:{3}\".format(age, Age, AGe, AGE))"
   ]
  },
  {
   "cell_type": "markdown",
   "metadata": {},
   "source": [
    "#### 2.1.2 Variable Types\n",
    "All the value in Python has its own data types. Based upon the value, the compiler will identifies the data types. You can use **type function** to identify the data type for given variables. For example:"
   ]
  },
  {
   "cell_type": "code",
   "execution_count": 2,
   "metadata": {
    "scrolled": true
   },
   "outputs": [
    {
     "name": "stdout",
     "output_type": "stream",
     "text": [
      "<class 'int'>\n",
      "<class 'str'>\n",
      "<class 'str'>\n",
      "<class 'int'>\n",
      "<class 'float'>\n",
      "<class 'bool'>\n",
      "<class 'NoneType'>\n",
      "<class 'list'>\n",
      "<class 'dict'>\n",
      "<class 'str'>\n",
      "<class 'str'>\n",
      "<class 'tuple'>\n",
      "\n",
      "My street address:('123, East University Ave, Monument', 'California', 98765)\n"
     ]
    }
   ],
   "source": [
    "my_house_number = 123\n",
    "print(type(my_house_number))\n",
    "my_street_name = \"East University Ave\"\n",
    "print(type(my_street_name))\n",
    "my_city = \"Monument\"\n",
    "print(type(my_city))\n",
    "my_zipcode = 98765\n",
    "print(type(my_zipcode))\n",
    "today_weather = 80.56\n",
    "print(type(today_weather))\n",
    "is_raining = True\n",
    "print(type(is_raining))\n",
    "is_expired = None\n",
    "print(type(is_expired))\n",
    "my_address = [my_house_number, my_street_name, my_city, my_zipcode]\n",
    "print(type(my_address))\n",
    "state_abbr = {\"AL\":\"Alabama\", \"AK\":\"Alaska\",\"AZ\":\"Arizona\", \"AR\":\"Arkansas\",\"CA\":\"California\"}\n",
    "print(type(state_abbr))\n",
    "print(type(state_abbr['CA']))\n",
    "\n",
    "formatted_street_name = str(my_address[:3]).lstrip('[').rstrip(']').replace('\\'','')\n",
    "print(type(formatted_street_name))\n",
    "address_tuple = (formatted_street_name,state_abbr['CA'],my_address[-1])\n",
    "print(type(address_tuple))\n",
    "print(\"\\nMy street address:{}\".format(str(address_tuple)))"
   ]
  },
  {
   "cell_type": "markdown",
   "metadata": {},
   "source": [
    "#### 2.2 Operators\n",
    "Operators are used to perform operation/calculation on variables or values. There are different types of operators.\n",
    "- Arithmetic Operators  \n",
    "- Assignment Operators  \n",
    "- Comparison Operators \n",
    "- Logical Operators  \n",
    "- Bitwise Operators \n",
    "- Identity Operators\n",
    "- Membership Operators\n",
    "\n",
    "`Note: Always use parentheses () to group the operators if you are calculating more than two variables/values. It helps to clearify the complex expression and make easier to read.`\n",
    "\n",
    "Self Reading: Operator Precedence$^1$"
   ]
  },
  {
   "cell_type": "markdown",
   "metadata": {},
   "source": [
    "#### 2.2.1 Arithmetic Operators\n",
    "Arithmetic operator is used to perform arithmetic/mathematical operations. Various types of arithmetic operators are:-  \n",
    "* Addition operator (+) used to perform addition.\n",
    "* Subtraction operator (-) used to perform subtraction.\n",
    "* Multiplication operator (\\*) used to perform multplication.\n",
    "* Exponentation operator (\\*\\*) raises one value to the power of another.\n",
    "* True Division(/) divides a numerator by a denominator and yields a floating-point number with a decimal point.\n",
    "* Floor Division (//) divides a numerator by a denominator and yield the largest integer which is not greater than the result.The fractional value will be discarded.\n",
    "* Remainder/Modulo Operator (%) yields the remainder after the left operand is divided by the right operand.\n",
    "\n",
    "`a = 55`\n",
    "`b = 9`  \n",
    "\n",
    "Table 1: Arithmetic Operators  \n",
    "\n",
    "|Operator Name|Operator|Example|Value|\n",
    "|------|------|------|------|\n",
    "| Addition | + | `a + b` | 64 |\n",
    "| Subtraction | - | `a - b` | 46 |\n",
    "| Multiplication | * | `a * b` | 495 |\n",
    "| Exponentation | ** | `a ** b` | 4605366583984375 |\n",
    "| True Division | / | `a / b` | 6.111111111111111 |\n",
    "| Floor Division | // | `a // b` | 6 |\n",
    "| Remainder Operator | % | `a % b` | 1 |\n",
    "\n",
    "Complex Expression examples:  \n",
    "`(5 - 1) * ((7 + 1) / (3 - 1))  \n",
    "16.0`  "
   ]
  },
  {
   "cell_type": "markdown",
   "metadata": {},
   "source": [
    "#### 2.2.2 Assignment Operators\n",
    "Assignment Operators are used to assign values to variables."
   ]
  },
  {
   "cell_type": "code",
   "execution_count": 3,
   "metadata": {},
   "outputs": [
    {
     "name": "stdout",
     "output_type": "stream",
     "text": [
      "Current balance:500\n",
      "Current balance:10500\n"
     ]
    }
   ],
   "source": [
    "checking_account_balance = 500\n",
    "direct_deposit = 5000\n",
    "print(\"Current balance:\" + str(checking_account_balance))\n",
    "checking_account_balance = checking_account_balance + direct_deposit\n",
    "checking_account_balance +=direct_deposit\n",
    "print(\"Current balance:\" + str(checking_account_balance))"
   ]
  },
  {
   "cell_type": "markdown",
   "metadata": {},
   "source": [
    "#### 2.2.3 Comparison Operators\n",
    "Comparison Operators are used to compare values between two or more variables. The result of all comparison operator are boolean values. i.e True/False. Types of comparison operators are:\n",
    "- Equal operator (==) is used to check whether two values operand are equal.\n",
    "- Not equal operator (!=) is used to check whether two values are not equal.\n",
    "- Greater than operator (>)  is used to check whether value on left operand is greather than the value of right operand.\n",
    "- Less than operator (<) is used to check whether value on left operand is less than the value of right operand.\n",
    "- Greater than or equal operator (>=) is used to check whether value on left operand is greather than or equal the value of right operand.\n",
    "- Less than or equal to operator (<=) is used to check whether value on left operand is less than or equal to the value of right operand. \n",
    "\n",
    "\n",
    "`a = 5000`\n",
    "`b = 2000`  \n",
    "\n",
    "Table 2: Comparision Operators  \n",
    "\n",
    "|Operator Name|Operator|Example|Value|\n",
    "|------|------|------|------|\n",
    "| Equal | == | `a == b` | False |\n",
    "| Not equal | != | `a != b` | True |\n",
    "| Greater than | > | `a > b` | Ture |\n",
    "| Less than | < | `a < b` | False |\n",
    "| Greater than or equal to | >= | `a >= b` | True |\n",
    "| Less than or equal to | <= | `a <= b` | False |"
   ]
  },
  {
   "cell_type": "markdown",
   "metadata": {},
   "source": [
    "#### 2.2.4 Logical Operators\n",
    "Logical Operators are used to combine multiple comparision/conditional statement. The result of all logical operator are boolean values. i.e True/False. Types of logical operators are:  \n",
    "- And operator (and) is used to check if values between two or more variables are all true/false.\n",
    "- Or Operator (or) is used to check if atleast one of the variable values is true.\n",
    "- Not operator (not) is used to negate the values.\n",
    "\n",
    "\n",
    "**_Discussion:Truth Table_**\n",
    "\n",
    "`a = 5000`\n",
    "`b = 2000`  \n",
    "\n",
    "Table 3: Logical Operators  \n",
    "\n",
    "|Operator Name|Operator|Example|Value|\n",
    "|------|------|------|------|\n",
    "| And | and | `a < 10000 and b < 5000` | True |\n",
    "| Or | or | `a < 10000 or b > 5000` | True |\n",
    "| Not | not | `not(a < 10000 or b < 5000)` | False |"
   ]
  },
  {
   "cell_type": "markdown",
   "metadata": {},
   "source": [
    "#### 2.2.5 Bitwise Operators\n",
    "Bitwise Operators are used to perform binary(bit) operation between two or more values. Type of bitwise operators are:  \n",
    "- AND operator (&) is used to perform binary AND operation.\n",
    "- OR operator (|) is used to perform binary OR operation.\n",
    "- NOT operator (~) is used to invert binary values.\n",
    "- XOR operator (^) is used to perform XOR operation.\n",
    "- Zero fill left shift operator (<<) is used shift left by pushing zeros from right.\n",
    "- Signed right shift operator (>>) is used shift right by pushing zeros from left."
   ]
  },
  {
   "cell_type": "markdown",
   "metadata": {},
   "source": [
    "#### 2.2.6 Identity Operators\n",
    "Identity operators are used to compare if variable belongs to same objects.\n",
    "Type of identity operator are:\n",
    "- is operator (is) returns true if both variable reference to same object.\n",
    "- is not operator (is not) returns true if both variables reference to different object."
   ]
  },
  {
   "cell_type": "code",
   "execution_count": 4,
   "metadata": {},
   "outputs": [
    {
     "name": "stdout",
     "output_type": "stream",
     "text": [
      "False\n",
      "True\n",
      "True\n",
      "True\n"
     ]
    }
   ],
   "source": [
    "week_day_1 = 'Monday'\n",
    "week_day_2 = 'Tuesday'\n",
    "week_day_3 = 'Wednesday'\n",
    "default_week_day = 'Monday'\n",
    "print(week_day_1 is week_day_2)\n",
    "print(week_day_1 is default_week_day)\n",
    "print(week_day_3 is not week_day_1)\n",
    "\n",
    "start_counter = 10\n",
    "end_counter = 10\n",
    "print(start_counter is end_counter)"
   ]
  },
  {
   "cell_type": "markdown",
   "metadata": {},
   "source": [
    "#### 2.2.7 Membership Operators\n",
    "Membership operators are used to check if the sequence of values are present in an objects. Types of membership operators are:\n",
    "- in operator (in) returns true if a sequence of values is present in the object.\n",
    "- not in operator (not in) returns true if a sequence of values is not present in the object."
   ]
  },
  {
   "cell_type": "code",
   "execution_count": 5,
   "metadata": {},
   "outputs": [
    {
     "name": "stdout",
     "output_type": "stream",
     "text": [
      "True\n",
      "True\n"
     ]
    }
   ],
   "source": [
    "country = ['united states', 'united kingdom', 'germany', 'france', 'denmark']\n",
    "country_visited = 'united states'\n",
    "print(country_visited in country)\n",
    "print('japan' not in country)"
   ]
  },
  {
   "cell_type": "markdown",
   "metadata": {},
   "source": [
    "#### 2.3 Data Types\n",
    "\n",
    "The built-in data types in Python shown in table 4 below. Since these are single values type so they are referred as scalar types. Table 1 shows the Standard Python scalar types. \n",
    "\n",
    "Table 4: Python Data Types   \n",
    "\n",
    "| Type | Description |\n",
    "|----|---------------------------|\n",
    "| int | Arbitrary precision signed integer |\n",
    "| float | Double-precision (64-bit) floating-point number |\n",
    "| str | String type. It holds Unicode (UTF-8 encoded) strings |\n",
    "| bytes| Raw ASCII bytes (Unicode encoded as bytes) |\n",
    "| bool | Boolean (True/False) value |\n",
    "| None | Null value |"
   ]
  },
  {
   "cell_type": "markdown",
   "metadata": {},
   "source": [
    "- Numeric: Numeric type are int and float. Interger type are represented by **_int_** and floating point are represented by **_float_**. All the floating-point are represented with double-precision (64-bit) value by compilers. They can also be represented with scientific notation. i.e."
   ]
  },
  {
   "cell_type": "code",
   "execution_count": 6,
   "metadata": {},
   "outputs": [],
   "source": [
    "floating_value = 54.45\n",
    "floating_svalue = 5.45e-5"
   ]
  },
  {
   "cell_type": "markdown",
   "metadata": {},
   "source": [
    "- Strings: String values can be written either by single quotes `'`, double quotes `\"` or triple quotes `'''` or `\"\"\"`. i.e."
   ]
  },
  {
   "cell_type": "code",
   "execution_count": 7,
   "metadata": {},
   "outputs": [
    {
     "name": "stdout",
     "output_type": "stream",
     "text": [
      "John Doe\n",
      "John Doe\n",
      "John Doe\n",
      "\n"
     ]
    }
   ],
   "source": [
    "name = 'John Doe'\n",
    "name_1 = \"John Doe\"\n",
    "name_2 = \"\"\"\n",
    "John Doe\n",
    "\"\"\"\n",
    "print(name + \"\\n\" + name_1 + name_2)"
   ]
  },
  {
   "cell_type": "markdown",
   "metadata": {},
   "source": [
    "Triple quotes is normally used for multiline string with line breaks. Python objects can also be converted to string by using `str function`. e.g. `a = 10 str_a = str(a)`  \n",
    "The value of a is will be converted to string type.  \n",
    "String are sequence of Unicode characters so it can be treated like other sequences (lists, tuples) type.(which will be discussed later)."
   ]
  },
  {
   "cell_type": "code",
   "execution_count": 8,
   "metadata": {},
   "outputs": [
    {
     "data": {
      "text/plain": [
       "'Pyt'"
      ]
     },
     "execution_count": 8,
     "metadata": {},
     "output_type": "execute_result"
    }
   ],
   "source": [
    "lang = 'Python'\n",
    "lang[:3]"
   ]
  },
  {
   "cell_type": "markdown",
   "metadata": {},
   "source": [
    "The above syntax `lang[:3]` is knows as **slicing**. String are immutable. This means the value of string cannot be modified once declared. But underneath, Python created a new representation of same value. For e.g.  \n",
    "`fname = 'Harry'\n",
    "fname = 'Bobby'`  \n",
    "fname is declared twice, the value of fname will be `Harry` at first declaration and in second declaration the value will be `Bobby`.  \n",
    "Python has built-in string library. Use `help(str)` to display all the string module. Some of the string functions are:-  \n",
    "capitalize()  \n",
    "find()  \n",
    "isalnum()  \n",
    "isalpha()  \n",
    "isascii()  \n",
    "isdecimal()  \n",
    "isdigit()  \n",
    "islower()  \n",
    "isnumeric()  \n",
    "isspace()  \n",
    "isupper()  \n",
    "join()  \n",
    "lower()  \n",
    "lstrip()  \n",
    "replace()  \n",
    "rfind()  \n",
    "rstrip()  \n",
    "split()  \n",
    "splitlines()  \n",
    "startswith()  \n",
    "title()  \n",
    "upper()  \n",
    "More details about string can be found on Python Documentation$^2$."
   ]
  },
  {
   "cell_type": "markdown",
   "metadata": {},
   "source": [
    "- Boolean: Boolean value in Pythons are `True` and `False`. Boolean values are used in conjunction with operator(logical, comparision etc.) describe above\n",
    "- None: None represent the null value type in Python. None is a default value for function arguments.\n",
    "- Dates and time: Python also has built-in `datetime` module. It has datetime, date and time types."
   ]
  },
  {
   "cell_type": "code",
   "execution_count": 9,
   "metadata": {},
   "outputs": [
    {
     "name": "stdout",
     "output_type": "stream",
     "text": [
      "2019-08-18 18:16:49.210939\n"
     ]
    }
   ],
   "source": [
    "from datetime import datetime, date, time\n",
    "curr_timestamp = datetime.now()\n",
    "print(curr_timestamp)"
   ]
  },
  {
   "cell_type": "markdown",
   "metadata": {},
   "source": [
    "Table 5: Datetime format specification\n",
    "\n",
    "| Type | Description     |\n",
    "| ---- | ------------------------------------- |\n",
    "|%Y | Four-digit year |\n",
    "|%y | Two-digit year |\n",
    "|%m | Two-digit month [01, 12] |\n",
    "|%d\t| Two-digit day [01, 31] |\n",
    "|%H\t| Hour (24-hour clock) [00, 23] |\n",
    "|%I\t| Hour (12-hour clock) [01, 12] |\n",
    "|%M\t| Two-digit minute [00, 59] |\n",
    "|%S\t| Second [00, 61] (seconds 60, 61 account for leap seconds) |\n",
    "|%w\t| Weekday as integer [0 (Sunday), 6] |\n",
    "|%U\t| Week number of the year [00, 53]; Sunday is considered the first day of the week, and days before the first Sunday of the year are “week 0” |\n",
    "|%W\t| Week number of the year [00, 53]; Monday is considered the first day of the week, and days before the first Monday of the year are “week 0” |\n",
    "|%z\t| UTC time zone offset as +HHMM or -HHMM; empty if time zone naive |\n",
    "|%F\t| Shortcut for %Y-%m-%d (e.g., 2019-08-16) |\n",
    "|%D\t|Shortcut for %m/%d/%y (e.g., 08/16/19) |"
   ]
  },
  {
   "cell_type": "markdown",
   "metadata": {},
   "source": [
    "### 2.4 Type Casting\n",
    "Type casting is used to convert data types to/from int, float, str, and bool."
   ]
  },
  {
   "cell_type": "code",
   "execution_count": 10,
   "metadata": {},
   "outputs": [
    {
     "data": {
      "text/plain": [
       "float"
      ]
     },
     "execution_count": 10,
     "metadata": {},
     "output_type": "execute_result"
    }
   ],
   "source": [
    "string_value = '2.79'\n",
    "float_value = float(string_value)\n",
    "type(float_value)"
   ]
  },
  {
   "cell_type": "markdown",
   "metadata": {},
   "source": [
    "### 2.5 Escape Character\n",
    "\n",
    "Table 6: Escape Character   \n",
    "\n",
    "| Escape Sequence | Description |\n",
    "|-----------------|-----------------------|\n",
    "|\\n | Insert a newline character in a string.|\n",
    "|\\t |Insert a horizontal tab.|\n",
    "|\\\\\\ |Insert a backslash character in a string.|\n",
    "|\\\\\" |Insert a double quote character in a string.|\n",
    "|\\\\' |Insert a single quote character in a string.|"
   ]
  },
  {
   "cell_type": "markdown",
   "metadata": {},
   "source": [
    "### 2.6 Comments\n",
    "\n",
    "Python comments begins with hash character `#`. It is a single line comments. "
   ]
  },
  {
   "cell_type": "markdown",
   "metadata": {},
   "source": [
    "### 2.7 Keywords\n",
    "\n",
    "Keywords are the reserved words in Pythons. Those keywords cannot be used to declare any variable, function name and other identifiers."
   ]
  },
  {
   "cell_type": "code",
   "execution_count": 11,
   "metadata": {},
   "outputs": [
    {
     "data": {
      "text/plain": [
       "['False',\n",
       " 'None',\n",
       " 'True',\n",
       " 'and',\n",
       " 'as',\n",
       " 'assert',\n",
       " 'async',\n",
       " 'await',\n",
       " 'break',\n",
       " 'class',\n",
       " 'continue',\n",
       " 'def',\n",
       " 'del',\n",
       " 'elif',\n",
       " 'else',\n",
       " 'except',\n",
       " 'finally',\n",
       " 'for',\n",
       " 'from',\n",
       " 'global',\n",
       " 'if',\n",
       " 'import',\n",
       " 'in',\n",
       " 'is',\n",
       " 'lambda',\n",
       " 'nonlocal',\n",
       " 'not',\n",
       " 'or',\n",
       " 'pass',\n",
       " 'raise',\n",
       " 'return',\n",
       " 'try',\n",
       " 'while',\n",
       " 'with',\n",
       " 'yield']"
      ]
     },
     "execution_count": 11,
     "metadata": {},
     "output_type": "execute_result"
    }
   ],
   "source": [
    "import keyword as kw\n",
    "kw.kwlist"
   ]
  },
  {
   "cell_type": "markdown",
   "metadata": {},
   "source": [
    "## Data Analytics\n",
    "\n",
    "Pandas$^3$ will be our main data manipulation library. It is an open source Python library. We will use Pandas for data cleaning and performing some data analysis. The data structure in pandas are _Series_ and _DataFrame_.  \n",
    "\n",
    "**Series**: Series is an one-dimensional array-like object which is similar to Python _list_. It contains sequence of similar types and an associated array of data labels, known as _index_. Series can be created by passing Python _list_. The code snippet below shows the implemenation of Series."
   ]
  },
  {
   "cell_type": "code",
   "execution_count": 12,
   "metadata": {},
   "outputs": [
    {
     "data": {
      "text/plain": [
       "0    21\n",
       "1    25\n",
       "2    45\n",
       "3    32\n",
       "4    45\n",
       "5    56\n",
       "6    22\n",
       "7    47\n",
       "8    60\n",
       "9    65\n",
       "dtype: int64"
      ]
     },
     "execution_count": 12,
     "metadata": {},
     "output_type": "execute_result"
    }
   ],
   "source": [
    "import pandas as pd\n",
    "age = [21, 25, 45, 32, 45, 56, 22, 47,60, 65]\n",
    "age_series = pd.Series(age)\n",
    "age_series"
   ]
  },
  {
   "cell_type": "markdown",
   "metadata": {},
   "source": [
    "In Series, the index and values are displayed in left and right respectively. If any index is not specified the default index value will be integer starting from 0 to N-1 (N is the length of data). Series can also be index with some label as shown below. Series is also a single column of DataFrame."
   ]
  },
  {
   "cell_type": "code",
   "execution_count": 13,
   "metadata": {},
   "outputs": [
    {
     "data": {
      "text/plain": [
       "a    21\n",
       "b    25\n",
       "c    45\n",
       "d    32\n",
       "e    45\n",
       "f    56\n",
       "g    22\n",
       "h    47\n",
       "i    60\n",
       "j    65\n",
       "dtype: int64"
      ]
     },
     "execution_count": 13,
     "metadata": {},
     "output_type": "execute_result"
    }
   ],
   "source": [
    "index_value = ['a','b','c','d','e','f','g','h','i','j']\n",
    "age_series_1 = pd.Series(age, index = index_value)\n",
    "age_series_1"
   ]
  },
  {
   "cell_type": "markdown",
   "metadata": {},
   "source": [
    "Series can also be defined as a fixed-length, ordered dictinary which is mapped with index value to data values. Series can also be created from Python dictinary."
   ]
  },
  {
   "cell_type": "code",
   "execution_count": 14,
   "metadata": {},
   "outputs": [
    {
     "data": {
      "text/plain": [
       "USA      5.9\n",
       "China    3.4\n",
       "UK       3.9\n",
       "dtype: float64"
      ]
     },
     "execution_count": 14,
     "metadata": {},
     "output_type": "execute_result"
    }
   ],
   "source": [
    "country_gdp = {'USA':5.9,'China':3.4,'UK':3.9}\n",
    "gdp = pd.Series(country_gdp)\n",
    "gdp"
   ]
  },
  {
   "cell_type": "markdown",
   "metadata": {},
   "source": [
    "**DataFrame**: DataFrame is the tabular data representation that contains different type such as numeric, string and boolean. DataFrame can be compared with SQL table in relational database. In DataFrame, the data are stored in one or more two-dimensional block opposed to list, dict and other collection types. DataFrame is a dictionary of _Series_. DataFrame can be constructed multiple ways. "
   ]
  },
  {
   "cell_type": "code",
   "execution_count": 15,
   "metadata": {},
   "outputs": [
    {
     "data": {
      "text/html": [
       "<div>\n",
       "<style scoped>\n",
       "    .dataframe tbody tr th:only-of-type {\n",
       "        vertical-align: middle;\n",
       "    }\n",
       "\n",
       "    .dataframe tbody tr th {\n",
       "        vertical-align: top;\n",
       "    }\n",
       "\n",
       "    .dataframe thead th {\n",
       "        text-align: right;\n",
       "    }\n",
       "</style>\n",
       "<table border=\"1\" class=\"dataframe\">\n",
       "  <thead>\n",
       "    <tr style=\"text-align: right;\">\n",
       "      <th></th>\n",
       "      <th>course</th>\n",
       "      <th>rating</th>\n",
       "    </tr>\n",
       "  </thead>\n",
       "  <tbody>\n",
       "    <tr>\n",
       "      <th>0</th>\n",
       "      <td>MySQL</td>\n",
       "      <td>8</td>\n",
       "    </tr>\n",
       "    <tr>\n",
       "      <th>1</th>\n",
       "      <td>Python</td>\n",
       "      <td>10</td>\n",
       "    </tr>\n",
       "    <tr>\n",
       "      <th>2</th>\n",
       "      <td>Spark</td>\n",
       "      <td>7</td>\n",
       "    </tr>\n",
       "    <tr>\n",
       "      <th>3</th>\n",
       "      <td>Mongo DB</td>\n",
       "      <td>7</td>\n",
       "    </tr>\n",
       "    <tr>\n",
       "      <th>4</th>\n",
       "      <td>AWS</td>\n",
       "      <td>6</td>\n",
       "    </tr>\n",
       "    <tr>\n",
       "      <th>5</th>\n",
       "      <td>ML</td>\n",
       "      <td>7</td>\n",
       "    </tr>\n",
       "    <tr>\n",
       "      <th>6</th>\n",
       "      <td>Design Pattern</td>\n",
       "      <td>6</td>\n",
       "    </tr>\n",
       "  </tbody>\n",
       "</table>\n",
       "</div>"
      ],
      "text/plain": [
       "           course  rating\n",
       "0           MySQL       8\n",
       "1          Python      10\n",
       "2           Spark       7\n",
       "3        Mongo DB       7\n",
       "4             AWS       6\n",
       "5              ML       7\n",
       "6  Design Pattern       6"
      ]
     },
     "execution_count": 15,
     "metadata": {},
     "output_type": "execute_result"
    }
   ],
   "source": [
    "course = ['MySQL', 'Python', 'Spark', 'Mongo DB', 'AWS', 'ML', 'Design Pattern']\n",
    "rating = [8, 10, 7, 7, 6, 7,6]\n",
    "column_name = ['course', 'rating']\n",
    "df_course = pd.DataFrame(list(zip(course, rating)), columns = column_name)\n",
    "df_course"
   ]
  },
  {
   "cell_type": "code",
   "execution_count": 16,
   "metadata": {},
   "outputs": [
    {
     "data": {
      "text/html": [
       "<div>\n",
       "<style scoped>\n",
       "    .dataframe tbody tr th:only-of-type {\n",
       "        vertical-align: middle;\n",
       "    }\n",
       "\n",
       "    .dataframe tbody tr th {\n",
       "        vertical-align: top;\n",
       "    }\n",
       "\n",
       "    .dataframe thead th {\n",
       "        text-align: right;\n",
       "    }\n",
       "</style>\n",
       "<table border=\"1\" class=\"dataframe\">\n",
       "  <thead>\n",
       "    <tr style=\"text-align: right;\">\n",
       "      <th></th>\n",
       "      <th>rating</th>\n",
       "    </tr>\n",
       "  </thead>\n",
       "  <tbody>\n",
       "    <tr>\n",
       "      <th>count</th>\n",
       "      <td>7.000000</td>\n",
       "    </tr>\n",
       "    <tr>\n",
       "      <th>mean</th>\n",
       "      <td>7.285714</td>\n",
       "    </tr>\n",
       "    <tr>\n",
       "      <th>std</th>\n",
       "      <td>1.380131</td>\n",
       "    </tr>\n",
       "    <tr>\n",
       "      <th>min</th>\n",
       "      <td>6.000000</td>\n",
       "    </tr>\n",
       "    <tr>\n",
       "      <th>25%</th>\n",
       "      <td>6.500000</td>\n",
       "    </tr>\n",
       "    <tr>\n",
       "      <th>50%</th>\n",
       "      <td>7.000000</td>\n",
       "    </tr>\n",
       "    <tr>\n",
       "      <th>75%</th>\n",
       "      <td>7.500000</td>\n",
       "    </tr>\n",
       "    <tr>\n",
       "      <th>max</th>\n",
       "      <td>10.000000</td>\n",
       "    </tr>\n",
       "  </tbody>\n",
       "</table>\n",
       "</div>"
      ],
      "text/plain": [
       "          rating\n",
       "count   7.000000\n",
       "mean    7.285714\n",
       "std     1.380131\n",
       "min     6.000000\n",
       "25%     6.500000\n",
       "50%     7.000000\n",
       "75%     7.500000\n",
       "max    10.000000"
      ]
     },
     "execution_count": 16,
     "metadata": {},
     "output_type": "execute_result"
    }
   ],
   "source": [
    "df_course.describe()  # statistics of df_course"
   ]
  },
  {
   "cell_type": "code",
   "execution_count": 18,
   "metadata": {},
   "outputs": [
    {
     "name": "stdout",
     "output_type": "stream",
     "text": [
      "AxesSubplot(0.125,0.125;0.775x0.755)\n"
     ]
    },
    {
     "data": {
      "image/png": "[encoded data removed]",
      "text/plain": [
       "<Figure size 432x288 with 1 Axes>"
      ]
     },
     "metadata": {
      "needs_background": "light"
     },
     "output_type": "display_data"
    }
   ],
   "source": [
    "print(df_course.plot.hist())  # plot"
   ]
  },
  {
   "cell_type": "markdown",
   "metadata": {},
   "source": [
    "Table DA_1: Subsetting method of DataFrame  \n",
    "\n",
    "| Syntax | Selection Result |\n",
    "|----------|---------------------|\n",
    "| df[column_name] | Single column |\n",
    "| df[[column1, column2, ... ]] | Multiple columns |\n",
    "| df.loc[row_label] | Row by row index label (row name) |\n",
    "| df.loc[[label1, label2, ...]] | Multiple rows by index label |\n",
    "| df.iloc[row_number] | Row by row number | \n",
    "| df.iloc[[row1, row2, ...]] | Multiple rows by row number |\n",
    "| df.ix[label_or_number] | Row by index label or number |\n",
    "| df.ix[[lab_num1, lab_num2, ...]] | Multiple rows by index label or number |\n",
    "| df[bool] | Row based on bool |\n",
    "| df[[bool1, bool2, ...]] | Multiple rows based on bool |\n",
    "| df[start:stop:step] | Rows based on slicing notation |"
   ]
  },
  {
   "cell_type": "markdown",
   "metadata": {},
   "source": [
    "**References**  \n",
    "$^1$ https://docs.python.org/3/reference/expressions.html#operator-precedence  \n",
    "$^2$ https://docs.python.org/2.7/library/string.html  \n",
    "$^3$ https://pandas.pydata.org/pandas-docs/version/0.25/genindex.html"
   ]
  }
 ],
 "metadata": {
  "kernelspec": {
   "display_name": "Python 3",
   "language": "python",
   "name": "python3"
  },
  "language_info": {
   "codemirror_mode": {
    "name": "ipython",
    "version": 3
   },
   "file_extension": ".py",
   "mimetype": "text/x-python",
   "name": "python",
   "nbconvert_exporter": "python",
   "pygments_lexer": "ipython3",
   "version": "3.7.3"
  }
 },
 "nbformat": 4,
 "nbformat_minor": 2
}
