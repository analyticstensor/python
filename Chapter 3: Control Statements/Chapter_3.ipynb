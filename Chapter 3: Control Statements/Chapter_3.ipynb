{
 "cells": [
  {
   "cell_type": "markdown",
   "metadata": {},
   "source": [
    "# Chapter 3: Control Statements"
   ]
  },
  {
   "cell_type": "markdown",
   "metadata": {},
   "source": [
    "[**3.1 Control Statements**](#3.1-Control-Statements)   \n",
    "[**3.2 if Statement**](#3.2-if-Statement)   \n",
    "[**3.3 if...else Statement**](#3.3-if...else-Statement)  \n",
    "[**3.4 if...elif...else Statement**](#3.4-if...elif...else-Statement)  \n",
    "[**3.5 while Statement**](#3.5-while-Statement)  \n",
    "[**3.6 for Statement**](#3.6-for-Statement)  \n",
    "[**3.7 break and continue Statement**](#3.7-break-and-continue-Statement)  \n",
    "[**3.8 Formatted Strings**](#3.8-Formatted-Strings)   \n",
    "[**Data Analytics**](#Data-Analytics)   "
   ]
  },
  {
   "cell_type": "markdown",
   "metadata": {},
   "source": [
    "#### 3.1 Control Statements\n",
    "All the statement in a program file execute sequentially from top to bottom. Control statements is used to break the flow of sequential execution and execute the code based on the condition. It enables decision-making, looping and branching. Python's control statements are:      \n",
    "\n",
    "**Decision-making Statement**: Decision-making statement is used to decide the flow of the execution based on conditions.   \n",
    "    * if\n",
    "    * if...else\n",
    "    * if...elif...else  \n",
    "**Loop**: Loop is used repeat the block of code until the condition is valid or true.  \n",
    "    * for\n",
    "    * while  \n",
    "**Branching Statement**: Branching Statement is used to modify the loop's flow of control.  \n",
    "    * break\n",
    "    * continue"
   ]
  },
  {
   "cell_type": "markdown",
   "metadata": {},
   "source": [
    "#### 3.2 if Statement\n",
    "The code inside the `if` statement execute **only if** the condition is **true**."
   ]
  },
  {
   "cell_type": "code",
   "execution_count": 1,
   "metadata": {},
   "outputs": [
    {
     "name": "stdout",
     "output_type": "stream",
     "text": [
      "====================\n",
      " Checking valid age\n",
      "====================\n",
      "Age is below 21. The current age is 19.\n",
      "Please try next time.\n"
     ]
    }
   ],
   "source": [
    "from datetime import datetime\n",
    "from dateutil.relativedelta import relativedelta\n",
    "today = datetime.now()\n",
    "birthday = datetime(2000,5,15,0,0)\n",
    "diff_day = relativedelta(today, birthday)\n",
    "diff_year = diff_day.years\n",
    "\n",
    "valid_age = 21\n",
    "# Check valid year\n",
    "if(diff_year <= 20):\n",
    "    print(\"====================\\n Checking valid age\\n====================\")\n",
    "    print(\"Age is below {0}. The current age is {1}.\".format(valid_age,diff_year))\n",
    "    print(\"Please try next time.\")"
   ]
  },
  {
   "cell_type": "code",
   "execution_count": 2,
   "metadata": {},
   "outputs": [
    {
     "name": "stdout",
     "output_type": "stream",
     "text": [
      "{\"Message\":\"Job has already started\"}\n"
     ]
    }
   ],
   "source": [
    "job_started = True\n",
    "if job_started:\n",
    "    msg = \"Job has already started\"\n",
    "    json_msg = \"{\" + \"\\\"Message\\\":\\\"\" + msg + \"\\\"}\"\n",
    "print(json_msg)"
   ]
  },
  {
   "cell_type": "markdown",
   "metadata": {},
   "source": [
    "#### 3.3 if...else Statement\n",
    "`if...else` statement has two flow of execution based on **True** or **False** condition. When the condition is *true* then `if` statements code will execute and when then the condition is *false* then `else` statements code will execute."
   ]
  },
  {
   "cell_type": "code",
   "execution_count": 3,
   "metadata": {
    "scrolled": true
   },
   "outputs": [
    {
     "name": "stdout",
     "output_type": "stream",
     "text": [
      "Sorry, we can't approve your application. Please re-submit application after 2019-10-24 08:30:58.871640.\n"
     ]
    }
   ],
   "source": [
    "from datetime import datetime, timedelta\n",
    "\n",
    "credit_score = 650\n",
    "if credit_score >=750:\n",
    "    is_approved = True\n",
    "else:\n",
    "    is_approved = False\n",
    "\n",
    "if(is_approved):\n",
    "    print(\"Congratulation your application has been approved.\")    \n",
    "else:\n",
    "    print(\"Sorry, we can't approve your application. Please re-submit application after {}.\".format(\n",
    "    datetime.now() + timedelta(days=60)))"
   ]
  },
  {
   "cell_type": "markdown",
   "metadata": {},
   "source": [
    "#### 3.4 if...elif...else Statement\n",
    "Nested statement is the combination of `if...elif...else` statement. This statement provide multiple conditions to be checked in `elif` statement."
   ]
  },
  {
   "cell_type": "code",
   "execution_count": 4,
   "metadata": {},
   "outputs": [
    {
     "name": "stdout",
     "output_type": "stream",
     "text": [
      "{'VP': ['Very Poor', [300, 579]], 'P': ['Poor', [580, 669]], 'G': ['Good', [670, 739]], 'VG': ['Very Good', [740, 799]], 'E': ['Excellent', [800, 850]]}\n",
      "\n",
      "Your credit score is Poor.\n"
     ]
    }
   ],
   "source": [
    "# Dict of Credit Score\n",
    "credit_score = dict()\n",
    "credit_score['VP'] = [\"Very Poor\",[300,579]]\n",
    "credit_score['P'] = [\"Poor\",[580,669]]\n",
    "credit_score['G'] = [\"Good\",[670,739]]\n",
    "credit_score['VG'] = [\"Very Good\",[740,799]]\n",
    "credit_score['E'] = [\"Excellent\",[800,850]]\n",
    "print(credit_score)\n",
    "\n",
    "curr_credit_score = 580\n",
    "if curr_credit_score >= credit_score['E'][1][0]:\n",
    "    cs_type = credit_score['E'][0]\n",
    "elif curr_credit_score >= credit_score['VG'][1][0]:\n",
    "    cs_type = credit_score['VG'][0]\n",
    "elif curr_credit_score >= credit_score['G'][1][0]:\n",
    "    cs_type = credit_score['G'][0]\n",
    "elif curr_credit_score >= credit_score['P'][1][0]:\n",
    "    cs_type = credit_score['P'][0]\n",
    "elif curr_credit_score >= credit_score['VP'][1][0]:\n",
    "    cs_type = credit_score['VP'][0]\n",
    "else:\n",
    "    cs_type = \"Not Applicable\"    \n",
    "    \n",
    "print(\"\\nYour credit score is {}.\".format(cs_type))"
   ]
  },
  {
   "cell_type": "markdown",
   "metadata": {},
   "source": [
    "The above code snippet perform the following actions:\n",
    "1. Create the dictionary of credit_score by storing string and list.\n",
    "2. Set the curr_credit_score to 750.\n",
    "3. The first `if` condition check whether the curr_credit_score >= Lower value of **Excellent** (i.e. 800). In this case the condition is False so it skip to store the cs_type value to Excellent.\n",
    "4. The first `elif` condition check whether the curr_credit_score >= Lower value of **Very Good** (i.e. 740). In this case the condition is False so it skip to store the cs_type value to Very Good.\n",
    "5. The second `elif` condition check whether the curr_credit_score >= Lower value of **Good** (i.e. 670). In this case the condition is False so it skip to store the cs_type value to Good.\n",
    "6. The third `elif` condition check whether the curr_credit_score >= Lower value of **Poor** (i.e. 580). In this case the condition is True so it store the cs_type value to Good. All the remaining elif and else condition will be skipped.\n",
    "7. The `print` statement will execute and print the cs_type.\n",
    "\n",
    "`if..elif...else` is faster compared to seperate `if` because as soon as the condition is `True` it stops the execution of control flow.  \n",
    "`else` in nested statement (if..elif...else) is optional. This statement enable to handle all the valuse that do not satify the matching conditions."
   ]
  },
  {
   "cell_type": "markdown",
   "metadata": {},
   "source": [
    "#### 3.5 while Statement\n",
    "The `while` statement execute the block of statments while a condition is `True`. The `while` statement evaluates the condition:\n",
    "* If the condition is `True` it executes the statements in `while` block repeatedly.\n",
    "* If the condition is `False` it exit from `while` block."
   ]
  },
  {
   "cell_type": "code",
   "execution_count": 5,
   "metadata": {},
   "outputs": [
    {
     "name": "stdout",
     "output_type": "stream",
     "text": [
      "Increase speed limit setting to 2.\n",
      "Your current speed is 52.\n",
      "Your current speed is 54.\n",
      "Your current speed is 56.\n",
      "Your current speed is 58.\n",
      "Your current speed is 60.\n",
      "Your current speed is 62.\n",
      "Your current speed is 64.\n",
      "Your current speed is 66.\n",
      "Your current speed is 68.\n",
      "Your current speed is 70.\n"
     ]
    }
   ],
   "source": [
    "speed_limit = 70 # 70 mph\n",
    "curr_speed = 50 # current speed\n",
    "increase_rate = 2 # increase rate\n",
    "print(\"Increase speed limit setting to {0}.\".format(increase_rate))\n",
    "while curr_speed < speed_limit:\n",
    "    curr_speed += increase_rate\n",
    "    print(\"Your current speed is {0}.\".format(curr_speed))"
   ]
  },
  {
   "cell_type": "code",
   "execution_count": 6,
   "metadata": {},
   "outputs": [
    {
     "name": "stdout",
     "output_type": "stream",
     "text": [
      "Increase speed limit setting to 7.\n",
      "Found vehicle infront. Decreasing the speed.\n",
      "Your current speed is 43.\n",
      "Found vehicle infront. Decreasing the speed.\n",
      "Your current speed is 36.\n",
      "Your current speed is 36.\n",
      "Found vehicle infront. Decreasing the speed.\n",
      "Your current speed is 29.\n",
      "Your current speed is 29.\n",
      "Increasing.\n",
      "Your current speed is 36.\n",
      "Your current speed is 36.\n",
      "Your current speed is 36.\n",
      "Your current speed is 36.\n",
      "Your current speed is 36.\n",
      "Found vehicle infront. Decreasing the speed.\n",
      "Your current speed is 29.\n",
      "Increasing.\n",
      "Your current speed is 36.\n",
      "Your current speed is 36.\n",
      "Your current speed is 36.\n",
      "Found vehicle infront. Decreasing the speed.\n",
      "Your current speed is 29.\n",
      "Your current speed is 29.\n",
      "Your current speed is 29.\n",
      "Setting the current speed to 50.\n",
      "Your current speed is 50.\n",
      "Found vehicle infront. Decreasing the speed.\n",
      "Your current speed is 43.\n",
      "Found vehicle infront. Decreasing the speed.\n",
      "Your current speed is 36.\n",
      "Found vehicle infront. Decreasing the speed.\n",
      "Your current speed is 29.\n",
      "Setting the current speed to 50.\n",
      "Your current speed is 50.\n",
      "Your current speed is 50.\n",
      "Increasing.\n",
      "Your current speed is 57.\n",
      "Found vehicle infront. Decreasing the speed.\n",
      "Your current speed is 50.\n",
      "Found vehicle infront. Decreasing the speed.\n",
      "Your current speed is 43.\n",
      "Your current speed is 43.\n",
      "Found vehicle infront. Decreasing the speed.\n",
      "Your current speed is 36.\n",
      "Your current speed is 36.\n",
      "Your current speed is 36.\n",
      "Found vehicle infront. Decreasing the speed.\n",
      "Your current speed is 29.\n",
      "Setting the current speed to 50.\n",
      "Your current speed is 50.\n",
      "Found vehicle infront. Decreasing the speed.\n",
      "Your current speed is 43.\n",
      "Increasing.\n",
      "Your current speed is 50.\n",
      "Your current speed is 50.\n",
      "Found vehicle infront. Decreasing the speed.\n",
      "Your current speed is 43.\n",
      "Your current speed is 43.\n",
      "Found vehicle infront. Decreasing the speed.\n",
      "Your current speed is 36.\n",
      "Increasing.\n",
      "Your current speed is 43.\n",
      "Your current speed is 43.\n",
      "Found vehicle infront. Decreasing the speed.\n",
      "Your current speed is 36.\n",
      "Increasing.\n",
      "Your current speed is 43.\n",
      "Found vehicle infront. Decreasing the speed.\n",
      "Your current speed is 36.\n",
      "Found vehicle infront. Decreasing the speed.\n",
      "Your current speed is 29.\n",
      "Your current speed is 29.\n",
      "Increasing.\n",
      "Your current speed is 36.\n",
      "Your current speed is 36.\n",
      "Found vehicle infront. Decreasing the speed.\n",
      "Your current speed is 29.\n",
      "Your current speed is 29.\n",
      "Increasing.\n",
      "Your current speed is 36.\n",
      "Found vehicle infront. Decreasing the speed.\n",
      "Your current speed is 29.\n",
      "Setting the current speed to 50.\n",
      "Your current speed is 50.\n",
      "Found vehicle infront. Decreasing the speed.\n",
      "Your current speed is 43.\n",
      "Your current speed is 43.\n",
      "Your current speed is 43.\n",
      "Increasing.\n",
      "Your current speed is 50.\n",
      "Your current speed is 50.\n",
      "Your current speed is 50.\n",
      "Found vehicle infront. Decreasing the speed.\n",
      "Your current speed is 43.\n",
      "Found vehicle infront. Decreasing the speed.\n",
      "Your current speed is 36.\n",
      "Found vehicle infront. Decreasing the speed.\n",
      "Your current speed is 29.\n",
      "Your current speed is 29.\n",
      "Setting the current speed to 50.\n",
      "Your current speed is 50.\n",
      "Your current speed is 50.\n",
      "Increasing.\n",
      "Your current speed is 57.\n",
      "Found vehicle infront. Decreasing the speed.\n",
      "Your current speed is 50.\n",
      "Your current speed is 50.\n",
      "Your current speed is 50.\n",
      "Increasing.\n",
      "Your current speed is 57.\n",
      "Found vehicle infront. Decreasing the speed.\n",
      "Your current speed is 50.\n",
      "Your current speed is 50.\n",
      "Found vehicle infront. Decreasing the speed.\n",
      "Your current speed is 43.\n",
      "Found vehicle infront. Decreasing the speed.\n",
      "Your current speed is 36.\n",
      "Found vehicle infront. Decreasing the speed.\n",
      "Your current speed is 29.\n",
      "Setting the current speed to 50.\n",
      "Your current speed is 50.\n",
      "Your current speed is 50.\n",
      "Found vehicle infront. Decreasing the speed.\n",
      "Your current speed is 43.\n",
      "Found vehicle infront. Decreasing the speed.\n",
      "Your current speed is 36.\n",
      "Found vehicle infront. Decreasing the speed.\n",
      "Your current speed is 29.\n",
      "Increasing.\n",
      "Your current speed is 36.\n",
      "Increasing.\n",
      "Your current speed is 43.\n",
      "Your current speed is 43.\n",
      "Found vehicle infront. Decreasing the speed.\n",
      "Your current speed is 36.\n",
      "Your current speed is 36.\n",
      "Found vehicle infront. Decreasing the speed.\n",
      "Your current speed is 29.\n",
      "Your current speed is 29.\n",
      "Setting the current speed to 50.\n",
      "Your current speed is 50.\n",
      "Found vehicle infront. Decreasing the speed.\n",
      "Your current speed is 43.\n",
      "Increasing.\n",
      "Your current speed is 50.\n",
      "Your current speed is 50.\n",
      "Increasing.\n",
      "Your current speed is 57.\n",
      "Found vehicle infront. Decreasing the speed.\n",
      "Your current speed is 50.\n",
      "Found vehicle infront. Decreasing the speed.\n",
      "Your current speed is 43.\n",
      "Found vehicle infront. Decreasing the speed.\n",
      "Your current speed is 36.\n",
      "Found vehicle infront. Decreasing the speed.\n",
      "Your current speed is 29.\n",
      "Increasing.\n",
      "Your current speed is 36.\n",
      "Found vehicle infront. Decreasing the speed.\n",
      "Your current speed is 29.\n",
      "Setting the current speed to 50.\n",
      "Your current speed is 50.\n",
      "Found vehicle infront. Decreasing the speed.\n",
      "Your current speed is 43.\n",
      "Found vehicle infront. Decreasing the speed.\n",
      "Your current speed is 36.\n",
      "Found vehicle infront. Decreasing the speed.\n",
      "Your current speed is 29.\n",
      "Setting the current speed to 50.\n",
      "Your current speed is 50.\n",
      "Found vehicle infront. Decreasing the speed.\n",
      "Your current speed is 43.\n",
      "Found vehicle infront. Decreasing the speed.\n",
      "Your current speed is 36.\n",
      "Found vehicle infront. Decreasing the speed.\n",
      "Your current speed is 29.\n",
      "Setting the current speed to 50.\n",
      "Your current speed is 50.\n",
      "Your current speed is 50.\n",
      "Found vehicle infront. Decreasing the speed.\n",
      "Your current speed is 43.\n",
      "Found vehicle infront. Decreasing the speed.\n",
      "Your current speed is 36.\n",
      "Found vehicle infront. Decreasing the speed.\n",
      "Your current speed is 29.\n",
      "Setting the current speed to 50.\n",
      "Your current speed is 50.\n",
      "Found vehicle infront. Decreasing the speed.\n",
      "Your current speed is 43.\n",
      "Your current speed is 43.\n",
      "Your current speed is 43.\n",
      "Found vehicle infront. Decreasing the speed.\n",
      "Your current speed is 36.\n",
      "Increasing.\n",
      "Your current speed is 43.\n",
      "Found vehicle infront. Decreasing the speed.\n",
      "Your current speed is 36.\n",
      "Found vehicle infront. Decreasing the speed.\n",
      "Your current speed is 29.\n",
      "Increasing.\n",
      "Your current speed is 36.\n",
      "Your current speed is 36.\n",
      "Your current speed is 36.\n",
      "Your current speed is 36.\n",
      "Increasing.\n",
      "Your current speed is 43.\n",
      "Found vehicle infront. Decreasing the speed.\n",
      "Your current speed is 36.\n",
      "Found vehicle infront. Decreasing the speed.\n",
      "Your current speed is 29.\n",
      "Setting the current speed to 50.\n",
      "Your current speed is 50.\n",
      "Found vehicle infront. Decreasing the speed.\n",
      "Your current speed is 43.\n",
      "Found vehicle infront. Decreasing the speed.\n",
      "Your current speed is 36.\n",
      "Found vehicle infront. Decreasing the speed.\n",
      "Your current speed is 29.\n",
      "Setting the current speed to 50.\n",
      "Your current speed is 50.\n",
      "Found vehicle infront. Decreasing the speed.\n",
      "Your current speed is 43.\n",
      "Found vehicle infront. Decreasing the speed.\n",
      "Your current speed is 36.\n",
      "Found vehicle infront. Decreasing the speed.\n",
      "Your current speed is 29.\n",
      "Your current speed is 29.\n",
      "Setting the current speed to 50.\n",
      "Your current speed is 50.\n",
      "Increasing.\n",
      "Your current speed is 57.\n",
      "Found vehicle infront. Decreasing the speed.\n",
      "Your current speed is 50.\n",
      "Your current speed is 50.\n",
      "Your current speed is 50.\n",
      "Your current speed is 50.\n",
      "Increasing.\n",
      "Your current speed is 57.\n",
      "Increasing.\n",
      "Your current speed is 64.\n",
      "Found vehicle infront. Decreasing the speed.\n",
      "Your current speed is 57.\n",
      "Increasing.\n",
      "Your current speed is 64.\n",
      "Increasing.\n",
      "Your current speed is 71.\n"
     ]
    }
   ],
   "source": [
    "import random\n",
    "speed_limit = 70 # 70 mph\n",
    "curr_speed = 50 # current speed\n",
    "min_speed = 30\n",
    "increase_rate = 7 # increase rate\n",
    "distance_min_threshold = 15\n",
    "distance_max_threshold = 30\n",
    "print(\"Increase speed limit setting to {0}.\".format(increase_rate))\n",
    "while curr_speed <= speed_limit:\n",
    "    is_vehicle_front = random.choice([True, False])\n",
    "    front_vehicle_dist = random.randint(15,50)\n",
    "    if not is_vehicle_front:\n",
    "        if front_vehicle_dist in range(distance_min_threshold, distance_max_threshold):\n",
    "            curr_speed += increase_rate\n",
    "            print(\"Increasing.\")\n",
    "    else:\n",
    "        if curr_speed <=30:\n",
    "            curr_speed = 50\n",
    "            print(\"Setting the current speed to 50.\")\n",
    "        else:\n",
    "            print(\"Found vehicle infront. Decreasing the speed.\")\n",
    "            curr_speed -= increase_rate            \n",
    "    print(\"Your current speed is {0}.\".format(curr_speed))"
   ]
  },
  {
   "cell_type": "markdown",
   "metadata": {},
   "source": [
    "**Infinite Loop**: Loop that never ends. This happens when the condition in loop is always `true`. To exit from terminal type _Ctrl + c_."
   ]
  },
  {
   "cell_type": "markdown",
   "metadata": {},
   "source": [
    "#### 3.6 for Statement\n",
    "`for` statement is used to repeat an action over a sequence or range of values/items."
   ]
  },
  {
   "cell_type": "code",
   "execution_count": 7,
   "metadata": {},
   "outputs": [
    {
     "name": "stdout",
     "output_type": "stream",
     "text": [
      "A~n~a~l~y~t~i~c~s~ ~T~e~n~s~o~r~ ~C~o~n~s~u~l~t~i~n~g~"
     ]
    }
   ],
   "source": [
    "name = \"Analytics Tensor Consulting\"\n",
    "for s in name:\n",
    "    print(s + \"~\", end='')"
   ]
  },
  {
   "cell_type": "markdown",
   "metadata": {},
   "source": [
    "`range` functions: Range function is used to produce a sequence of integers.  \n",
    "range(stop)  \n",
    "range(start, stop\\[, step\\])"
   ]
  },
  {
   "cell_type": "code",
   "execution_count": 8,
   "metadata": {},
   "outputs": [
    {
     "name": "stdout",
     "output_type": "stream",
     "text": [
      "Example 1:range 10\n",
      "0\n",
      "1\n",
      "2\n",
      "3\n",
      "4\n",
      "5\n",
      "6\n",
      "7\n",
      "8\n",
      "9\n",
      "Example 2:range 5-9\n",
      "5\n",
      "6\n",
      "7\n",
      "8\n",
      "Example 3:range 7-20, step 3\n",
      "7\n",
      "10\n",
      "13\n",
      "16\n",
      "19\n"
     ]
    }
   ],
   "source": [
    "print(\"Example 1:range 10\")\n",
    "for value in range(10):\n",
    "    print(value)\n",
    "print(\"Example 2:range 5-9\")\n",
    "for value in range(5,9):\n",
    "    print(value)\n",
    "print(\"Example 3:range 7-20, step 3\")\n",
    "for value in range(7,20,3):\n",
    "    print(value)"
   ]
  },
  {
   "cell_type": "code",
   "execution_count": 9,
   "metadata": {},
   "outputs": [
    {
     "name": "stdout",
     "output_type": "stream",
     "text": [
      "MySQL\n",
      "Python\n",
      "Spark\n",
      "Cloud\n",
      "Java\n",
      "Design Pattern\n"
     ]
    }
   ],
   "source": [
    "course = [\"MySQL\", \"Python\", \"Spark\", \"Cloud\", \"Java\", \"Design Pattern\"]\n",
    "for cour in course:\n",
    "    print(cour)"
   ]
  },
  {
   "cell_type": "code",
   "execution_count": 10,
   "metadata": {},
   "outputs": [
    {
     "name": "stdout",
     "output_type": "stream",
     "text": [
      "Total file size in current directory is 0.20589447021484375 Megabytes.\n",
      "total 432\r\n",
      "  0 drwxr-xr-x  6 kcmahesh  staff   192B Aug 24 08:15 \u001b[1m\u001b[34m.\u001b[m\u001b[m\r\n",
      "  0 drwxr-xr-x  9 kcmahesh  staff   288B Aug 23 22:23 \u001b[1m\u001b[34m..\u001b[m\u001b[m\r\n",
      "  0 drwxr-xr-x  4 kcmahesh  staff   128B Aug 23 22:28 \u001b[1m\u001b[34m.ipynb_checkpoints\u001b[m\u001b[m\r\n",
      " 48 -rw-r--r--  1 kcmahesh  staff    23K Aug 25 08:30 Chapter_3.ipynb\r\n",
      "216 -rw-r--r--  1 kcmahesh  staff   106K Aug 23 22:27 Online_Retail.xlsx\r\n",
      "168 -rw-r--r--  1 kcmahesh  staff    81K Aug 23 22:28 data_analysis_2.ipynb\r\n"
     ]
    }
   ],
   "source": [
    "file_size = !ls -la | awk '{print $5}'\n",
    "total_size = 0\n",
    "for size in file_size:\n",
    "    if size.isdigit():\n",
    "        total_size += int(size)\n",
    "print(\"Total file size in current directory is {} Megabytes.\".format(total_size/(1024*1024)))\n",
    "!ls -lash"
   ]
  },
  {
   "cell_type": "markdown",
   "metadata": {},
   "source": [
    "#### 3.7 break and continue Statement\n",
    "`break` and `continue` statement are used to alter the flow of control in loop statement.  \n",
    "* `break` statement will exist the `while` and `for` loop statement.  \n",
    "* `continue` statement will skip the current iteration in `while` and `for` loop statement. In `while` loop the condition is tested again for next execution. In `for` loop the next iteration items selected. "
   ]
  },
  {
   "cell_type": "code",
   "execution_count": 11,
   "metadata": {},
   "outputs": [
    {
     "name": "stdout",
     "output_type": "stream",
     "text": [
      "abcdefghijklmnopqrstuvwxyz\n",
      "Break at letter 's'.\n",
      "a b c d e f g h i j k l m n o p q r \n",
      "Continue and make letter analytics upper case.\n",
      "A b C d e f g h I j k L m N o p q r S T u v w x Y z "
     ]
    }
   ],
   "source": [
    "import string\n",
    "alphabet = string.ascii_lowercase\n",
    "print(alphabet)\n",
    "print(\"Break at letter 's'.\")\n",
    "for alpha in alphabet:\n",
    "    if alpha == 's':\n",
    "        break\n",
    "    print(alpha, end=' ')\n",
    "print(\"\\nContinue and make letter analytics upper case.\")    \n",
    "for alpha in alphabet:\n",
    "    if alpha in ('a','n','l','y','t','i','c','s'):\n",
    "        print(alpha.upper(), end=' ')\n",
    "        continue\n",
    "    print(alpha, end=' ')"
   ]
  },
  {
   "cell_type": "markdown",
   "metadata": {},
   "source": [
    "#### 3.8 Formatted Strings\n",
    "Python uses C-style to format the string.\n",
    "* `%` operator is used to format a set of variables in `tuple`. It uses:\n",
    "    * `%s`: String\n",
    "    * `%d`: Integers\n",
    "    * `%f`: Floating Point\n",
    "    * `%c`: Charcter\n",
    "    * `%b`: Binary\n",
    "    * `%o`: Octal\n",
    "    * `%.<digits>f`: Floating point numbers with fixed digts on right\n",
    "    * `%x/%x`: Integers in hexadecimal\n",
    "    \n",
    "  `%s` is also used to format the string that are not String type. e.g. List. To format\n",
    "* str.format(): It is an string functions used to format string. It used to substitute the values identified in curly braces {}.\n",
    "    * `{}.format(value)`: It is used to format single values. The {} is the placeholder for substituting value. Values can be integer, floating-point, string etc.\n",
    "    * `{}{}.format(value_1, value_2)`: It is used to format multiple values. \n",
    "    * `{0}{1}.format(positional_argument, keyword_argument)`: It is used to format multiple values by passing index number. Since `str.format()` is tuple type. The value are always starts with 0."
   ]
  },
  {
   "cell_type": "code",
   "execution_count": 12,
   "metadata": {},
   "outputs": [
    {
     "name": "stdout",
     "output_type": "stream",
     "text": [
      "\n",
      "Welcome to Analytics Tensor.\n",
      "\n",
      "Welcome to Analytics Tensor. We are established in 2019. We provide Provide analytics solutions and consulting. The current course materials are: ['MySQL', 'Python', 'Spark', 'Cloud', 'Java', 'Design Pattern']\n"
     ]
    }
   ],
   "source": [
    "# String formatting with %\n",
    "name = \"Analytics Tensor\"\n",
    "estd = 2019\n",
    "descrip = \"Provide analytics solutions and consulting.\"\n",
    "course = [\"MySQL\", \"Python\", \"Spark\", \"Cloud\", \"Java\", \"Design Pattern\"]\n",
    "\n",
    "print(\"\\nWelcome to %s.\" %name)\n",
    "greet = \"\\nWelcome to %s. We are established in %d. We provide %s \\\n",
    "The current course materials are: %s\" % (name, estd, descrip, course)\n",
    "print(greet)"
   ]
  },
  {
   "cell_type": "code",
   "execution_count": 13,
   "metadata": {},
   "outputs": [
    {
     "name": "stdout",
     "output_type": "stream",
     "text": [
      "\n",
      "Welcome to Analytics Tensor.\n",
      "\n",
      "Welcome to Analytics Tensor. We are established in 2019. We provide Provide analytics solutions and consulting. The current course materials are: ['MySQL', 'Python', 'Spark', 'Cloud', 'Java', 'Design Pattern']\n",
      "\n",
      "Welcome to Analytics Tensor. We are established in Provide analytics solutions and consulting.. We provide 2019 The current course materials are: ['MySQL', 'Python', 'Spark', 'Cloud', 'Java', 'Design Pattern']\n"
     ]
    }
   ],
   "source": [
    "# String formatting with str.format()\n",
    "name = \"Analytics Tensor\"\n",
    "estd = 2019\n",
    "descrip = \"Provide analytics solutions and consulting.\"\n",
    "course = [\"MySQL\", \"Python\", \"Spark\", \"Cloud\", \"Java\", \"Design Pattern\"]\n",
    "\n",
    "print(\"\\nWelcome to {}.\".format(name))\n",
    "greet = \"\\nWelcome to {}. We are established in {}. We provide {} \\\n",
    "The current course materials are: {}\".format(name, estd, descrip, course)\n",
    "print(greet)\n",
    "\n",
    "greet = \"\\nWelcome to {3}. We are established in {0}. We provide {1} \\\n",
    "The current course materials are: {2}\".format(descrip, estd, course, name)\n",
    "print(greet)"
   ]
  },
  {
   "cell_type": "code",
   "execution_count": 14,
   "metadata": {},
   "outputs": [
    {
     "name": "stdout",
     "output_type": "stream",
     "text": [
      "Have you learned about MySQL?\n",
      "Enter (1 for YES;0 for NO):1\n",
      "Have you learned about Python?\n",
      "Enter (1 for YES;0 for NO):1\n",
      "Have you learned about Spark?\n",
      "Enter (1 for YES;0 for NO):1\n",
      "Have you learned about Cloud?\n",
      "Enter (1 for YES;0 for NO):1\n",
      "Have you learned about Java?\n",
      "Enter (1 for YES;0 for NO):1\n",
      "Have you learned about Design Pattern?\n",
      "Enter (1 for YES;0 for NO):0\n",
      "\n",
      "===================================\n",
      "\tMetrics of Courses\n",
      "===================================\n",
      "\n",
      "Total course you learned:\n",
      "MySQL Python Spark Cloud Java\n",
      "Percentage of learning:83.33\n"
     ]
    }
   ],
   "source": [
    "# Learning progress tracker\n",
    "import keyword as kw\n",
    "reserved_kw = ['MySQL', 'Python', 'Spark', 'Cloud', 'Java', 'Design Pattern'] #kw.kwlist\n",
    "known_kw =  []\n",
    "unknown_kw =  []\n",
    "for item in reserved_kw:\n",
    "    print(\"Have you learned about {}?\".format(item))\n",
    "    value = input(\"Enter (1 for YES;0 for NO):\")\n",
    "    if int(value) == 1:\n",
    "        known_kw.append(item)\n",
    "    elif int(value) == 0:\n",
    "        unknown_kw.append(item)\n",
    "    else:\n",
    "        print(\"Invalid input {}\".format(value))\n",
    "_known_percentage = (len(known_kw)/len(reserved_kw)) * 100\n",
    "print(\"\\n===================================\\n\\tMetrics of Courses\\n===================================\")\n",
    "print(\"\\nTotal course you learned:\")\n",
    "print(\" \".join(map(str,known_kw)))\n",
    "print(\"Percentage of learning:\" + str(round(_known_percentage,2)))"
   ]
  }
 ],
 "metadata": {
  "kernelspec": {
   "display_name": "Python 3",
   "language": "python",
   "name": "python3"
  },
  "language_info": {
   "codemirror_mode": {
    "name": "ipython",
    "version": 3
   },
   "file_extension": ".py",
   "mimetype": "text/x-python",
   "name": "python",
   "nbconvert_exporter": "python",
   "pygments_lexer": "ipython3",
   "version": "3.7.3"
  }
 },
 "nbformat": 4,
 "nbformat_minor": 2
}
