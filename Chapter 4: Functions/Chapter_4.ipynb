{
 "cells": [
  {
   "cell_type": "markdown",
   "metadata": {},
   "source": [
    "# Chapter 4: Functions"
   ]
  },
  {
   "cell_type": "markdown",
   "metadata": {},
   "source": [
    "[**4.1 Functions**](#4.1-Functions)   \n",
    "[**4.2 User Defined Functions**](#4.2-User-Defined-Functions)   \n",
    "[**4.2.1 Define Functions**](#4.2.1-Define-Functions)   \n",
    "[**4.2.2 Variable Scope**](#4.2.2-Variable-Scope)   \n",
    "[**4.2.3 Function Documentation**](#4.2.3-Function-Documentation)   \n",
    "[**4.2.4 Function Parameter**](#4.2.4-Function-Parameter)   \n",
    "[**4.2.5 Default Parameter Values**](#4.2.5-Default-Parameter-Values)   \n",
    "[**4.2.6 Keyword Arguments**](#4.2.6-Keyword-Arguments)   \n",
    "[**4.2.7 Arbitrary Arguments Lists**](#4.2.7-Arbitrary-Arguments-Lists)   \n",
    "[**4.3 Recursion**](#4.3-Recursion)  \n",
    "[**4.4 Module**](#4.4-Module)  \n",
    "[**4.5 Lambda**](#4.5-Lambda)    \n",
    "[**Data Analytics**](#Data-Analytics)   "
   ]
  },
  {
   "cell_type": "markdown",
   "metadata": {},
   "source": [
    "#### 4.1 Functions\n",
    "**Functions**: Functions is a set of statements that perform certain task based on the input and generate output or modify values. Functions are created to organize the code that repeat multiple times. When there is a repeated code we can organize them creating a function and call them where ever we need. Function helps to reduce the amount of repeated code, organize the code based on business logic, maintain code easily for refactoring or implementing changes.  \n",
    "We have already discussed many built-in functions such as:  \n",
    "`print`  \n",
    "`type`  \n",
    "`input`  \n",
    "`datetime`  \n",
    "`range`  \n",
    "`random` and several `string functions`.  \n",
    "*Note: Python has many useful built-in functions so before writing your own function check if functions exit which helps to eliminate redundancy.*"
   ]
  },
  {
   "cell_type": "markdown",
   "metadata": {},
   "source": [
    "#### 4.2 User Defined Functions\n",
    "User Defined Functions (UDF) also known as custom functions are created to break the large program into chunk of  small logical unit to solve specific business problem. UDF are created not only to solve problem but also to faciliate functionality of program. i.e. to support the functions itself such as check file types, generate custom timestamp, calculate total job runtime etc."
   ]
  },
  {
   "cell_type": "markdown",
   "metadata": {},
   "source": [
    "#### 4.2.1 Define Functions\n",
    "A function is defined with `def` keyword followed by `function-name`, list of parameter surrounded by parentheses `()` and a colon `:`. The function name should always begin with a lowercase letter and if it contains multiple words then it should use underscore `_` to seperate the word.  \n",
    "*Note: The recommended parameter list should always be as minimum as possible to reduce complexity and unit test.*  \n",
    "\n",
    "**Parameter** is a variable defined in method definition.   \n",
    "**Argument** is the actual value which is passed while calling a function.  \n",
    "\n",
    "The line after `:` consists of function's block with an optional docstring in first line. Docstring explains the purpose of function defined on multiple line. It is very useful to provide docstring which helps other developer to understand and easily maintain/modify the code in future. It is also useful for documentation purpose. If the function produce output then it should have `return` statement. The `return` statement terminate the function and generate the output to the caller."
   ]
  },
  {
   "cell_type": "code",
   "execution_count": 1,
   "metadata": {},
   "outputs": [],
   "source": [
    "def convert_fahrenheit_celsius(degree_fahrenheit):\n",
    "    \"\"\"Convert degree Fahrenheit to degree Celsius\n",
    "    input: degree_fahrenheit\n",
    "    output: degree_celsius    \n",
    "    \"\"\"\n",
    "    celsius = (degree_fahrenheit - 32) * (5/9)\n",
    "    rounded_celsius = round(celsius,2)\n",
    "    return rounded_celsius\n",
    "\n",
    "degree_celsius = convert_fahrenheit_celsius(-19)\n",
    "print(degree_celsius)"
   ]
  },
  {
   "cell_type": "markdown",
   "metadata": {},
   "source": [
    "The code snippet above described briefly:\n",
    "* Line 1: `def` keyword defines the begining of a function, `convert_fahrenheit_celsius` is a function name, `degree_fahrenheit` is input parameter to a function, and `:` is terminate the function header and starts the function blocks. \n",
    "* Line 2-5: docstring inside triple quote `\"\"\"`.\n",
    "* Line 6: `celsius` local variable to store the calculation's value for `(degree_fahrenheit - 32) * (5/9)`\n",
    "* Line 7: `rounded_celsius` local variable to store the 2 digit round value from `round(celsius,2)`\n",
    "* Line 8: `return` keyword to output the `rounded_celsius` value from the function.\n",
    "* Line 10: `degree_celsius`  is a variable to store the value return by function `convert_fahrenheit_celsius`. **-19** value is argument to function. The output value return from function is **-28.33**."
   ]
  },
  {
   "cell_type": "markdown",
   "metadata": {},
   "source": [
    "#### 4.2.2 Variable Scope\n",
    "**Local Variable**: All the variables defined inside the function are local variables. The scope of function is valid only inside the function but outside the function. You'll get `NameError` when you try to access the variable outside the functions shown below."
   ]
  },
  {
   "cell_type": "code",
   "execution_count": 2,
   "metadata": {},
   "outputs": [],
   "source": [
    "from datetime import datetime\n",
    "def get_date():\n",
    "    \"\"\"\n",
    "    Get current date with string type in yyyy-mm-dd format.\n",
    "        >>> get_date()\n",
    "        2019-08-28\n",
    "    :return: current date  \n",
    "    :rtype: string\n",
    "    \"\"\"\n",
    "    curr_timestamp = datetime.now()\n",
    "    curr_date = curr_timestamp.strftime(\"%Y-%m-%d\")\n",
    "    return curr_date"
   ]
  },
  {
   "cell_type": "code",
   "execution_count": 3,
   "metadata": {},
   "outputs": [
    {
     "name": "stdout",
     "output_type": "stream",
     "text": [
      "Today is 2019-09-06\n"
     ]
    },
    {
     "ename": "NameError",
     "evalue": "name 'curr_timestamp' is not defined",
     "output_type": "error",
     "traceback": [
      "\u001b[0;31m---------------------------------------------------------------------------\u001b[0m",
      "\u001b[0;31mNameError\u001b[0m                                 Traceback (most recent call last)",
      "\u001b[0;32m<ipython-input-3-53effb5c9bd6>\u001b[0m in \u001b[0;36m<module>\u001b[0;34m\u001b[0m\n\u001b[1;32m      1\u001b[0m \u001b[0mprint\u001b[0m\u001b[0;34m(\u001b[0m\u001b[0;34m\"Today is %s\"\u001b[0m \u001b[0;34m%\u001b[0m \u001b[0mget_date\u001b[0m\u001b[0;34m(\u001b[0m\u001b[0;34m)\u001b[0m\u001b[0;34m)\u001b[0m\u001b[0;34m\u001b[0m\u001b[0;34m\u001b[0m\u001b[0m\n\u001b[0;32m----> 2\u001b[0;31m \u001b[0mprint\u001b[0m\u001b[0;34m(\u001b[0m\u001b[0;34m\"Today is %s\"\u001b[0m \u001b[0;34m%\u001b[0m \u001b[0mcurr_timestamp\u001b[0m\u001b[0;34m)\u001b[0m \u001b[0;31m# Accessing the local variable outside a functions\u001b[0m\u001b[0;34m\u001b[0m\u001b[0;34m\u001b[0m\u001b[0m\n\u001b[0m",
      "\u001b[0;31mNameError\u001b[0m: name 'curr_timestamp' is not defined"
     ]
    }
   ],
   "source": [
    "print(\"Today is %s\" % get_date())\n",
    "print(\"Today is %s\" % curr_timestamp) # Accessing the local variable outside a functions"
   ]
  },
  {
   "cell_type": "code",
   "execution_count": null,
   "metadata": {},
   "outputs": [],
   "source": [
    "!ls # list directory\n",
    "!mkdir {get_date()} # make directory with current date by calling get_date function.\n",
    "                    # {varname} is used to pass the python variables into the shell.\n",
    "!ls # list directory"
   ]
  },
  {
   "cell_type": "markdown",
   "metadata": {},
   "source": [
    "**Global Variable**: All the variables defined outside any function or class are known as `global variables`. Global variables can be used anywhere inside a python file or interactive session after they are declared. The value of global variable cannot be changed inside a function. The scope of functions will be local only inside the function."
   ]
  },
  {
   "cell_type": "code",
   "execution_count": null,
   "metadata": {},
   "outputs": [],
   "source": [
    "value = 50 # global variable\n",
    "def variable_scope():\n",
    "    value = 10 # local variable\n",
    "    print(\"Value inside fuction:\",value)\n",
    "    \n",
    "print(\"Before function call:\",value)\n",
    "variable_scope()\n",
    "print(\"After function call:\",value)"
   ]
  },
  {
   "cell_type": "markdown",
   "metadata": {},
   "source": [
    "In order to modify the value of global variable inside the function `global` stamtent should be declared inside the function."
   ]
  },
  {
   "cell_type": "code",
   "execution_count": null,
   "metadata": {},
   "outputs": [],
   "source": [
    "value = 50 # global variable\n",
    "def variable_scope():\n",
    "    global value\n",
    "    value = 10 # local variable\n",
    "    print(\"Value inside fuction:\",value)\n",
    "    \n",
    "print(\"Before function call:\",value)\n",
    "variable_scope()\n",
    "print(\"After function call:\",value)"
   ]
  },
  {
   "cell_type": "markdown",
   "metadata": {},
   "source": [
    "#### 4.2.3 Function Documentation\n",
    "The docstring is used to provide description about function. We can access the docstring by passing function name followed by `?`. `??` is used to display all the source code of functions. `help` is also used to describe the functions description. You can choose which your favourite method to display the help information. I prefer to use `help`."
   ]
  },
  {
   "cell_type": "code",
   "execution_count": null,
   "metadata": {},
   "outputs": [],
   "source": [
    "help(get_date)  #describe function \n",
    "get_date?\n",
    "get_date??"
   ]
  },
  {
   "cell_type": "markdown",
   "metadata": {},
   "source": [
    "#### 4.2.4 Function Parameter\n",
    "Function can contain several parameters. The parameter to a function is choosen based on the business requirement/logic. The parameter can be any types i.e. int, float, boolean, string, object etc."
   ]
  },
  {
   "cell_type": "code",
   "execution_count": null,
   "metadata": {},
   "outputs": [],
   "source": [
    "def tokenizer(sentence, stats):\n",
    "    string_len = len(sentence)\n",
    "    string_token = sentence.split()\n",
    "    print(\"Input String:%s\" % sentence)    \n",
    "    if(stats):\n",
    "        import pandas as pd\n",
    "        print(\"=================\\n   Statistics\\n=================\")\n",
    "        print(\"String length: %s.\" % string_len)\n",
    "        df_string = pd.Series(string_token)\n",
    "        df_count = df_string.groupby(df_string).size()\n",
    "        print(df_count)    \n",
    "\n",
    "tokenizer(\"Hello this is a a new class. Hellow this is a a new class. Hellow this is a a new class.\", True)"
   ]
  },
  {
   "cell_type": "markdown",
   "metadata": {},
   "source": [
    "#### 4.2.5 Default Parameter Values\n",
    "Values which are defined while creating functions are known as `default parameter values`. When a function is created with default paramater values then while calling the function without any parameter the default value will be passed. But if we pass the parameter then the default value will be ignored. Default parameter values is set by **parameter=value**. Arguments are always assigned from left to right. The first value will always leftmost argument value."
   ]
  },
  {
   "cell_type": "code",
   "execution_count": null,
   "metadata": {},
   "outputs": [],
   "source": [
    "def greeting(name='John', message='Welcome', ):\n",
    "    greet = message + \" \" + name + \".\"\n",
    "    return greet\n",
    "\n",
    "greeting() # no argument"
   ]
  },
  {
   "cell_type": "code",
   "execution_count": null,
   "metadata": {},
   "outputs": [],
   "source": [
    "print(greeting(\"Python\")) # one argument\n",
    "print(greeting(\"Pandas\", \"Learning\")) # two argument\n",
    "print(greeting(\"Pandas\", \"Learning\", \"is good\")) # what happen if we pass three argument"
   ]
  },
  {
   "cell_type": "markdown",
   "metadata": {},
   "source": [
    "#### 4.2.6 Keyword Arguments\n",
    "`Keyword arguments` is used to pass arguments in **any** order. Keyworkd argument uses `parameter_name=value` form where parameter_name is the actual name of parameter and value is associated values for that parameter. If the parameter name is not specified then by default the value are chosen from left to right. Keyword arguments helps make code readability in function calls where function has many arguments."
   ]
  },
  {
   "cell_type": "code",
   "execution_count": null,
   "metadata": {},
   "outputs": [],
   "source": [
    "def arithmetic_operation(first_value, second_value, operation):\n",
    "    if(operation == 'add'):\n",
    "        calculation = first_value + second_value\n",
    "    elif(operation == 'subtract'):\n",
    "        calculation = first_value - second_value\n",
    "    elif(operation == 'multiply'):\n",
    "        calculation = first_value * second_value\n",
    "    elif(operation == 'divide'):\n",
    "        calculation = first_value / second_value\n",
    "    elif(operation == 'modulo'):\n",
    "        calculation = first_value % second_value\n",
    "    elif(operation == 'exponent'):\n",
    "        calculation = first_value ** second_value\n",
    "    else:\n",
    "        print(\"Undefined operation:{}. Returns None value\".format(operation))\n",
    "        return None\n",
    "    return calculation\n",
    "\n",
    "arithmetic_operation(first_value=5, second_value=10, operation='add')"
   ]
  },
  {
   "cell_type": "code",
   "execution_count": null,
   "metadata": {},
   "outputs": [],
   "source": [
    "print(arithmetic_operation(second_value=50, first_value=20, operation='subtract'))\n",
    "print(arithmetic_operation( operation='divide',first_value=50, second_value=20))\n",
    "print(arithmetic_operation(2,10,'exponent'))"
   ]
  },
  {
   "cell_type": "markdown",
   "metadata": {},
   "source": [
    "#### 4.2.7 Arbitrary Arguments Lists\n",
    "`Arbitrary arguments lists` functions can have any number of arguments. The parameter is defned with `*args` form. The **\\*** before **args** indicate Python to accept any number of parameter to be packed in the form of tuples. The `args` parameter name is used by convention but we can use any name instead. If there are multiple parameters then **\\*args** must be always rightmost parameter in function.\n",
    "\n",
    "Looking at the Python built-in function such as `min`, `max` etc. Those function requires two values i.e. *arg1* and *arg2* and optional third parameter *\\*args*."
   ]
  },
  {
   "cell_type": "code",
   "execution_count": null,
   "metadata": {},
   "outputs": [],
   "source": [
    "help(min)"
   ]
  },
  {
   "cell_type": "code",
   "execution_count": null,
   "metadata": {},
   "outputs": [],
   "source": [
    "print(min(10,50))\n",
    "print(min(10,50,100,900,1))\n",
    "print(min(0,10,50,0,4,3,2))"
   ]
  },
  {
   "cell_type": "code",
   "execution_count": null,
   "metadata": {},
   "outputs": [],
   "source": [
    "def mean(*args):\n",
    "    return sum(args) / len(args)"
   ]
  },
  {
   "cell_type": "code",
   "execution_count": null,
   "metadata": {},
   "outputs": [],
   "source": [
    "print(mean(10))\n",
    "print(mean(10,20))\n",
    "print(mean(10,20,20,5,6,10))"
   ]
  },
  {
   "cell_type": "markdown",
   "metadata": {},
   "source": [
    "**Passing Iterable Elements**: The values of tuple, list and other iterable elements can be pass into function as individual arguments by using `* operator`. This operator unpacks all the element as individual parameter into a function as an arguments."
   ]
  },
  {
   "cell_type": "code",
   "execution_count": null,
   "metadata": {},
   "outputs": [],
   "source": [
    "score = [10,20,30,40,50,20,10,20,40,10]\n",
    "print(mean(*score)) # same as mean(10,20,30,40,50,20,10,20,40,10)"
   ]
  },
  {
   "cell_type": "markdown",
   "metadata": {},
   "source": [
    "**\\*\\*kwargs**: It is known as keyword arguments which is used to pass keyworded argument list. It uses `**` instead of `*` . In keyword argument, the key/value is passed as function argument. It also accept any numbers of argument similar to `*args`. Dictionary can also be passed in `kwargs`."
   ]
  },
  {
   "cell_type": "code",
   "execution_count": null,
   "metadata": {},
   "outputs": [],
   "source": [
    "def countries_abbr(**kwargs):\n",
    "    print(kwargs)\n",
    "    \n",
    "countries_abbr(us=\"United States\",uk=\"United Kingdom\")"
   ]
  },
  {
   "cell_type": "code",
   "execution_count": null,
   "metadata": {},
   "outputs": [],
   "source": [
    "def print_information(**kwargs):\n",
    "    for k, v in kwargs.items():\n",
    "        if k == 'name':\n",
    "            print(\"Full Name:\",v)\n",
    "        if k == 'course':\n",
    "            print(\"Course Name:\",v)\n",
    "        if k == 'grade':\n",
    "            print(\"Course Grade:\",v)\n",
    "            \n",
    "            \n",
    "student_info={'name':'John Doe', 'course':'Python', 'grade':9.5}\n",
    "print_information(**student_info)   "
   ]
  },
  {
   "cell_type": "markdown",
   "metadata": {},
   "source": [
    "**Reading Assignment**\n",
    "* Pass-by-value\n",
    "* Pass-by-reference"
   ]
  },
  {
   "cell_type": "markdown",
   "metadata": {},
   "source": [
    "#### 4.3 Recursion\n",
    "When a function calls itself directly or indirectly then it is known as `recursion`. Those types of fuction is called `recursive function`. Recursive algorithm helps to easily solve complex problem. Various problem solved with recursion includes Towers of Hanoi, Tree Traversal etc. **Stack overflow** occurs if there is infinite recursion."
   ]
  },
  {
   "cell_type": "code",
   "execution_count": null,
   "metadata": {},
   "outputs": [],
   "source": [
    "def factorial(value):\n",
    "    if value <=1:\n",
    "        return 1\n",
    "    return value * factorial(value - 1)\n",
    "\n",
    "factorial_value = factorial(5)\n",
    "print(\"Factorial of 5:\",factorial_value)   "
   ]
  },
  {
   "cell_type": "markdown",
   "metadata": {},
   "source": [
    "#### 4.4 Module\n",
    "The Python file that contains Python definitions and statements is known as `module`. A module helps to organize code. In module, we can define functions, classes and variables. The file name for module is module name with suffix `.py`. The module name is available in global variable `__name__`.\n",
    "\n",
    "**Importing Module**: \n",
    "* A module can imported in the Python code with various ways:\n",
    "* `import modulename` allows to import specific module. \n",
    "* `import modulename as mod` allows to bound all the modulename to mod.  \n",
    "* `from modulename import name1..nameN` allows to import specific attributes (provided in names) from a module.  \n",
    "* `from modulename import *` allows to import all names from a module.  "
   ]
  },
  {
   "cell_type": "code",
   "execution_count": null,
   "metadata": {},
   "outputs": [],
   "source": [
    "from analyticstensor import word_count\n",
    "my_string = \"Hey I want to count how many words we have in this sentence, You can try this module to test.\"\n",
    "wc = word_count(my_string)\n",
    "wc"
   ]
  },
  {
   "cell_type": "markdown",
   "metadata": {},
   "source": [
    "#### 4.5 Lambda\n",
    "Anonymous function is a function without no names. `lambda` keyword is used to create anonymous functions in Python.  \n",
    "The syntax of lambda function is  \n",
    "`lambda arguments: expression`  \n",
    "Lambda function is an anonymous, single-use which can be created in one line of code. These lambda expression can have any numbers of argument but only one expression. It cannot contain any statements. It doesn't return function object for assigning to the variable. The expression is always return value."
   ]
  },
  {
   "cell_type": "code",
   "execution_count": null,
   "metadata": {},
   "outputs": [],
   "source": [
    "add = lambda x, y: x + y\n",
    "add(10, 15)"
   ]
  },
  {
   "cell_type": "code",
   "execution_count": null,
   "metadata": {},
   "outputs": [],
   "source": [
    "square = lambda x: x * x\n",
    "square(5)"
   ]
  },
  {
   "cell_type": "markdown",
   "metadata": {},
   "source": [
    "**Lambda are mostly used in sorting, filtering and map functions.**"
   ]
  },
  {
   "cell_type": "markdown",
   "metadata": {},
   "source": [
    "**Example 1: Sorting a list elements**"
   ]
  },
  {
   "cell_type": "code",
   "execution_count": null,
   "metadata": {},
   "outputs": [],
   "source": [
    "course = [\"MySQL\", \"Python\", \"Spark\", \"Java\", \"Machine Learing\"]\n",
    "course.sort(key = lambda x: x)\n",
    "print(course)\n",
    "\n",
    "numbers = [100, 49, 58, 0, 10, 50]\n",
    "numbers.sort(key = lambda x: x)\n",
    "print(numbers)"
   ]
  },
  {
   "cell_type": "markdown",
   "metadata": {},
   "source": [
    "**Example 2: Sorting a list of tuples**"
   ]
  },
  {
   "cell_type": "code",
   "execution_count": null,
   "metadata": {},
   "outputs": [],
   "source": [
    "grocery = [('apple', 5.25), ('cabbage', 2.34), ('orange', 3.00), ('biscuit', 5.54), ('pen', 2.39), ('milk', 2.49)]\n",
    "grocery.sort(key = lambda x: x[0]) # sort by item name\n",
    "print(grocery)\n",
    "grocery.sort(key = lambda x: x[1]) # sort by item price\n",
    "print(grocery)"
   ]
  },
  {
   "cell_type": "markdown",
   "metadata": {},
   "source": [
    "**Example 3: Sorting a list of dictionaries**"
   ]
  },
  {
   "cell_type": "code",
   "execution_count": null,
   "metadata": {},
   "outputs": [],
   "source": [
    "import pprint as pp\n",
    "student = [{'name':'David', 'age':25, 'enrolled': 2018}, {'name':'John', 'age':24, 'enrolled': 2019}, \n",
    "          {'name':'Alice', 'age':26, 'enrolled': 2016}]\n",
    "student_sorted = sorted(student, key = lambda x: x['enrolled'])\n",
    "pp.pprint(student_sorted)"
   ]
  },
  {
   "cell_type": "markdown",
   "metadata": {},
   "source": [
    "**Example 4: Filtering a list of integers**"
   ]
  },
  {
   "cell_type": "code",
   "execution_count": null,
   "metadata": {},
   "outputs": [],
   "source": [
    "num = [ 10, 15, 19, 45, 20, 100, 69]\n",
    "num1 = list(filter(lambda x: x%2 == 0, num))\n",
    "num1"
   ]
  },
  {
   "cell_type": "code",
   "execution_count": null,
   "metadata": {},
   "outputs": [],
   "source": [
    "odd = lambda x: x%2 == 1\n",
    "num = [ 10, 15, 19, 45, 20, 100, 69]\n",
    "num1 = list(filter(odd, num))\n",
    "num1"
   ]
  },
  {
   "cell_type": "markdown",
   "metadata": {},
   "source": [
    "**Example 5: Map function**"
   ]
  },
  {
   "cell_type": "code",
   "execution_count": null,
   "metadata": {},
   "outputs": [],
   "source": [
    "num = [ 10, 15, 19, 45, 20, 100, 69]\n",
    "num1 = list(map(lambda x: x ** 2, num))\n",
    "num1"
   ]
  },
  {
   "cell_type": "markdown",
   "metadata": {},
   "source": [
    "**Lambda with conditionals**  \n",
    "`lambda args: a if boolean_expression else b`"
   ]
  },
  {
   "cell_type": "code",
   "execution_count": null,
   "metadata": {},
   "outputs": [],
   "source": [
    "begin_with_S = lambda x: True if x.startswith('S') else False\n",
    "print(begin_with_S('South'))"
   ]
  }
 ],
 "metadata": {
  "kernelspec": {
   "display_name": "Python 3",
   "language": "python",
   "name": "python3"
  },
  "language_info": {
   "codemirror_mode": {
    "name": "ipython",
    "version": 3
   },
   "file_extension": ".py",
   "mimetype": "text/x-python",
   "name": "python",
   "nbconvert_exporter": "python",
   "pygments_lexer": "ipython3",
   "version": "3.7.3"
  }
 },
 "nbformat": 4,
 "nbformat_minor": 2
}
