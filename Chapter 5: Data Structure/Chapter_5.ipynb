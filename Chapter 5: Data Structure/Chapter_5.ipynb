{
 "cells": [
  {
   "cell_type": "markdown",
   "metadata": {},
   "source": [
    "# Chapter 5: Data Structure"
   ]
  },
  {
   "cell_type": "markdown",
   "metadata": {},
   "source": [
    "[**5.1 Data Structure**](#5.1-Data-Structure)   \n",
    "[**5.2 Lists**](#5.2-Lists)   \n",
    "[**5.2.1 Creating List**](#5.2.1-Creating-List)   \n",
    "[**5.2.2 Accessing List elements**](#5.2.2-Accessing-List-elements)   \n",
    "[**5.2.3 Concating and Appending List**](#5.2.3-Concating-and-Appending-List)   \n",
    "[**5.2.4 List method**](#5.2.4-List-method)   \n",
    "[**5.2.5 del statement**](#5.2.5-del-statement)  \n",
    "[**5.2.6 Multi-dimensional Lists**](#5.2.6-Multi-dimensional-Lists)  \n",
    "[**5.3 Tuples**](#5.3-Tuples)  \n",
    "[**5.3.1 Creating Tuple**](#5.3.1-Creating-Tuple)   \n",
    "[**5.3.2 Accessing Tuple elements**](#5.3.2-Accessing-Tuple-elements)   \n",
    "[**5.3.3 Concating and Appending Tuple**](#5.3.3-Concating-and-Appending-Tuple)   \n",
    "[**5.4 Slicing**](#5.4-Slicing)  \n",
    "[**5.5 Sorting**](#5.5-Sorting)  \n",
    "[**5.6 Searching**](#5.6-Searching)  \n",
    "[**5.7 Dictionary**](#5.7-Dictionary)  \n",
    "[**5.7.1 Creating a Dictionary**](#5.7.1-Creating-a-Dictionary)  \n",
    "[**5.7.2 Iterate on Dictionary**](#5.7.2-Iterate-on-Dictionary)  \n",
    "[**5.7.3 Accessing dictionary**](#5.7.3-Accessing-dictionary)   \n",
    "[**5.7.4 Dictionary Methods**](#5.7.4-Dictionary-Methods)  \n",
    "[**5.8 Sets**](#5.8-Sets)  \n",
    "[**5.8.1 Creating a Set**](#5.8.1-Creating-a-Set)  \n",
    "[**5.8.2 Iterate on a Set**](#5.8.2-Iterate-on-a-Set)  "
   ]
  },
  {
   "cell_type": "markdown",
   "metadata": {},
   "source": [
    "#### 5.1 Data Structure\n",
    "The built-in data structure are:  \n",
    "* Lists  \n",
    "* Tuples  \n",
    "* Dictionaries  \n",
    "* Sets  \n",
    "* Frozensets  \n",
    "\n",
    "**Collections**:  \n",
    "Additional data structures are available in `collections` modules. Some of the data structure are:  \n",
    "* deque  \n",
    "* OrderedDict  \n",
    "* defaultdict\n",
    "* namedtuple\n",
    "* Counter\n",
    "* most_common"
   ]
  },
  {
   "cell_type": "markdown",
   "metadata": {},
   "source": [
    "#### 5.2 Lists\n",
    "List is used to store both homogeneous and heterogeneous data. i.e element with same data types and different data types respectively. The elements in the list are mutable which means their value can be modified. List can store duplicate elements. The elements in the list are ordered."
   ]
  },
  {
   "cell_type": "markdown",
   "metadata": {},
   "source": [
    "#### 5.2.1 Creating List\n",
    "**Creating empty list**:  \n",
    "`year = []`  \n",
    "\n",
    "**List with homogeneous data**:  \n",
    "`age = [25, 30, 35, 22, 28, 26, 24, 32]`  \n",
    "`us_states = ['SD', 'MD', 'CA', 'MA', 'VA']`  \n",
    "\n",
    "**List with heterogeneous data**:  \n",
    "`student = ['John', 'Doe', 40, 5.9, 'CA']`"
   ]
  },
  {
   "cell_type": "markdown",
   "metadata": {},
   "source": [
    "#### 5.2.2 Accessing List elements\n",
    "The elements of list always starts from 0. The size of list is n-1, *where n is the length of list*. The element of the list are accessed through it's **position number** also known as element **index**. To find the length of the list, you can use `len` function."
   ]
  },
  {
   "cell_type": "code",
   "execution_count": 1,
   "metadata": {},
   "outputs": [
    {
     "name": "stdout",
     "output_type": "stream",
     "text": [
      "25\n",
      "28\n",
      "8\n"
     ]
    }
   ],
   "source": [
    "age = [25, 30, 35, 22, 28, 26, 24, 32]\n",
    "print(age[0]) # Access 1st element\n",
    "print(age[4]) # Access 5th element\n",
    "print(len(age)) # Find the length of list"
   ]
  },
  {
   "cell_type": "markdown",
   "metadata": {},
   "source": [
    "**Accessing elements from end**:   \n",
    "The element of the list can also be access from the end using negative indices.  \n",
    "age = `[25, 30, 35, 22, 28]`  \n",
    "\n",
    "| age`[0]` | age`[1]` | age`[2]` | age`[3]` |age`[4]` |\n",
    "|------|------|------|------|------|\n",
    "| 25 | 30 | 35 | 22 | 28 |\n",
    "| age`[-5]` | age`[-4]` | age`[-3]` | age`[-2]` | age`[-1]` |\n",
    "\n",
    "**Note**:  \n",
    "* The top row refers to access elements by refering positive indices.    \n",
    "* The bottow row refers to access elements by refering negative indices.  \n",
    "* While accessing the list elements the indices must always be an integer type."
   ]
  },
  {
   "cell_type": "code",
   "execution_count": 2,
   "metadata": {},
   "outputs": [
    {
     "name": "stdout",
     "output_type": "stream",
     "text": [
      "28\n",
      "32\n",
      "35\n",
      "28\n",
      "32\n"
     ]
    }
   ],
   "source": [
    "print(age[-4])\n",
    "print(age[-1])\n",
    "counter = 2\n",
    "print(age[counter])\n",
    "print(age[counter  + 2])\n",
    "print(age[counter - 3])"
   ]
  },
  {
   "cell_type": "code",
   "execution_count": 3,
   "metadata": {},
   "outputs": [
    {
     "name": "stdout",
     "output_type": "stream",
     "text": [
      "25\n",
      "20\n",
      "48\n"
     ]
    }
   ],
   "source": [
    "# Modify the list elements\n",
    "print(age[0])\n",
    "age[0] = 20\n",
    "print(age[0])\n",
    "\n",
    "# Accessing list a variable\n",
    "print(age[0] + age[4])"
   ]
  },
  {
   "cell_type": "markdown",
   "metadata": {},
   "source": [
    "#### 5.2.3 Concating and Appending List\n",
    "Two or more list can be concatenated by using `+` operator. The new generated list will be the sequence of same list concatenated from left to right."
   ]
  },
  {
   "cell_type": "code",
   "execution_count": 4,
   "metadata": {},
   "outputs": [
    {
     "name": "stdout",
     "output_type": "stream",
     "text": [
      "[99, 80, 75, 30, 'python', 'java']\n",
      "['python', 'java', 99, 80, 75, 30]\n"
     ]
    }
   ],
   "source": [
    "score = [99, 80, 75, 30]\n",
    "course = ['python', 'java']\n",
    "score_course = score + course\n",
    "print(score_course)\n",
    "course_score = course + score\n",
    "print(course_score)"
   ]
  },
  {
   "cell_type": "markdown",
   "metadata": {},
   "source": [
    "The list can be appended by using `+=`."
   ]
  },
  {
   "cell_type": "code",
   "execution_count": 5,
   "metadata": {},
   "outputs": [
    {
     "data": {
      "text/plain": [
       "[0, 1, 2, 3, 4, 5, 6, 7, 8, 9]"
      ]
     },
     "execution_count": 5,
     "metadata": {},
     "output_type": "execute_result"
    }
   ],
   "source": [
    "sequence_number = []\n",
    "for num in range(10):\n",
    "    sequence_number += [num]\n",
    "\n",
    "sequence_number"
   ]
  },
  {
   "cell_type": "markdown",
   "metadata": {},
   "source": [
    "#### 5.2.4 List method\n",
    "There are several methods to perform$^1$ operation on list.\n",
    "\n",
    "* list.append(x)\n",
    "* list.clear()\n",
    "* list.copy()\n",
    "* list.count(x)\n",
    "* list.extend()\n",
    "* list.index()\n",
    "* list.insert()\n",
    "* list.pop()\n",
    "* list.remove(x)\n",
    "* list.reverse()\n",
    "* list.sort()"
   ]
  },
  {
   "cell_type": "code",
   "execution_count": 6,
   "metadata": {},
   "outputs": [
    {
     "name": "stdout",
     "output_type": "stream",
     "text": [
      "[0, 1, 2, 3, 4, 5, 6, 7, 8, 9, 10]\n",
      "[11, 0, 1, 2, 3, 4, 5, 6, 7, 8, 9, 10]\n",
      "[]\n"
     ]
    }
   ],
   "source": [
    "seq = [0, 1, 2, 3, 4, 5, 6, 7, 8, 9]\n",
    "seq.append(10)  # append is used to add an itme to the end of list\n",
    "print(seq)\n",
    "seq.insert(0,11) # add element to position 0.\n",
    "print(seq)\n",
    "seq.clear() # remove all the element from list or empyt list\n",
    "print(seq)"
   ]
  },
  {
   "cell_type": "markdown",
   "metadata": {},
   "source": [
    "#### 5.2.5 del statement\n",
    "The `del` statement is used to remove elements from list and delete variable from current sesssion. It can also be used with slicing. It is same as `clear()` list function."
   ]
  },
  {
   "cell_type": "code",
   "execution_count": 7,
   "metadata": {},
   "outputs": [
    {
     "name": "stdout",
     "output_type": "stream",
     "text": [
      "[1, 2, 3, 4, 5, 6, 7, 8, 9]\n",
      "[1, 2, 6, 7, 8, 9]\n",
      "[1, 2, 6, 7, 8]\n",
      "[2, 7]\n",
      "[]\n"
     ]
    },
    {
     "ename": "NameError",
     "evalue": "name 'seq' is not defined",
     "output_type": "error",
     "traceback": [
      "\u001b[0;31m---------------------------------------------------------------------------\u001b[0m",
      "\u001b[0;31mNameError\u001b[0m                                 Traceback (most recent call last)",
      "\u001b[0;32m<ipython-input-7-0024a7338b2a>\u001b[0m in \u001b[0;36m<module>\u001b[0;34m\u001b[0m\n\u001b[1;32m     11\u001b[0m \u001b[0mprint\u001b[0m\u001b[0;34m(\u001b[0m\u001b[0mseq\u001b[0m\u001b[0;34m)\u001b[0m\u001b[0;34m\u001b[0m\u001b[0;34m\u001b[0m\u001b[0m\n\u001b[1;32m     12\u001b[0m \u001b[0;32mdel\u001b[0m \u001b[0mseq\u001b[0m\u001b[0;34m\u001b[0m\u001b[0;34m\u001b[0m\u001b[0m\n\u001b[0;32m---> 13\u001b[0;31m \u001b[0mprint\u001b[0m\u001b[0;34m(\u001b[0m\u001b[0mseq\u001b[0m\u001b[0;34m)\u001b[0m   \u001b[0;31m# gives error because seq is deleted from the session.\u001b[0m\u001b[0;34m\u001b[0m\u001b[0;34m\u001b[0m\u001b[0m\n\u001b[0m",
      "\u001b[0;31mNameError\u001b[0m: name 'seq' is not defined"
     ]
    }
   ],
   "source": [
    "seq = [0, 1, 2, 3, 4, 5, 6, 7, 8, 9]\n",
    "del seq[0]\n",
    "print(seq)\n",
    "del seq[2:5]\n",
    "print(seq)\n",
    "del seq[-1]\n",
    "print(seq)\n",
    "del seq[::2]\n",
    "print(seq)\n",
    "del seq[:]\n",
    "print(seq)\n",
    "del seq\n",
    "print(seq)   # gives error because seq is deleted from the session."
   ]
  },
  {
   "cell_type": "markdown",
   "metadata": {},
   "source": [
    "#### 5.2.5 Multi-dimensional Lists\n",
    "List can contain multiple collections of list. Multi-dimensional lists are the lists within list.  \n",
    "\n",
    "**Creating two dimensional list** "
   ]
  },
  {
   "cell_type": "code",
   "execution_count": null,
   "metadata": {},
   "outputs": [],
   "source": [
    "student_score = [[7, 8, 8, 9], [6, 9, 8, 9], [5, 6, 8, 4], [8, 8, 6, 7]]\n",
    "print(student_score)\n",
    "\n",
    "print(student_score[0])\n",
    "print(student_score[1])\n",
    "print(student_score[2])\n",
    "print(student_score[3])\n",
    "\n",
    "print(student_score[0][3])\n",
    "print(student_score[2][1])"
   ]
  },
  {
   "cell_type": "markdown",
   "metadata": {},
   "source": [
    "**Two Dimensional List Structure**  \n",
    "\n",
    "|      | Column 0 | Column 1 | Column 2 | Column 3 |\n",
    "|------|------|------|------|------|\n",
    "| **Row 0** | 7 | 8 | 8 | 9 |\n",
    "| **Row 1** | 6 | 9 | 8 | 9 |\n",
    "| **Row 2** | 5 | 6 | 8 | 4 |\n",
    "| **Row 3** | 8 | 8 | 6 | 7 |\n",
    "\n",
    "**Two Dimensional List Elements**\n",
    "\n",
    "| Column 0 | Column 1 | Column 2 | Column 3 |\n",
    "|------|------|------|------|\n",
    "| student_score`[0][0]` | student_score`[0][1]` | student_score`[0][2]` | student_score`[0][3]` |\n",
    "| student_score`[1][0]` | student_score`[1][1]` | student_score`[1][2]` | student_score`[1][3]` |\n",
    "| student_score`[2][0]` | student_score`[2][1]` | student_score`[2][2]` | student_score`[2][3]` |\n",
    "| student_score`[3][0]` | student_score`[3][1]` | student_score`[3][2]` | student_score`[3][3]` |\n",
    "\n",
    "**Accessing Two Dimensional List**  \n",
    "`listname[row index][column index]`"
   ]
  },
  {
   "cell_type": "code",
   "execution_count": null,
   "metadata": {},
   "outputs": [],
   "source": [
    "for row in student_score:\n",
    "    for element in row:\n",
    "        print(element, end= ' ')\n",
    "    print()"
   ]
  },
  {
   "cell_type": "markdown",
   "metadata": {},
   "source": [
    "#### 5.3 Tuples\n",
    "Tuples stores both homogeneous and heterogeneous data. Tuples are immutable. i.e. elements of tuple cannot be changed. The length of tuple is the total number of it's elements. The elements in the tuples are ordered."
   ]
  },
  {
   "cell_type": "markdown",
   "metadata": {},
   "source": [
    "#### 5.3.1 Creating Tuple\n",
    "**Creating empty tuple**:  \n",
    "`information = ()`  \n",
    "\n",
    "**Tuple with homogeneous data**:  \n",
    "`age = (25, 30, 35, 22, 28, 26, 24, 32)`  \n",
    "`us_states = ('SD', 'MD', 'CA', 'MA', 'VA')`  \n",
    "\n",
    "**Tuple with heterogeneous data**:  \n",
    "`student = ('John', 'Doe', 40, 5.9, 'CA')`"
   ]
  },
  {
   "cell_type": "code",
   "execution_count": null,
   "metadata": {},
   "outputs": [],
   "source": [
    "age = (25, 30, 35, 22, 28, 26, 24, 32)\n",
    "us_states = ('SD', 'MD', 'CA', 'MA', 'VA')\n",
    "student = ('John', 'Doe', 40, 5.9, 'CA')\n",
    "\n",
    "print(age)\n",
    "print(us_states)\n",
    "print(student)\n",
    "len(student)"
   ]
  },
  {
   "cell_type": "markdown",
   "metadata": {},
   "source": [
    "#### 5.3.2 Accessing Tuple elements\n",
    "The elements of tuple always starts from 0. The element of the tuple can be accessed same like accessing list elements."
   ]
  },
  {
   "cell_type": "code",
   "execution_count": null,
   "metadata": {},
   "outputs": [],
   "source": [
    "current_date = (2019, 9, 12)\n",
    "print(current_date[0])\n",
    "print(current_date[1])\n",
    "print(current_date[2])\n",
    "print(len(current_date))"
   ]
  },
  {
   "cell_type": "markdown",
   "metadata": {},
   "source": [
    "#### 5.3.3 Concating and Appending Tuple\n",
    "Two or more tuple can be concatenated by using `+` operator. The new generated tuple will be the sequence of same tuple concatenated from left to right."
   ]
  },
  {
   "cell_type": "code",
   "execution_count": null,
   "metadata": {},
   "outputs": [],
   "source": [
    "score = (99, 80, 75, 30)\n",
    "course = ('python', 'java')\n",
    "score_course = score + course\n",
    "print(score_course)\n",
    "course_score = course + score\n",
    "print(course_score)"
   ]
  },
  {
   "cell_type": "markdown",
   "metadata": {},
   "source": [
    "The tuple can be appended by using `+=`."
   ]
  },
  {
   "cell_type": "code",
   "execution_count": null,
   "metadata": {},
   "outputs": [],
   "source": [
    "score = (99, 80, 75, 30)\n",
    "course = ('python', 'java')\n",
    "score += course\n",
    "print(score)"
   ]
  },
  {
   "cell_type": "markdown",
   "metadata": {},
   "source": [
    "#### 5.4 Slicing\n",
    "Slicing are used to create subset of data from the original dataset.\n",
    "\n",
    "**Slicing with starting and ending indices**  \n",
    "`[start:end]`  \n",
    "*start index element is included*  \n",
    "*end index element is excluded*  "
   ]
  },
  {
   "cell_type": "code",
   "execution_count": null,
   "metadata": {},
   "outputs": [],
   "source": [
    "color = ['red', 'green', 'yellow', 'blue', 'purple', 'brown']\n",
    "color[1:3]"
   ]
  },
  {
   "cell_type": "markdown",
   "metadata": {},
   "source": [
    "**Slicing with ending indices**  \n",
    "When the starting index is removed the default start index will be 0. So, it copies all the element starting from begining. This is same as specifying \\[0:end\\]."
   ]
  },
  {
   "cell_type": "code",
   "execution_count": null,
   "metadata": {},
   "outputs": [],
   "source": [
    "color = ['red', 'green', 'yellow', 'blue', 'purple', 'brown']\n",
    "print(color[:4])\n",
    "print(color[0:4])"
   ]
  },
  {
   "cell_type": "markdown",
   "metadata": {},
   "source": [
    "**Slicing with starting indices**  \n",
    "When the end index is removed the default end index will be length of list or tuples. So, it copies all the element from the given starting index to end of index. This is same as specifying \\[start:len(color)\\]."
   ]
  },
  {
   "cell_type": "code",
   "execution_count": null,
   "metadata": {},
   "outputs": [],
   "source": [
    "color = ['red', 'green', 'yellow', 'blue', 'purple', 'brown']\n",
    "print(color[2:])\n",
    "print(color[2:len(color)])"
   ]
  },
  {
   "cell_type": "markdown",
   "metadata": {},
   "source": [
    "**Slicing with no indices**  \n",
    "When both start and end indices are not specified then if copies all the element. i.e. from begining index to end of index."
   ]
  },
  {
   "cell_type": "code",
   "execution_count": null,
   "metadata": {},
   "outputs": [],
   "source": [
    "color = ['red', 'green', 'yellow', 'blue', 'purple', 'brown']\n",
    "print(color[:])\n",
    "print(color[0:len(color)])"
   ]
  },
  {
   "cell_type": "markdown",
   "metadata": {},
   "source": [
    "**Slicing with step**  \n",
    "Slicing can also be performed by stepping particular elements."
   ]
  },
  {
   "cell_type": "code",
   "execution_count": null,
   "metadata": {},
   "outputs": [],
   "source": [
    "color = ['red', 'green', 'yellow', 'blue', 'purple', 'brown']\n",
    "print(color[::2]) # slicing with positive step index\n",
    "print(color[::-2]) # slicing with negative step index"
   ]
  },
  {
   "cell_type": "markdown",
   "metadata": {},
   "source": [
    "#### 5.5 Sorting\n",
    "Sorting is used to arrange data both in ascending or descending order.\n",
    "\n",
    "**Sorting ascending order**:  \n",
    "Used to sort elements in ascending order.  \n",
    "* List provide `sort` method. The default is ascending order.  \n",
    "* Built-in `sorted` function can be used too."
   ]
  },
  {
   "cell_type": "code",
   "execution_count": null,
   "metadata": {},
   "outputs": [],
   "source": [
    "items = [100, 340, 230, 20, 0, 45, 90, 67, 45, 85, 1, 2, 52]\n",
    "items.sort()\n",
    "print(items)\n",
    "items_1 = [100, 340, 230, 20, 0, 45, 90, 67, 45, 85, 1, 2, 52]\n",
    "print(sorted(items_1))\n",
    "\n",
    "color = ['red', 'green', 'yellow', 'blue', 'purple', 'brown']\n",
    "print(sorted(color))"
   ]
  },
  {
   "cell_type": "markdown",
   "metadata": {},
   "source": [
    "**Sorting descending order**:  \n",
    "Used to sort elements in descending order.  \n",
    "* List provide `sort(reverse=True)` method. The parmeter `reverse=True` incidate to sort in descending order."
   ]
  },
  {
   "cell_type": "code",
   "execution_count": null,
   "metadata": {},
   "outputs": [],
   "source": [
    "items = [100, 340, 230, 20, 0, 45, 90, 67, 45, 85, 1, 2, 52]\n",
    "items.sort(reverse=True)\n",
    "items"
   ]
  },
  {
   "cell_type": "markdown",
   "metadata": {},
   "source": [
    "#### 5.6 Searching\n",
    "Searching is used to find the if the element exists in the list or tuple.  \n",
    "\n",
    "* List provide `index` method. The argument to the index is the items to be searched in list. The argument value is the search element. The value will be searched from begining to last index. It will always return the first element index if found in the list.\n",
    "* ValueError will raised if the element is not found in the list.  \n",
    "\n",
    "**Specifying the starting index in search**. \n",
    "The starting search index can be provided in `index()` method.\n",
    "\n",
    "**Specifying the starting and ending index in search**.  \n",
    "Both starting and ending index can be provided in `index()` method. It provide the boundary to search the elements in the give range of index."
   ]
  },
  {
   "cell_type": "code",
   "execution_count": null,
   "metadata": {},
   "outputs": [],
   "source": [
    "score = [10,20,30,40,50,20,10,20,40,10]\n",
    "print(score.index(10))\n",
    "print(score.index(50))\n",
    "print(score.index(40,4))  # starting search index is 4. it will starting searching from 4th elements.\n",
    "print(score.index(20,4,9)) # search 20 only on ragne of 4th to 9th index. The last index is excluded.\n",
    "print(score.index(45)) # raise ValueError for element 45"
   ]
  },
  {
   "cell_type": "markdown",
   "metadata": {},
   "source": [
    "**Membership Operator**  \n",
    "Membership operator `in` is used to search if the elements exists on given list. It always return boolean values. \n",
    "\n",
    "Other built-in function such as `all` and `any` are also used."
   ]
  },
  {
   "cell_type": "code",
   "execution_count": null,
   "metadata": {},
   "outputs": [],
   "source": [
    "score = [10,20,30,40,50,20,10,20,40,10]\n",
    "print(5 in score)  # check if 5 exist in score\n",
    "print(10 in score) # check if 10 exist in score"
   ]
  },
  {
   "cell_type": "markdown",
   "metadata": {},
   "source": [
    "#### 5.7 Dictionary\n",
    "A dictionary is an unordered collection that stores key-value pairs. In dictionary, every key maps to a specific value. The key must be immutable and unique. Multiple keys can contain same value. Dictionary does not support slicing."
   ]
  },
  {
   "cell_type": "markdown",
   "metadata": {},
   "source": [
    "#### 5.7.1 Creating a Dictionary\n",
    "\n",
    "**Creating empty dictionary**  \n",
    "Empty dictionary can be create by using `{}`. \n",
    "\n",
    "**Creating key-value dictionary**  \n",
    "Dictionary are created by enclosing in curly braces `{}` with comma separated list of key-value pairs in the form of `key: value`."
   ]
  },
  {
   "cell_type": "code",
   "execution_count": null,
   "metadata": {},
   "outputs": [],
   "source": [
    "us_states = {'CA' : 'California', 'VA' : 'Virginia',\n",
    "             'TX' : 'Texas', 'NY' : 'New York'}\n",
    "us_states"
   ]
  },
  {
   "cell_type": "markdown",
   "metadata": {},
   "source": [
    "#### 5.7.2 Iterate on Dictionary\n",
    "To iterate the elements of dictionary `for` statement is used with dictionary `items` method. `items` method will returns each key-value pair as tuple."
   ]
  },
  {
   "cell_type": "code",
   "execution_count": null,
   "metadata": {},
   "outputs": [],
   "source": [
    "for key, value in us_states.items():\n",
    "    print(key, value)"
   ]
  },
  {
   "cell_type": "markdown",
   "metadata": {},
   "source": [
    "#### 5.7.3 Accessing dictionary\n",
    "\n",
    "**Accessing Value of dictionary**  \n",
    "The value of dictionary can be access by,  \n",
    "`dictionary_name[key]`\n",
    "\n",
    "**Update the value of dictionary**  \n",
    "The value of dictionary can be update by,  \n",
    "`dictionary_name[key] = new_value`  \n",
    "or  \n",
    "`update` method to both insert and update values of key-value of dictionary. \n",
    "i.e. `dictionary_name.update({key : values})`  \n",
    "\n",
    "**Adding new key-value of dictionary**  \n",
    "The new key-value can be added in dictionary,    \n",
    "`dictionary_name[new_key] = new_value`  \n",
    "\n",
    "**Removing key-value from dictionary**  \n",
    "The key-value in dictionary can be removed by,      \n",
    "`del dictionary_name[key]`  \n",
    "or  \n",
    "`dictionary_name.pop(key)`\n",
    "\n",
    "**Accessing with `keys` and `values` method**  \n",
    "Like `items` method, `keys` and `values` method is also used to iterate through dictionary keys or values resp."
   ]
  },
  {
   "cell_type": "code",
   "execution_count": null,
   "metadata": {},
   "outputs": [],
   "source": [
    "weather = {\n",
    "    'temp' : 75,\n",
    "    'pressure' : 50,\n",
    "    'humidity' : 20,\n",
    "    'temp_min' : 60.55,\n",
    "    'temp_max' : 76.22\n",
    "}\n",
    "\n",
    "print(weather['humidity']) ## Accessing humidity\n",
    "weather['humidity'] = 45  ## Updating value\n",
    "print(weather['humidity'])\n",
    "weather['visibility'] = 98  ## Adding new key-value\n",
    "weather\n",
    "\n",
    "print(weather.keys())  ## Access keys from dictionary\n",
    "print(weather.values())  ## Access values from dictionary"
   ]
  },
  {
   "cell_type": "markdown",
   "metadata": {},
   "source": [
    "#### 5.7.4 Dictionary Methods\n",
    "Several built-in dictionary methods are:  \n",
    "* clear()\n",
    "* copy()\n",
    "* fromkeys()\n",
    "* get()\n",
    "* items()\n",
    "* keys()\n",
    "* pop()\n",
    "* popitem()\n",
    "* setdefault()\n",
    "* update()\n",
    "* values()"
   ]
  },
  {
   "cell_type": "markdown",
   "metadata": {},
   "source": [
    "#### 5.8 Sets\n",
    "A set is an unordered collection of unique values. Sets contain only immutable objects. Set does not support indexing and slicing with square brackets. "
   ]
  },
  {
   "cell_type": "markdown",
   "metadata": {},
   "source": [
    "#### 5.8.1 Creating a Set\n",
    "\n",
    "**Creating empyt set**  \n",
    "Empty set can be create by `set()` \n",
    "\n",
    "**Creating set**  \n",
    "Set can be create with elements inside `{}`.  \n",
    "i.e. fruits = {'apple', 'orange', 'grape', 'banana', 'apples'}  \n",
    "fruits = {🍉, 🍓, 🍍, 🍎, 🍇, 🍋, 🍒, 🍑, 🍏, 🍐, 🍈, 🥝, 🥭, 🍌, 🍊}  \n",
    "Duplicate items are automatically eliminated with causing any error.  "
   ]
  },
  {
   "cell_type": "markdown",
   "metadata": {},
   "source": [
    "#### 5.8.2 Iterate on a Set  \n",
    "Since set are iterable the elements in set ca be access with `for` loop."
   ]
  },
  {
   "cell_type": "code",
   "execution_count": null,
   "metadata": {},
   "outputs": [],
   "source": [
    "fruits = {'apple', 'orange', 'grape', 'banana', 'apple', 'grape'} \n",
    "print(fruits)  # Duplicate items are dropped\n",
    "for f in fruits:\n",
    "    print(f, end =' ')"
   ]
  },
  {
   "cell_type": "markdown",
   "metadata": {},
   "source": [
    "**References**  \n",
    "$^1$ https://docs.python.org/3/tutorial/datastructures.html    "
   ]
  }
 ],
 "metadata": {
  "kernelspec": {
   "display_name": "Python 3",
   "language": "python",
   "name": "python3"
  },
  "language_info": {
   "codemirror_mode": {
    "name": "ipython",
    "version": 3
   },
   "file_extension": ".py",
   "mimetype": "text/x-python",
   "name": "python",
   "nbconvert_exporter": "python",
   "pygments_lexer": "ipython3",
   "version": "3.7.3"
  }
 },
 "nbformat": 4,
 "nbformat_minor": 2
}
