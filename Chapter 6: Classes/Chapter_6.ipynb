{
 "cells": [
  {
   "cell_type": "markdown",
   "metadata": {},
   "source": [
    "# Chapter 6: Classes"
   ]
  },
  {
   "cell_type": "markdown",
   "metadata": {},
   "source": [
    "[**6.1 Object-Oriented Programming**](#6.1-Object-Oriented-Programming)   \n",
    "[**6.2 Class**](#6.2-Class)   \n",
    "[**6.2.1 Creating Class**](#6.2.1-Creating-Class)   \n",
    "[**6.2.2 \\_\\_init\\_\\_ method**](#6.2.2-\\_\\_init\\_\\_-method)   \n",
    "[**6.2.3 Instance Attributes**](#6.2.3-Instance-Attributes)  \n",
    "[**6.2.4 Class Attributes**](#6.2.4-Class-Attributes)  \n",
    "[**6.3 Creating Object**](#6.3-Creating-Object)  \n",
    "[**6.3.1 Accessing Attributes**](#6.3.1-Accessing-Attributes)  \n",
    "[**6.3.2 Accessing Methods**](#6.3.2-Accessing-Methods)   \n",
    "[**6.4 Special Methods**](#6.4-Special-Methods)  \n",
    "[**6.5 Encaplusation**](#6.5-Encaplusation)  \n",
    "[**6.6 Property Decorator**](#6.6-Property-Decorator)  \n",
    "[**6.7 Inheritance**](#6.7-Inheritance)  \n",
    "[**6.8 Polymorphism**](#6.8-Polymorphism)  \n",
    "[**6.9 Operator Overloading**](#6.9-Operator-Overloading)  \n",
    "[**6.10 Unit Testing**](#6.10-Unit-Testing)  \n",
    "[**6.11.1 Docstring and Doctest**](#6.10.1-Docstring-and-Doctest)  \n",
    "[**6.11 Namespace and Scopes**](#6.11-Namespace-and-Scopes)   "
   ]
  },
  {
   "cell_type": "markdown",
   "metadata": {},
   "source": [
    "#### 6.1 Object-Oriented Programming\n",
    "Python is an object-oriented programming language.In Python, everything is represented in object. OOP have lot of advantages compared to procedural programming.  \n",
    "\n",
    "**Advantages of OOP:-**  \n",
    "* **Software Development Productivity**: OOP is modular since the functionality are seperated based on the required task. OOP is extensible if we need to add new attributes or behaviors. Same object can be reused on multiple place. With `modularity, extensibility, and reusability` features, the software development productivity is gained higher compared to other methods.\n",
    "* **Software Maintainability**: OOP are easier to maintain due to flexibility of modularity. Only the parts of the modular need to updated if there is an issue or update the program.\n",
    "* **Software Quality**: The software will have always higher quality by breaking all the dependency and functionality. The quality always depends upon the experience of developer.\n",
    "* **Rapid Development**: The reusability helps to reduce the repeatation of code. Mostly, all the OOP has rich built-in libraries which helps develop faster.\n",
    "* **Cost of Development**: Due to the reusability, the cost will always be lower once designed initially. The cost is only higher on design phase which needs lots of iteration and modification to build the prototype of software."
   ]
  },
  {
   "cell_type": "markdown",
   "metadata": {},
   "source": [
    "#### 6.2 Class\n",
    "Class is the blueprint of objects. All the objects are built from classes. Without class object doesn't exist. As we discussed earlier, everything on Python is as object. For e.g. `int, list, dict, dataframe` etc."
   ]
  },
  {
   "cell_type": "code",
   "execution_count": 10,
   "metadata": {},
   "outputs": [
    {
     "data": {
      "text/plain": [
       "3"
      ]
     },
     "execution_count": 10,
     "metadata": {},
     "output_type": "execute_result"
    }
   ],
   "source": [
    "value = 5  # Create new instance of number\n",
    "type(value) # type of object\n",
    "value.numerator # attribute\n",
    "value.bit_length() # method"
   ]
  },
  {
   "cell_type": "markdown",
   "metadata": {},
   "source": [
    "**Class** is a new user-defined data structures that describe or represent about some meaningful information. It contains both attributes (variables) and methods (functions). For e.g. Bike, Car, Animal are real object. We can easily convert them to classes. Features of class:-  \n",
    "* **Inheritance**: The new class can be created by inheriting the attributes and methods of the existing class.  \n",
    "\n",
    "    **Base Class**: Also known as `super class` is the existing class or parent class.  \n",
    "    **Derived Class**: Also known as `sub class` is the newly created child class by inheriting from parent class. The newly created class can be modified based on its own requirement, such that new feature can be added and the existing feature can be over-written.\n",
    "\n",
    "For example:  \n",
    "Bike  \n",
    "Attributes: color, size(S,M,L,XL), year, gears, speed  \n",
    "Methods: stop_bike(), decrease_speed(), increase_speed(), speed()  \n",
    "Types of Bike:     \n",
    "Road Bike  \n",
    "Mountain Bike  \n",
    "\n",
    "* **Polymorphism**: The standard operation can be implemented on many different classes and their instances without knowing the actual object. The same method can take multiple forms, so it is named as polymorphism. In Python, we refer to `duck typing`.\n",
    "\n",
    "* **Encapsulation**: The process of hiding data or making data accessible only through public methods. It helps to protect the direct access of instance variables. In Python, any attribute that begin with underscore `_` is only used class internal use only. All the other attributes that doesn't begin with `_` are publicly accessible."
   ]
  },
  {
   "cell_type": "markdown",
   "metadata": {},
   "source": [
    "#### 6.2.1 Creating Class\n",
    "A class is created by using keyword `class` followed by class name and a colon (:). The first line is called class header.   \n",
    "\n",
    "* The class name is always recommend to use initial uppercase letter if it has only one words. e.g. Student, Account.  \n",
    "* Camelcase if it has multiple words.  FullTimeStudent, CheckingAccount.  \n",
    "\n",
    "Each class should have descriptive docstring. This helps to describe the usage of class. It is a line after colon with indented."
   ]
  },
  {
   "cell_type": "code",
   "execution_count": 11,
   "metadata": {},
   "outputs": [],
   "source": [
    "class Bike:\n",
    "    \"\"\"Bike class for storing manufacturing and inventory including purchases, sales and other transactions\"\"\""
   ]
  },
  {
   "cell_type": "markdown",
   "metadata": {},
   "source": [
    "#### 6.2.2 \\_\\_init\\_\\_ method\n",
    "Every class have `__init__` method. Many refer it as constructor but `__new__` is called underneath. When a new object is created then `__init__` method will execute which assigns or initialized the value to an object. In general, this method will specifies how to intialize an object's data attributes.  \n",
    "\n",
    "When a method is called for any object called, Python implicitly passes a reference to that object as method's first argument. The naming convention for the method's fist parameter is `self` but it can be anything. The class's methods uses that reference `self` to access the object's attributes and methods. The `self` must always be the first parameter in any function in the class. Due this reason, all methods should have at least on parameter for passing the reference to the current instance of the class.   \n",
    "\n",
    "The attributes is assigned with,  \n",
    "`self.attribute_name = value`"
   ]
  },
  {
   "cell_type": "code",
   "execution_count": 12,
   "metadata": {},
   "outputs": [],
   "source": [
    "class Student:\n",
    "    \"\"\"Student class for storing student information\"\"\"\n",
    "    def __init__(self, firstname, lastname, dob):\n",
    "        self.first_name = firstname\n",
    "        self.last_name = lastname\n",
    "        self.dob = dob"
   ]
  },
  {
   "cell_type": "markdown",
   "metadata": {},
   "source": [
    "#### 6.2.3 Instance Attributes\n",
    "When the an object is instantiated each object has its own instance attributes. The instace attributes are not shared to other objects. They are uniuqe to all objects."
   ]
  },
  {
   "cell_type": "markdown",
   "metadata": {},
   "source": [
    "#### 6.2.4 Class Attributes\n",
    "Class attribues are unique to each class. All the instance of the class share the same attribute. It is normally defined after the class definition at top. Class attributes are normally used to define constants."
   ]
  },
  {
   "cell_type": "markdown",
   "metadata": {},
   "source": [
    "#### 6.3 Creating Object\n",
    "Basically referred as instantiating the object. The object is created from class. When an object is created it will automatically invoke `__init__` method by default. The object is created in multiple ways,  \n",
    "`object_name = ClassName(parameter1, parameter2,...parameterN)`  "
   ]
  },
  {
   "cell_type": "code",
   "execution_count": 13,
   "metadata": {},
   "outputs": [
    {
     "name": "stdout",
     "output_type": "stream",
     "text": [
      "\n",
      "Student Information\n",
      "===================\n",
      "\n",
      "Name:John Doe\n",
      "DOB:1998-04-01\n"
     ]
    }
   ],
   "source": [
    "class Student:\n",
    "    \"\"\"Student class for storing student information\"\"\"\n",
    "    counter = 0  # class attribute\n",
    "    \n",
    "    def __init__(self, firstname, lastname, dob):\n",
    "        self.first_name = firstname  # instance attribute\n",
    "        self.last_name = lastname    # instance attribute\n",
    "        self.dob = dob              # instance attribute\n",
    "        \n",
    "    def get_fullname(self):\n",
    "        fullname = self.first_name + \" \" + self.last_name\n",
    "        return fullname\n",
    "\n",
    "student = Student('John', 'Doe', '1998-04-01')   # creating student_1 object\n",
    "print(\"\\nStudent Information\\n===================\\n\")\n",
    "print(\"Name:{}\\nDOB:{}\".format(student.get_fullname(), student.dob))"
   ]
  },
  {
   "cell_type": "markdown",
   "metadata": {},
   "source": [
    "#### 6.3.1 Accessing Attributes\n",
    "**Class Attribute**\n",
    "The class attributes can be accessed from an instance.  \n",
    "`object_name.class_attribute_name`. \n",
    "It can also be access from the class.  \n",
    "`ClassName.class_attribute_name`.  \n",
    "The class object doesn't have access to instance attributes since those attributes are only created when instance is created. So,  \n",
    "`ClassName.instance_attribute_name` will give an error.  \n",
    "**Instance Attribute**  \n",
    "The instance attributes are only available when object is instantiated. The instance attributes are accessed by,  \n",
    "`object_name.instance_name`  "
   ]
  },
  {
   "cell_type": "code",
   "execution_count": 14,
   "metadata": {},
   "outputs": [
    {
     "data": {
      "text/plain": [
       "'1978-02-01'"
      ]
     },
     "execution_count": 14,
     "metadata": {},
     "output_type": "execute_result"
    }
   ],
   "source": [
    "student_1 = Student('Jacob', 'Johnson', '1978-02-01')\n",
    "student_1.dob"
   ]
  },
  {
   "cell_type": "markdown",
   "metadata": {},
   "source": [
    "#### 6.3.1 Accessing Methods\n",
    "The methods of the class is accessed by,  \n",
    "`object_name.method_name()`  "
   ]
  },
  {
   "cell_type": "code",
   "execution_count": 15,
   "metadata": {},
   "outputs": [
    {
     "data": {
      "text/plain": [
       "'Jacob Johnson'"
      ]
     },
     "execution_count": 15,
     "metadata": {},
     "output_type": "execute_result"
    }
   ],
   "source": [
    "student_1.get_fullname()"
   ]
  },
  {
   "cell_type": "markdown",
   "metadata": {},
   "source": [
    "#### 6.4 Special Methods\n",
    "Python class has many special$^1$ methods also known as magic methods.\n",
    "\n",
    "**Binary Operators**  \n",
    "\n",
    "| Operator | Method |\n",
    "| -------- | ------ |\n",
    "| + | `object.__add__(self, other)` |\n",
    "| - | `object.__sub__(self, other)` |\n",
    "| * | `object.__mul__(self, other)` |\n",
    "| // | `object.__floordiv__(self, other)` |\n",
    "| / | `object.__div__(self, other)` |\n",
    "| % | `object.__mod__(self, other)` |\n",
    "| ** | `object.__pow__(self, other[, modulo])` |\n",
    "| << | `object.__lshift__(self, other)` |\n",
    "| >> | `object.__rshift__(self, other)` |\n",
    "| & | `object.__and__(self, other)` |\n",
    "| ^ | `object.__xor__(self, other)` |\n",
    "| \\| | `object.__or__(self, other)` |\n",
    "\n",
    "**Assignment Operators**  \n",
    "\n",
    "| Operator | Method |\n",
    "| -------- | ------ |\n",
    "| += | `object.__iadd__(self, other)` |\n",
    "| -= | `object.__isub__(self, other)` |\n",
    "| \\*= | `object.__imul__(self, other)` |\n",
    "| \\/= | `object.__idiv__(self, other)` |\n",
    "| //= | `object.__ifloordiv__(self, other)` |\n",
    "| %= | `object.__imod__(self, other)` |\n",
    "| **= | `object.__ipow__(self, other[, modulo])` |\n",
    "| <<= | `object.__ilshift__(self, other)` |\n",
    "| >>= | `object.__irshift__(self, other)` |\n",
    "| &= | `object.__iand__(self, other)` |\n",
    "| ^= | `object.__ixor__(self, other)` |\n",
    "| \\|= | `object.__ior__(self, other)` |\n",
    "\n",
    "\n",
    "\n",
    "**Unary Operators**\n",
    "\n",
    "| Operator | Method |\n",
    "| -------- | ------ |\n",
    "| - | `object.__neg__(self)` |\n",
    "| + | `object.__pos__(self)` |\n",
    "| abs() | `object.__abs__(self)` |\n",
    "| ~ | `object.__invert__(self)` |\n",
    "| complex() | `object.__complex__(self)` |\n",
    "| int() | `object.__int__(self)` |\n",
    "| long() | `object.__long__(self)` |\n",
    "| float() | `object.__float__(self)` |\n",
    "| oct() | `object.__oct__(self)` |\n",
    "| hex() | `object.__hex__(self)` |\n",
    "\n",
    "**Comparison Operators**\n",
    "\n",
    "| Operator | Method |\n",
    "| -------- | ------ |\n",
    "| < | `object.__lt__(self, other)` |\n",
    "| <= | `object.__le__(self, other)` |\n",
    "| == | `object.__eq__(self, other)` |\n",
    "| != | `object.__ne__(self, other)` |\n",
    "| >= | `object.__ge__(self, other)` |\n",
    "| > | `object.__gt__(self, other)` |\n",
    "\n",
    "**Other Methods**\n",
    "\n",
    "| Method | Description |\n",
    "| -------- | ------ |\n",
    "| `object.__new__(self, other)` | Called to create a new instance of class. |\n",
    "| `object.__init__(self, other)` | Called after the instance is created. |\n",
    "| `object.__del__(self, other)` | Called when the instance is destroying. |\n",
    "| `object.__repr__(self, other)` | Called by `repr()` to compute string representation of object. |\n",
    "| `object.__str__(self, other)` | Called by `str(object)`, `format()` and `print()` to nicely print string representation of object. | \n",
    "| `object.__format__(self, other)` | Called by `format()` to generate formatted string representation of an object. |\n",
    "| `object.__byte__(self, other)` | Called by `byte()` to compute byte representation of an object. | "
   ]
  },
  {
   "cell_type": "markdown",
   "metadata": {},
   "source": [
    "#### 6.5 Encaplusation\n",
    "Encapsulation helps to restrict the direct access of variables and methods. The private variables are only changed within a class method. It cannot be modified outside the class. To change the private variable `setter()` method is used."
   ]
  },
  {
   "cell_type": "markdown",
   "metadata": {},
   "source": [
    "**Private Attribute**"
   ]
  },
  {
   "cell_type": "code",
   "execution_count": 16,
   "metadata": {},
   "outputs": [
    {
     "name": "stdout",
     "output_type": "stream",
     "text": [
      "Max temperature 75\n",
      "Max temperature 75\n"
     ]
    }
   ],
   "source": [
    "class Temperature:\n",
    "    \"\"\"Temperature class to set private max temperature\"\"\"\n",
    "    __max_temperature = 0\n",
    "    \n",
    "    def __init__(self):\n",
    "        self.__max_temperature = 75\n",
    "        \n",
    "    def get_temperature(self):\n",
    "        print(\"Max temperature {}\".format(str(self.__max_temperature)))\n",
    "\n",
    "temp = Temperature()\n",
    "temp.get_temperature()\n",
    "temp.__max_temperature = 20  # change temperature but value will not be changed\n",
    "temp.get_temperature()"
   ]
  },
  {
   "cell_type": "code",
   "execution_count": 17,
   "metadata": {},
   "outputs": [
    {
     "name": "stdout",
     "output_type": "stream",
     "text": [
      "Max temperature 75\n",
      "Max temperature 110\n"
     ]
    }
   ],
   "source": [
    "class Temperature:\n",
    "    \"\"\"Temperature class to set private max temperature and update its new value\"\"\"\n",
    "    __max_temperature = 0\n",
    "    \n",
    "    def __init__(self):\n",
    "        self.__max_temperature = 75\n",
    "        \n",
    "    def get_temperature(self):\n",
    "        print(\"Max temperature {}\".format(str(self.__max_temperature)))\n",
    "        \n",
    "    def setmax_temperature(self, new_temperature):\n",
    "        self.__max_temperature = new_temperature\n",
    "\n",
    "temp = Temperature()\n",
    "temp.get_temperature()\n",
    "temp.setmax_temperature(110)  # change max temperature \n",
    "temp.get_temperature()"
   ]
  },
  {
   "cell_type": "markdown",
   "metadata": {},
   "source": [
    "**Private Method**"
   ]
  },
  {
   "cell_type": "code",
   "execution_count": 18,
   "metadata": {},
   "outputs": [
    {
     "name": "stdout",
     "output_type": "stream",
     "text": [
      "Updating to degree Fahrenheit\n",
      "Temperature on your location.\n"
     ]
    },
    {
     "ename": "AttributeError",
     "evalue": "'Temperature' object has no attribute '__updateTemperature'",
     "output_type": "error",
     "traceback": [
      "\u001b[0;31m---------------------------------------------------------------------------\u001b[0m",
      "\u001b[0;31mAttributeError\u001b[0m                            Traceback (most recent call last)",
      "\u001b[0;32m<ipython-input-18-0d2f01303438>\u001b[0m in \u001b[0;36m<module>\u001b[0;34m\u001b[0m\n\u001b[1;32m     13\u001b[0m \u001b[0mtemp\u001b[0m \u001b[0;34m=\u001b[0m \u001b[0mTemperature\u001b[0m\u001b[0;34m(\u001b[0m\u001b[0;34m)\u001b[0m\u001b[0;34m\u001b[0m\u001b[0;34m\u001b[0m\u001b[0m\n\u001b[1;32m     14\u001b[0m \u001b[0mtemp\u001b[0m\u001b[0;34m.\u001b[0m\u001b[0mtemperature_type\u001b[0m\u001b[0;34m(\u001b[0m\u001b[0;34m)\u001b[0m\u001b[0;34m\u001b[0m\u001b[0;34m\u001b[0m\u001b[0m\n\u001b[0;32m---> 15\u001b[0;31m \u001b[0mtemp\u001b[0m\u001b[0;34m.\u001b[0m\u001b[0m__updateTemperature\u001b[0m\u001b[0;34m(\u001b[0m\u001b[0;34m)\u001b[0m \u001b[0;31m# method not accessible from object gives error.\u001b[0m\u001b[0;34m\u001b[0m\u001b[0;34m\u001b[0m\u001b[0m\n\u001b[0m",
      "\u001b[0;31mAttributeError\u001b[0m: 'Temperature' object has no attribute '__updateTemperature'"
     ]
    }
   ],
   "source": [
    "class Temperature:\n",
    "    \"\"\"Temperature class to set private methods\"\"\"\n",
    "        \n",
    "    def __init__(self):\n",
    "        self.__updateTemperature()\n",
    "        \n",
    "    def __updateTemperature(self):\n",
    "        print('Updating to degree Fahrenheit')\n",
    "        \n",
    "    def temperature_type(self):\n",
    "        print('Temperature on your location.')\n",
    "\n",
    "temp = Temperature()\n",
    "temp.temperature_type()\n",
    "temp.__updateTemperature() # method not accessible from object gives error."
   ]
  },
  {
   "cell_type": "markdown",
   "metadata": {},
   "source": [
    "#### 6.6 Property Decorator\n",
    "`@property` is the Python built-in decorators. Decorator is used to change the class methods or attributes."
   ]
  },
  {
   "cell_type": "code",
   "execution_count": 19,
   "metadata": {},
   "outputs": [
    {
     "name": "stdout",
     "output_type": "stream",
     "text": [
      "FROM:US\n",
      "TO:EURO\n",
      "Today's (2019-09-28 09:03:35.042871), the exchange rate for US to EURO is $50. \n",
      "FROM:US\n",
      "TO:YEN\n",
      "Today's (2019-09-28 09:03:35.042871), the exchange rate for US to EURO is $50. \n"
     ]
    }
   ],
   "source": [
    "from datetime import datetime\n",
    "class ExchangeRate:\n",
    "    def __init__(self, currency_from, currency_to):\n",
    "        self.currency_from = currency_from\n",
    "        self.currency_to = currency_to\n",
    "        self.rate = \"Today's (\" + str(datetime.today()) + \"), the exchange rate for \" + self.currency_from + \" to \" \\\n",
    "                    + self.currency_to + \" is $50. \"\n",
    "        \n",
    "exchg_rate = ExchangeRate(\"US\", \"EURO\")\n",
    "print(\"FROM:\" + exchg_rate.currency_from)\n",
    "print(\"TO:\" + exchg_rate.currency_to)\n",
    "print(exchg_rate.rate)\n",
    "\n",
    "exchg_rate.currency_to = \"YEN\"\n",
    "print(\"FROM:\" + exchg_rate.currency_from)\n",
    "print(\"TO:\" + exchg_rate.currency_to)\n",
    "print(exchg_rate.rate)"
   ]
  },
  {
   "cell_type": "markdown",
   "metadata": {},
   "source": [
    "**Problem on Exisiting Code**    \n",
    "The problem on the previous code always gives same *EURO* value when we call *exch_rate* attribute. The problem can be solved by droping *exch_rate* attribute and creating a new method. But if the client code depends on *exch_rate* attribute then they have make change on their code to adopt the new method instead of attribue. Below is the illustration of the code.  "
   ]
  },
  {
   "cell_type": "code",
   "execution_count": 20,
   "metadata": {},
   "outputs": [
    {
     "name": "stdout",
     "output_type": "stream",
     "text": [
      "FROM:US\n",
      "TO:EURO\n",
      "Today's (2019-09-28 09:03:38.283407), the exchange rate for US to EURO is $50. \n",
      "FROM:US\n",
      "TO:YEN\n",
      "Today's (2019-09-28 09:03:38.283710), the exchange rate for US to YEN is $50. \n"
     ]
    }
   ],
   "source": [
    "from datetime import datetime\n",
    "class ExchangeRate:\n",
    "    def __init__(self, currency_from, currency_to):\n",
    "        self.currency_from = currency_from\n",
    "        self.currency_to = currency_to\n",
    "        \n",
    "    def rate(self):\n",
    "        return \"Today's (\" + str(datetime.today()) + \"), the exchange rate for \" + self.currency_from + \" to \" + self.currency_to + \" is $50. \"\n",
    "        \n",
    "exchg_rate = ExchangeRate(\"US\", \"EURO\")\n",
    "print(\"FROM:\" + exchg_rate.currency_from)\n",
    "print(\"TO:\" + exchg_rate.currency_to)\n",
    "print(exchg_rate.rate())\n",
    "\n",
    "exchg_rate.currency_to = \"YEN\"\n",
    "print(\"FROM:\" + exchg_rate.currency_from)\n",
    "print(\"TO:\" + exchg_rate.currency_to)\n",
    "print(exchg_rate.rate())"
   ]
  },
  {
   "cell_type": "markdown",
   "metadata": {},
   "source": [
    "**Solution**  \n",
    "The above problem can be solved by using `@property` decorator without making any changes on client code."
   ]
  },
  {
   "cell_type": "code",
   "execution_count": 22,
   "metadata": {},
   "outputs": [
    {
     "name": "stdout",
     "output_type": "stream",
     "text": [
      "FROM:US\n",
      "TO:EURO\n",
      "Today's (2019-09-28 09:04:00.477910), the exchange rate for US to EURO is $50. \n",
      "FROM:US\n",
      "TO:YEN\n",
      "Today's (2019-09-28 09:04:00.478148), the exchange rate for US to YEN is $50. \n"
     ]
    }
   ],
   "source": [
    "from datetime import datetime\n",
    "class ExchangeRate:\n",
    "    def __init__(self, currency_from, currency_to):\n",
    "        self.currency_from = currency_from\n",
    "        self.currency_to = currency_to\n",
    "        \n",
    "    @property\n",
    "    def rate(self):\n",
    "        return \"Today's (\" + str(datetime.today()) + \"), the exchange rate for \" + self.currency_from + \" to \" \\\n",
    "                    + self.currency_to + \" is $50. \"\n",
    "    \n",
    "    \n",
    "exchg_rate = ExchangeRate(\"US\", \"EURO\")\n",
    "print(\"FROM:\" + exchg_rate.currency_from)\n",
    "print(\"TO:\" + exchg_rate.currency_to)\n",
    "print(exchg_rate.rate)\n",
    "\n",
    "exchg_rate.currency_to = \"YEN\"\n",
    "print(\"FROM:\" + exchg_rate.currency_from)\n",
    "print(\"TO:\" + exchg_rate.currency_to)\n",
    "print(exchg_rate.rate)"
   ]
  },
  {
   "cell_type": "markdown",
   "metadata": {},
   "source": [
    "#### 6.7 Inheritance\n",
    "Inheritance supports the reusability of code. Inheritance provides the ability to inherit the common attributes and methods from one class to other class. The parent class is also known as base class and child class is known as sub class. The sub class inherit the features from super class. For example:  \n",
    "\n",
    "| Base Class | Sub Class | \n",
    "| ---------- | --------- |\n",
    "| BankAccount | CheckingAccount, SavingAccount |\n",
    "| Student | GraduateStudent, UndergraduateStudent, PostgraduateStudent | \n",
    "| Employee | FullTime, PartTime, Contractor |\n",
    "| Bike | MountainBike, RoadBike |"
   ]
  },
  {
   "cell_type": "code",
   "execution_count": 28,
   "metadata": {},
   "outputs": [],
   "source": [
    "class Employee:\n",
    "    \"\"\"Employee\"\"\"\n",
    "    \n",
    "    def __init__(self, first_name, last_name, dob, ssn):\n",
    "        \"\"\"Initialize Employee attributes\"\"\"\n",
    "        self._first_name = first_name\n",
    "        self._last_name = last_name\n",
    "        self._dob = dob\n",
    "        self._ssn = ssn   # validate ssn format through property\n",
    "        \n",
    "    @property\n",
    "    def first_name(self):\n",
    "        return self._first_name\n",
    "    \n",
    "    @property\n",
    "    def last_name(self):\n",
    "        return self._last_name\n",
    "    \n",
    "    @property\n",
    "    def dob(self):\n",
    "        return self._dob\n",
    "    \n",
    "    @property\n",
    "    def ssn(self):\n",
    "        return self._ssn\n",
    "    \n",
    "    @ssn.setter\n",
    "    def ssn(self, ssn):\n",
    "        import re        \n",
    "        if re.match(r\"^(?!000|666)[0-8][0-9]{2}-(?!00)[0-9]{2}-(?!0000)[0-9]{4}$\", ssn):\n",
    "            self._ssn = ssn\n",
    "        else:\n",
    "            raise ValueError (\"SSN is invalid\")            \n",
    "   \n",
    "    def employee_type(self):\n",
    "        return \"Employee Type:\"\n",
    "    \n",
    "    def __repr__(self):\n",
    "        \"\"\"Return string representation for Employee information\"\"\"\n",
    "        return ('Employee Information\\n' +\n",
    "                f'Full Name: {self.first_name} {self.last_name}\\n' +\n",
    "                f'Date of Birth: {self.dob}\\n' +\n",
    "                f'Social Security Number: {self.ssn}')"
   ]
  },
  {
   "cell_type": "code",
   "execution_count": 24,
   "metadata": {},
   "outputs": [
    {
     "name": "stdout",
     "output_type": "stream",
     "text": [
      "Employee Information\n",
      "Full Name: John Doe\n",
      "Date of Birth: 1997-02-24\n",
      "Social Security Number: 123-45-6789\n"
     ]
    }
   ],
   "source": [
    "emp = Employee(\"John\", \"Doe\", '1997-02-24','123-45-6789')\n",
    "print(emp)"
   ]
  },
  {
   "cell_type": "markdown",
   "metadata": {},
   "source": [
    "The `@property decorator` exits before the property's *`getter`*  methods which receives only a *`self`* parameter. The decorator adds the code to the decorator function. The getter method's name should be same as property name. The getter methods return attribues value. i.e. first_name, last_name, dob and ssn.  \n",
    "\n",
    "The `@property_name.setter` exits before the property's *`setter`*  methods which receives *`self`* and attributes parameter before initializing the object's attriubtes. It helps to validate the attribute while setting as shown above for *ssn* validation."
   ]
  },
  {
   "cell_type": "markdown",
   "metadata": {},
   "source": [
    "**Code Description**\n",
    "* Line 1: Declare Employee class\n",
    "* Line 4-9: Create `__init__` method to set Employee attributes: \\_first_name, \\_last_name, \\_dob and \\_ssn.\n",
    "* Line 11-13: Create read-only property for first_name.\n",
    "* Line 15-17: Create read-only property for last_name.\n",
    "* Line 19-21: Create read-only property for dob.\n",
    "* Line 23-25: Create read-only property for ssn.\n",
    "* Line 27-33: Create write property for ssn with setters method and perform data validation.\n",
    "* Line 35-40: Create `__repr__` method to return a string representation of Employee."
   ]
  },
  {
   "cell_type": "markdown",
   "metadata": {},
   "source": [
    "**Note**: In Python all the classes are inherited directly or indirectly from class **`object`**. If the new class do not explicitly specify the base class then Python inherits directly from class `object`. `Object` is the base class for every Python class."
   ]
  },
  {
   "cell_type": "markdown",
   "metadata": {},
   "source": [
    "**Syntax of Derived Class (Single Inheritance)**  \n",
    "`class DerivedClassName(BaseClassName):\n",
    "    statement-1  \n",
    "    .  \n",
    "    .  \n",
    "    statement-N`  \n",
    " \n",
    "If base class is defined in another module:  \n",
    "`class DerivedClassName(modname.BaseClassName):`  \n",
    "\n",
    "**Syntax of Multiple Inheritance**  \n",
    "`class DerivedClassName(BaseClassName_1, BaseClassName_2, BaseClassName_3):\n",
    "    statement-1  \n",
    "    .  \n",
    "    .  \n",
    "    statement-N`   "
   ]
  },
  {
   "cell_type": "code",
   "execution_count": 25,
   "metadata": {},
   "outputs": [],
   "source": [
    "class Employee(object):\n",
    "    pass"
   ]
  },
  {
   "cell_type": "markdown",
   "metadata": {},
   "source": [
    "The above Employee Class inherits all the methods of class `object`. Class `object` don't have any data attributes. The most inherited methods from `object` are `__repr__` and `__str__`. All the class has these methods which return string representations of objects. The base class method can be `overridden` in the derived class by implementing the same method. In the above Employee class, `__repr__` override the object `__repr__` method."
   ]
  },
  {
   "cell_type": "markdown",
   "metadata": {},
   "source": [
    "**Subclass**  \n",
    "The subclass inherits all the attributes and methods from base class as well as additionally define new feature and overrides existing methods.  \n",
    "**FullTimeEmployee**  \n",
    "FullTimeEmployee class is the sub class that inherits properties from Employee class."
   ]
  },
  {
   "cell_type": "code",
   "execution_count": 29,
   "metadata": {},
   "outputs": [],
   "source": [
    "class FullTimeEmployee(Employee):\n",
    "    \"\"\"An FullTimeEmployee\"\"\"\n",
    "    \n",
    "    def __init__(self, first_name, last_name, dob, ssn, holiday):\n",
    "        \"\"\"Initialize FullTimeEmployee's attribues\"\"\"\n",
    "        super().__init__(first_name, last_name, dob, ssn)        \n",
    "        self.holiday = holiday\n",
    "        \n",
    "    @property\n",
    "    def holiday(self):\n",
    "        return self._holiday\n",
    "    \n",
    "    @holiday.setter\n",
    "    def holiday(self, holiday):\n",
    "        \"\"\"Set holiday for FTE\"\"\"\n",
    "        self._holiday = holiday       \n",
    "        \n",
    "    def employee_type(self):\n",
    "        return super().employee_type() + \"Full Time\"\n",
    "       \n",
    "    def __repr__(self):\n",
    "        \"\"\"Return string representaion for FullTimeEmployee\"\"\"\n",
    "        return ('FullTimeEmployee' + super().__repr__() + f'\\nHoliday: {self.holiday}')"
   ]
  },
  {
   "cell_type": "code",
   "execution_count": 30,
   "metadata": {},
   "outputs": [
    {
     "name": "stdout",
     "output_type": "stream",
     "text": [
      "7\n",
      "FullTimeEmployeeEmployee Information\n",
      "Full Name: John Doe\n",
      "Date of Birth: 1990-02-24\n",
      "Social Security Number: 123-45-6789\n",
      "Holiday: 7\n",
      "Employee Type:Full Time\n"
     ]
    }
   ],
   "source": [
    "fte = FullTimeEmployee('John', 'Doe', '1990-02-24', '123-45-6789', 7)\n",
    "print(fte.holiday)\n",
    "print(fte)\n",
    "print(fte.employee_type())"
   ]
  },
  {
   "cell_type": "markdown",
   "metadata": {},
   "source": [
    "`__init__` method in every subclass must explicitly call its base class `__init__` to initialize the data attributes inherited from the base class. In the code above, FullTimeEmployee's `__init__` calls Employee's `__init__` method to initialize the base class of FullTimeEmployee object. `super().__init__` uses built-in `super` function to call the base class `__init__` method. It passes the four arguments that initializes the inherited data attributes.  \n",
    "**Overriding Method**  \n",
    "The base class method `__repr__` is overriden with subclass method by calling `super().__repr__` and adding holiday attribute.  \n",
    "**Testing instance of class**  \n",
    "`issubclass`: Determines if one class is derived from another class.  \n",
    "`isinstance`: Determines if an object has an is-a relationship.  "
   ]
  },
  {
   "cell_type": "code",
   "execution_count": null,
   "metadata": {},
   "outputs": [],
   "source": [
    "issubclass(FullTimeEmployee, Employee)"
   ]
  },
  {
   "cell_type": "code",
   "execution_count": null,
   "metadata": {},
   "outputs": [],
   "source": [
    "isinstance(fte, FullTimeEmployee)"
   ]
  },
  {
   "cell_type": "code",
   "execution_count": null,
   "metadata": {},
   "outputs": [],
   "source": [
    "isinstance(fte, Employee)"
   ]
  },
  {
   "cell_type": "markdown",
   "metadata": {},
   "source": [
    "#### 6.8 Polymorphism\n",
    "Polymorphism means multiple forms. With polymorphism, an operation can be implemented on many different classes and their instances without knowing about the objects. In Python, it is referred to `duck typing`$^2$. As stated earlier, all the class in Python are inherited from `object` directly or indirectly. All the class has string representation method for printing object representation string. In Python, it doesn't need to have **is-a** relationship."
   ]
  },
  {
   "cell_type": "code",
   "execution_count": 31,
   "metadata": {},
   "outputs": [
    {
     "name": "stdout",
     "output_type": "stream",
     "text": [
      "Employee Information\n",
      "Full Name: John Doe\n",
      "Date of Birth: 1997-02-24\n",
      "Social Security Number: 123-45-6789\n",
      "Employee Type:\n",
      "FullTimeEmployeeEmployee Information\n",
      "Full Name: John Doe\n",
      "Date of Birth: 1990-02-24\n",
      "Social Security Number: 123-45-6789\n",
      "Holiday: 7\n",
      "Employee Type:Full Time\n"
     ]
    }
   ],
   "source": [
    "employee = [emp, fte]\n",
    "for e in employee:\n",
    "    print(e)\n",
    "    print(e.employee_type())"
   ]
  },
  {
   "cell_type": "code",
   "execution_count": 32,
   "metadata": {},
   "outputs": [],
   "source": [
    "class Student:\n",
    "    \"\"\"Student class\"\"\"\n",
    "    def __repr__(self):\n",
    "        return 'Student'\n",
    "    \n",
    "    def employee_type(self):\n",
    "        return 'Student not employed yet!'"
   ]
  },
  {
   "cell_type": "code",
   "execution_count": 33,
   "metadata": {},
   "outputs": [
    {
     "name": "stdout",
     "output_type": "stream",
     "text": [
      "Employee Information\n",
      "Full Name: John Doe\n",
      "Date of Birth: 1997-02-24\n",
      "Social Security Number: 123-45-6789\n",
      "Employee Type:\n",
      "FullTimeEmployeeEmployee Information\n",
      "Full Name: John Doe\n",
      "Date of Birth: 1990-02-24\n",
      "Social Security Number: 123-45-6789\n",
      "Holiday: 7\n",
      "Employee Type:Full Time\n",
      "Student\n",
      "Student not employed yet!\n"
     ]
    }
   ],
   "source": [
    "stu = Student()\n",
    "employee = [emp, fte, stu]\n",
    "for e in employee:\n",
    "    print(e)\n",
    "    print(e.employee_type())"
   ]
  },
  {
   "cell_type": "markdown",
   "metadata": {},
   "source": [
    "**References**  \n",
    "$^1$ https://docs.python.org/3/reference/datamodel.html#special-method-names    \n",
    "$^2$ https://docs.python.org/3/glossary.html#term-duck-typing  "
   ]
  }
 ],
 "metadata": {
  "kernelspec": {
   "display_name": "Python 3",
   "language": "python",
   "name": "python3"
  },
  "language_info": {
   "codemirror_mode": {
    "name": "ipython",
    "version": 3
   },
   "file_extension": ".py",
   "mimetype": "text/x-python",
   "name": "python",
   "nbconvert_exporter": "python",
   "pygments_lexer": "ipython3",
   "version": "3.7.3"
  }
 },
 "nbformat": 4,
 "nbformat_minor": 2
}
