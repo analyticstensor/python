{
 "cells": [
  {
   "cell_type": "markdown",
   "metadata": {},
   "source": [
    "# Chapter 7: File and Exception Handling"
   ]
  },
  {
   "cell_type": "markdown",
   "metadata": {},
   "source": [
    "[**7.1 File Processing**](#7.1-File-Processing)   \n",
    "[**7.1.1 Files**](#7.1.1-Files)   \n",
    "[**7.1.2 Processing Text File**](#7.1.2-Processing-Text-File)   \n",
    "[**7.1.2.1 Writing to Text File**](#7.1.2.1-Writing-to-Text-File)  \n",
    "[**7.1.2.2 Reading from Text File**](#7.1.2.2-Reading-from-Text-File)  \n",
    "[**7.2 File Mode**](#7.2-File-Mode)  \n",
    "[**7.3 JSON File**](#7.3-JSON-File)  \n",
    "[**7.4 Serialization and Deserialization**](#7.4-Serialization-and-Deserialization)  \n",
    "[**7.5 Exception Handling**](#7.5-Exception-Handling)   \n",
    "[**7.5.1 try Statements**](#7.5.1-try-Statements)  \n",
    "[**7.5.2 except Multiple Exceptions**](#7.5.2-except-Multiple-Exceptions)   \n",
    "[**7.5.3 finally clause**](#7.5.3-finally-clause)  \n",
    "[**7.6 raising Exception**](#7.6-raising-Exception)  \n",
    "[**7.7 custom Exception**](#7.7-custom-Exception) "
   ]
  },
  {
   "cell_type": "markdown",
   "metadata": {},
   "source": [
    "#### 7.1 File Processing\n",
    "The variable or data structure (such as lists, tuples, dictionaries, sets, pandas Series and DataFrame) that we have seen earilier only provides temporary storage. The data will be lost when the program is terminated.\n",
    "\n",
    "**Files**  \n",
    "Files are used to store data generated from program, application, iOT devices, OS, iOS, and other sensor or devices that has a capability to produce output signal atleast in digital format. Files are stored in secondary storage devices. i.e. hard drive. Data are stored in files for reading and accessing the information after the execution of program or during its runtime.\n",
    "\n",
    "**File Categories**  \n",
    "File are categorized into three different types:  \n",
    "* **Structure**: File in tabular or structured format delimited by some specific character or symbol. The fields and record structure will be already defined on during reading and writing the structure file. Some defined structure files are:-  \n",
    "    * CSV  \n",
    "    * TSV  \n",
    "    * Any other delimiter which are escaped in field value. (.i.e to reduce ambiguity)  \n",
    "\n",
    "* **Semi-Structure**: File that have some specified format but contains some specifice structured form. Some example of semi-structure files are:-  \n",
    "    * XML\n",
    "    * JSON\n",
    "    * YAML\n",
    "    * CONFIG FILES\n",
    "\n",
    "* **Un-Structure**: File that doesn't have any structure. These file are used to represented the real object. Some example of un-structure file are:- \n",
    "    * Free-Flow text\n",
    "    * audio\n",
    "    * videos\n",
    "    * images"
   ]
  },
  {
   "cell_type": "markdown",
   "metadata": {},
   "source": [
    "**File Definition in Python**. \n",
    "In Python all the text file are treated as a sequence of character and a binary file (e.g. image, videos, voice) as sequence of bytes. Likewise reading the lists, the initial character in text file and byte in binary file will be located at index 0 and the final character or bytes will be located at `n-1` index which is the end of the file."
   ]
  },
  {
   "cell_type": "markdown",
   "metadata": {},
   "source": [
    "#### 7.1.2 Processing Text File\n",
    "File can be processed (read, write, update) with any standard default module or external modules. We'll used `with` statement to read the file in our example."
   ]
  },
  {
   "cell_type": "markdown",
   "metadata": {},
   "source": [
    "#### 7.1.2.1 Writing to Text File\n",
    "While writing the file it acquire resources such as file, network, datbase connections etc. The resources should be release after its usage. `with` statement is efficient and closes the resources after used.\n",
    "In this example we'll create some dummy data about person information. The name of the file is person.tsv."
   ]
  },
  {
   "cell_type": "code",
   "execution_count": 2,
   "metadata": {},
   "outputs": [],
   "source": [
    "file_name = 'person.tsv'\n",
    "with open(file_name, mode='w') as person_info:\n",
    "    person_info.write('1\\tJohn Doe\\tCA\\n')\n",
    "    person_info.write('2\\tThomas Smith\\tMA\\n')\n",
    "    person_info.write('3\\tPeter Johnson\\tVA\\n')"
   ]
  },
  {
   "cell_type": "code",
   "execution_count": 3,
   "metadata": {},
   "outputs": [
    {
     "name": "stdout",
     "output_type": "stream",
     "text": [
      "1\tJohn Doe\tCA\r\n",
      "2\tThomas Smith\tMA\r\n",
      "3\tPeter Johnson\tVA\r\n"
     ]
    }
   ],
   "source": [
    "!cat person.tsv"
   ]
  },
  {
   "cell_type": "markdown",
   "metadata": {},
   "source": [
    "#### 7.1.2.1 Reading from Text File\n",
    "We'll read the same file that we created earlier. ie.person.tsv. The file is read from begining to end. There are other method like `readlines` to read an entire text file."
   ]
  },
  {
   "cell_type": "code",
   "execution_count": 4,
   "metadata": {},
   "outputs": [
    {
     "name": "stdout",
     "output_type": "stream",
     "text": [
      "Id    Full Name       state\n",
      "1     John Doe                         CA\n",
      "\n",
      "2     Thomas Smith                     MA\n",
      "\n",
      "3     Peter Johnson                    VA\n",
      "\n"
     ]
    }
   ],
   "source": [
    "with open(file_name, mode='r') as info:\n",
    "    print(f'{\"Id\":<5} {\"Full Name\":<15} {\"state\":>5}')\n",
    "    for line in info:\n",
    "        id, name, state = line.split('\\t')\n",
    "        print(f'{id:<5} {name:<30} {state:>5}')"
   ]
  },
  {
   "cell_type": "markdown",
   "metadata": {},
   "source": [
    "#### 7.2 File Mode\n",
    "The table below describes the file modes for text files.\n",
    "\n",
    "| Mode | Description | \n",
    "| ---------- | --------- |\n",
    "| 'r' | Open file for reading. It is file default mode while calling `open`. |\n",
    "| 'w' | Open file for writing. If file already exits then its content will be deleted. | \n",
    "| 'a' | Open file for appending at the end. The new content will be written at end of the file. |\n",
    "| 'r+' | Open file for reading and writing |\n",
    "| 'w+' | Open file for reading and writing. If file already exits then its content will be deleted. |\n",
    "| 'a+' | Open file for reading and appending at the end. The new content will be written at end of the file. |\n",
    "\n",
    "The binary-file has mode `b` in with above mode like 'rb', 'wb+' etc. Binary modes are used to read and write binary files.  \n",
    "\n",
    "Python Standard Libarary for `io module`$^2$"
   ]
  },
  {
   "cell_type": "markdown",
   "metadata": {},
   "source": [
    "#### 7.2 JSON File\n",
    "JSON (JavaScript Object Notation) is human readable text format stored in key-value pairs. JSON has been popular nowadays for sending message to and from multiple systems. JSON are used to represent objects.\n",
    "\n",
    "JSON objects can be compared with Python dictionaries. JSON object contains comma-separted list of keys and values in curly braces. More information about JSON$^1$. JSON supported values are:-  \n",
    "* string ( should be in double quotes)\n",
    "* number ( integer and float)\n",
    "* boolean ( true or false)\n",
    "* null ( None in Python)\n",
    "* arrays ( list in Python)\n",
    "* Nested JSON objects"
   ]
  },
  {
   "cell_type": "markdown",
   "metadata": {},
   "source": [
    "#### 7.3 Serialization and Deserialization\n",
    "The process of converting Python objects into other readble format (JSON) is known as `serialization`. The process of converting external file format (JSON) into Python readable format is known as `deserialization`. "
   ]
  },
  {
   "cell_type": "code",
   "execution_count": 5,
   "metadata": {},
   "outputs": [],
   "source": [
    "person_dict = {'personal_info': [\n",
    "    {'id':1, 'name':'John','address': '123 1st Street, CA'},\n",
    "    {'id':2, 'name':'Harry','address': '34 2nd Street, TX'},\n",
    "    {'id':3, 'name':'Marry','address': '897 No Street, MA'}\n",
    "]}\n",
    "\n",
    "# Serializing Object to JSON\n",
    "import json\n",
    "with open('person.json','w') as person_info:\n",
    "    json.dump(person_dict, person_info)"
   ]
  },
  {
   "cell_type": "code",
   "execution_count": 6,
   "metadata": {},
   "outputs": [
    {
     "name": "stdout",
     "output_type": "stream",
     "text": [
      "{\"personal_info\": [{\"id\": 1, \"name\": \"John\", \"address\": \"123 1st Street, CA\"}, {\"id\": 2, \"name\": \"Harry\", \"address\": \"34 2nd Street, TX\"}, {\"id\": 3, \"name\": \"Marry\", \"address\": \"897 No Street, MA\"}]}"
     ]
    }
   ],
   "source": [
    "!cat person.json"
   ]
  },
  {
   "cell_type": "code",
   "execution_count": 7,
   "metadata": {},
   "outputs": [
    {
     "data": {
      "text/plain": [
       "{'personal_info': [{'id': 1, 'name': 'John', 'address': '123 1st Street, CA'},\n",
       "  {'id': 2, 'name': 'Harry', 'address': '34 2nd Street, TX'},\n",
       "  {'id': 3, 'name': 'Marry', 'address': '897 No Street, MA'}]}"
      ]
     },
     "execution_count": 7,
     "metadata": {},
     "output_type": "execute_result"
    }
   ],
   "source": [
    "# Deserializing JSON\n",
    "with open('person.json','r') as pf:\n",
    "    person_data = json.load(pf)\n",
    "person_data"
   ]
  },
  {
   "cell_type": "markdown",
   "metadata": {},
   "source": [
    "#### 6.7 Exception Handling\n",
    "Exception are the errors detected during the execution of the program. There are various type of exceptions$^3$ such as ZeroDivisionError, ValueError, NameError, TypeError, FileNotFoundError, PermissionsError etc.  \n",
    "\n",
    "**ZeroDivisionError**:  Occurs when number is divided by 0 it raise ZeroDivisionError.  \n",
    "**ValueError**: Occurs when converting string to integer."
   ]
  },
  {
   "cell_type": "code",
   "execution_count": 8,
   "metadata": {},
   "outputs": [
    {
     "ename": "ZeroDivisionError",
     "evalue": "division by zero",
     "output_type": "error",
     "traceback": [
      "\u001b[0;31m---------------------------------------------------------------------------\u001b[0m",
      "\u001b[0;31mZeroDivisionError\u001b[0m                         Traceback (most recent call last)",
      "\u001b[0;32m<ipython-input-8-012fa6b14872>\u001b[0m in \u001b[0;36m<module>\u001b[0;34m\u001b[0m\n\u001b[1;32m      1\u001b[0m \u001b[0;31m# ZeroDivisionError\u001b[0m\u001b[0;34m\u001b[0m\u001b[0;34m\u001b[0m\u001b[0;34m\u001b[0m\u001b[0m\n\u001b[0;32m----> 2\u001b[0;31m \u001b[0;36m5\u001b[0m\u001b[0;34m/\u001b[0m\u001b[0;36m0\u001b[0m\u001b[0;34m\u001b[0m\u001b[0;34m\u001b[0m\u001b[0m\n\u001b[0m",
      "\u001b[0;31mZeroDivisionError\u001b[0m: division by zero"
     ]
    }
   ],
   "source": [
    "# ZeroDivisionError\n",
    "5/0"
   ]
  },
  {
   "cell_type": "code",
   "execution_count": 9,
   "metadata": {},
   "outputs": [
    {
     "name": "stdout",
     "output_type": "stream",
     "text": [
      "Enter age: Name\n"
     ]
    },
    {
     "ename": "ValueError",
     "evalue": "invalid literal for int() with base 10: 'Name'",
     "output_type": "error",
     "traceback": [
      "\u001b[0;31m---------------------------------------------------------------------------\u001b[0m",
      "\u001b[0;31mValueError\u001b[0m                                Traceback (most recent call last)",
      "\u001b[0;32m<ipython-input-9-29f101ee04b3>\u001b[0m in \u001b[0;36m<module>\u001b[0;34m\u001b[0m\n\u001b[1;32m      1\u001b[0m \u001b[0;31m# ValueError\u001b[0m\u001b[0;34m\u001b[0m\u001b[0;34m\u001b[0m\u001b[0;34m\u001b[0m\u001b[0m\n\u001b[0;32m----> 2\u001b[0;31m \u001b[0mage\u001b[0m \u001b[0;34m=\u001b[0m \u001b[0mint\u001b[0m\u001b[0;34m(\u001b[0m\u001b[0minput\u001b[0m\u001b[0;34m(\u001b[0m\u001b[0;34m'Enter age: '\u001b[0m\u001b[0;34m)\u001b[0m\u001b[0;34m)\u001b[0m\u001b[0;34m\u001b[0m\u001b[0;34m\u001b[0m\u001b[0m\n\u001b[0m",
      "\u001b[0;31mValueError\u001b[0m: invalid literal for int() with base 10: 'Name'"
     ]
    }
   ],
   "source": [
    "# ValueError\n",
    "age = int(input('Enter age: '))"
   ]
  },
  {
   "cell_type": "markdown",
   "metadata": {},
   "source": [
    "**Exception should be handled in program to run with error-free execution.**"
   ]
  },
  {
   "cell_type": "markdown",
   "metadata": {},
   "source": [
    "#### 7.5.1 try Statements\n",
    "**`try`**:`try` statement enable exception handling. The `try` clause starts with `try` followed by colon(:). The statement inside `try` are possible candidate to raise exceptions.  \n",
    "**`except`**:`try` clause can be followed by one or more `except` clauses. These `except` clause specifies the type of exception to handle. It is also called `exception handlers`.  \n",
    "**`else`**:`else` clause are optional and it's statement is executes if the code in the `try` clause did not raise exception.\n",
    "\n",
    "Syntax of `try` and `except`:  \n",
    "`\n",
    "try:  \n",
    "    statement-1  \n",
    "    statement-N  \n",
    "except:\n",
    "    exception handling  \n",
    "`\n",
    "\n",
    "**Working Mechanism**  \n",
    "* try-except: The error are handled with the use of exception which are caught in `try` blocks and handled in `except` blocks. If an error in encountered in `try` block then the execution of code will be stopped and tranferred to `except` block. The `except` blocks statement will be excecuted and provide the type of exception message of information related to the error.  \n",
    "\n",
    "* try..except..else: `else` clause in `try-expect` statement will execute if and only if the `try` clause did not raise an exception. The exceution of `else` statement depend upon the execution of `try` block. If there will be no exception then `else` statement will be executed otherwise it will be ignored."
   ]
  },
  {
   "cell_type": "code",
   "execution_count": 10,
   "metadata": {},
   "outputs": [
    {
     "name": "stdout",
     "output_type": "stream",
     "text": [
      "Enter first number:50\n",
      "Enter second number:0\n",
      "The denominator is zero. Number cannot be divisible by zero value.\n"
     ]
    }
   ],
   "source": [
    "try:\n",
    "    first_value = int(input(\"Enter first number:\"))\n",
    "    second_value = int(input(\"Enter second number:\"))\n",
    "    summation = first_value / second_value\n",
    "except ValueError:\n",
    "    print(\"\\tERROR:Only integer values are accepted.\")\n",
    "    print(\"\\tEnd of execution\")\n",
    "except ZeroDivisionError:\n",
    "    print('The denominator is zero. Number cannot be divisible by zero value.')\n",
    "else:\n",
    "    print(f'{first_value:.3f} / {second_value:.3f} = {summation:.3f}')"
   ]
  },
  {
   "cell_type": "markdown",
   "metadata": {},
   "source": [
    "Python intetpreter will search for the matching raised exception. If if don't find exception handler then `stack unwinding` occurs."
   ]
  },
  {
   "cell_type": "markdown",
   "metadata": {},
   "source": [
    "#### 7.5.2 except Multiple Exceptions\n",
    "**Catching Multiple Exception in `except`**:  \n",
    "Multiple exception can be handled in single `except` clauses. The exception types are specified in tuple in single `except` handler.\n",
    "\n",
    "Syntax:  \n",
    "`\n",
    "try:  \n",
    "    statement-1  \n",
    "    statement-N  \n",
    "except (Exception1, Exception-2, ..., Exception-N) as variable_name:\n",
    "    statement-1\n",
    "    statement-N\n",
    "`\n",
    "\n",
    "The `as` is optional in above statement.\n",
    "\n",
    "For example:  \n",
    "`except(RunTimeError, TypeError, NameError):`"
   ]
  },
  {
   "cell_type": "markdown",
   "metadata": {},
   "source": [
    "#### 7.5.3 finally clause\n",
    "`try` clause can have `finally` clause after `except` or `else` clause. `finally` clause always execute after terminating the `try` blocks.They are mostly used for releasing external resources such as files, network connections, database connnections etc.\n",
    "\n",
    "Syntax:  \n",
    "`\n",
    "try:  \n",
    "    statement-1  \n",
    "    statement-N  \n",
    "except:\n",
    "    exception handling  \n",
    "else:\n",
    "    statement-1\n",
    "    statement-N\n",
    "finally:\n",
    "    statement-1\n",
    "    statement-N\n",
    "`"
   ]
  },
  {
   "cell_type": "code",
   "execution_count": 11,
   "metadata": {},
   "outputs": [
    {
     "name": "stdout",
     "output_type": "stream",
     "text": [
      "Enter first number:10\n",
      "Enter second number:20\n",
      "10.000 / 20.000 = 0.500\n",
      "Thanks you!\n"
     ]
    }
   ],
   "source": [
    "try:\n",
    "    first_value = int(input(\"Enter first number:\"))\n",
    "    second_value = int(input(\"Enter second number:\"))\n",
    "    summation = first_value / second_value\n",
    "except ValueError:\n",
    "    print(\"\\tERROR:Only integer values are accepted.\")\n",
    "    print(\"\\tEnd of execution\")\n",
    "except ZeroDivisionError:\n",
    "    print('The denominator is zero. Number cannot be divisible by zero value.')\n",
    "else:\n",
    "    print(f'{first_value:.3f} / {second_value:.3f} = {summation:.3f}')\n",
    "finally:\n",
    "    print(\"Thanks you!\")    "
   ]
  },
  {
   "cell_type": "markdown",
   "metadata": {},
   "source": [
    "#### 7.6 raising Exception\n",
    "`raise` clause is used to explicitly raise an exceptions. The `raise` clause will create an object of exception class.  \n",
    "\n",
    "Syntax:  \n",
    "` raise ExceptionClassName`"
   ]
  },
  {
   "cell_type": "code",
   "execution_count": 12,
   "metadata": {},
   "outputs": [
    {
     "name": "stdout",
     "output_type": "stream",
     "text": [
      "Enter the amount to withdraw:2000\n",
      "Your current saving account amount is 3000\n",
      "Have a nice day.\n"
     ]
    }
   ],
   "source": [
    "try:\n",
    "    saving_account_amount = 5000\n",
    "    daily_amount_limit = 1000\n",
    "    withdraw_amount = int(input(\"Enter the amount to withdraw:\"))    \n",
    "    if withdraw_amount > saving_account_amount:\n",
    "        error_msg = \"ERROR: \" + str(withdraw_amount) + ' should not exceed ' + str(saving_account_amount)\n",
    "        raise Exception(error_msg)\n",
    "    elif (withdraw_amount > saving_account_amount) and (withdraw_amount > daily_amount_limit):\n",
    "        error_msg = 'ERROR: Cannot withdraw more than ' + str(daily_amount_limit)\n",
    "        raise Exception(error_msg)\n",
    "except ValueError:\n",
    "    print('ERROR:Not a valid amount {}.'.format(withdraw_amount))\n",
    "else:\n",
    "    saving_account_amount -=withdraw_amount\n",
    "    print('Your current saving account amount is {}'.format(saving_account_amount))\n",
    "finally:\n",
    "    print(\"Have a nice day.\")    "
   ]
  },
  {
   "cell_type": "markdown",
   "metadata": {},
   "source": [
    "#### 7.7 custom Exception\n",
    "Exception can also be defined based on user requirement. These types of exception are known as user-defined exceptions. User defined exception are created by defining new class. All the user exception class need to be derived from `Exception` class.\n",
    "\n",
    "**Python Built-in Exception**  \n",
    "\n",
    "| Exception Class |\tEvent |\n",
    "| ---------- | --------- |\n",
    "| Exception | Base class for all exceptions |\n",
    "| ArithmeticError | Raised when numeric calculations fails |\n",
    "| FloatingPointError | Raised when a floating point calculation fails |\n",
    "| ZeroDivisionError | Raised when division or modulo by zero takes place for all numeric types |\n",
    "| AssertionError | Raised when Assert statement fails |\n",
    "| OverflowError | Raised when result of an arithmetic operation is too large to be represented |\n",
    "| ImportError | Raised when the imported module is not found |\n",
    "| IndexError | Raised when index of a sequence is out of range |\n",
    "| KeyboardInterrupt | Raised when the user interrupts program execution, generally by pressing Ctrl+c |\n",
    "| IndentationError | Raised when there is incorrect indentation |\n",
    "| SyntaxError | Raised by parser when syntax error is encountered |\n",
    "| KeyError | Raised when the specified key is not found in the dictionary |\n",
    "| NameError | Raised when an identifier is not found in the local or global namespace |\n",
    "| TypeError | Raised when a function or operation is applied to an object of incorrect type |\n",
    "| ValueError | Raised when a function gets argument of correct type but improper value |\n",
    "| IOError | Raised when an input/ output operation fails |\n",
    "| RuntimeError | Raised when a generated error does not fall into any category |"
   ]
  },
  {
   "cell_type": "code",
   "execution_count": 13,
   "metadata": {},
   "outputs": [
    {
     "name": "stdout",
     "output_type": "stream",
     "text": [
      "Enter value:500\n"
     ]
    }
   ],
   "source": [
    "class Error(Exception):\n",
    "    \"\"\"Base class for exceptions\"\"\"\n",
    "    pass\n",
    "\n",
    "class AmountTooLargeError(Error):\n",
    "    \"\"\"Exception will raise when the withdraw amount is too large\"\"\"\n",
    "    \n",
    "    def __init__(self, value):\n",
    "        self.value = value\n",
    "        \n",
    "    def __str__(self):\n",
    "        return (repr(self.value))\n",
    "    \n",
    "    limit = 1000\n",
    "    try:\n",
    "        value = int(input(\"Enter value:\"))\n",
    "        if (value > limit):\n",
    "            raise AmountTooLargeError(\"The amount is too large than limit.\")\n",
    "    except AmountTooLargeError as e:\n",
    "        print(\"Error:\", e.value)"
   ]
  },
  {
   "cell_type": "code",
   "execution_count": 14,
   "metadata": {},
   "outputs": [
    {
     "name": "stdout",
     "output_type": "stream",
     "text": [
      "Enter the amount to withdraw:300\n",
      "Your current saving account amount is 4700\n",
      "Have a nice day.\n"
     ]
    }
   ],
   "source": [
    "try:\n",
    "    saving_account_amount = 5000\n",
    "    daily_amount_limit = 1000\n",
    "    withdraw_amount = int(input(\"Enter the amount to withdraw:\"))    \n",
    "    if withdraw_amount > saving_account_amount:\n",
    "        raise AmountTooLargeError\n",
    "except AmountTooLargeError:\n",
    "    print('ERROR: The amount is too large.')\n",
    "else:\n",
    "    saving_account_amount -=withdraw_amount\n",
    "    print('Your current saving account amount is {}'.format(saving_account_amount))\n",
    "finally:\n",
    "    print(\"Have a nice day.\")  "
   ]
  },
  {
   "cell_type": "markdown",
   "metadata": {},
   "source": [
    "**References**  \n",
    "$^1$ http://json.org  \n",
    "$^2$ https://docs.python.org/3/library/io.html  \n",
    "$^3$ https://docs.python.org/3/library/exceptions.html"
   ]
  }
 ],
 "metadata": {
  "kernelspec": {
   "display_name": "Python 3",
   "language": "python",
   "name": "python3"
  },
  "language_info": {
   "codemirror_mode": {
    "name": "ipython",
    "version": 3
   },
   "file_extension": ".py",
   "mimetype": "text/x-python",
   "name": "python",
   "nbconvert_exporter": "python",
   "pygments_lexer": "ipython3",
   "version": "3.7.3"
  }
 },
 "nbformat": 4,
 "nbformat_minor": 2
}
